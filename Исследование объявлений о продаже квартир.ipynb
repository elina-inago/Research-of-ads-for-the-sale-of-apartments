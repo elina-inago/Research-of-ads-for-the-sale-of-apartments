{
 "cells": [
  {
   "cell_type": "markdown",
   "metadata": {
    "toc": true
   },
   "source": [
    "<h1>Содержание<span class=\"tocSkip\"></span></h1>\n",
    "<div class=\"toc\"><ul class=\"toc-item\"><li><ul class=\"toc-item\"><li><span><a href=\"#Изучение-данных-из-файла\" data-toc-modified-id=\"Изучение-данных-из-файла-1\"><span class=\"toc-item-num\">1&nbsp;&nbsp;</span>Изучение данных из файла</a></span><ul class=\"toc-item\"><li><span><a href=\"#Вывод\" data-toc-modified-id=\"Вывод-1.1\"><span class=\"toc-item-num\">1.1&nbsp;&nbsp;</span>Вывод</a></span></li></ul></li><li><span><a href=\"#Предобработка-данных\" data-toc-modified-id=\"Предобработка-данных-2\"><span class=\"toc-item-num\">2&nbsp;&nbsp;</span>Предобработка данных</a></span></li><li><span><a href=\"#Расчёты-и-добавление-результатов-в-таблицу\" data-toc-modified-id=\"Расчёты-и-добавление-результатов-в-таблицу-3\"><span class=\"toc-item-num\">3&nbsp;&nbsp;</span>Расчёты и добавление результатов в таблицу</a></span></li><li><span><a href=\"#Исследовательский-анализ-данных\" data-toc-modified-id=\"Исследовательский-анализ-данных-4\"><span class=\"toc-item-num\">4&nbsp;&nbsp;</span>Исследовательский анализ данных</a></span></li><li><span><a href=\"#Общий-вывод\" data-toc-modified-id=\"Общий-вывод-5\"><span class=\"toc-item-num\">5&nbsp;&nbsp;</span>Общий вывод</a></span></li><li><span><a href=\"#Чек-лист-готовности-проекта\" data-toc-modified-id=\"Чек-лист-готовности-проекта-6\"><span class=\"toc-item-num\">6&nbsp;&nbsp;</span>Чек-лист готовности проекта</a></span></li></ul></div>"
   ]
  },
  {
   "cell_type": "markdown",
   "metadata": {},
   "source": [
    "# Исследование объявлений о продаже квартир\n",
    "\n",
    "В вашем распоряжении данные сервиса Яндекс.Недвижимость — архив объявлений о продаже квартир в Санкт-Петербурге и соседних населённых пунктах за несколько лет. Нужно научиться определять рыночную стоимость объектов недвижимости. Ваша задача — установить параметры. Это позволит построить автоматизированную систему: она отследит аномалии и мошенническую деятельность. \n",
    "\n",
    "По каждой квартире на продажу доступны два вида данных. Первые вписаны пользователем, вторые получены автоматически на основе картографических данных. Например, расстояние до центра, аэропорта, ближайшего парка и водоёма. "
   ]
  },
  {
   "cell_type": "markdown",
   "metadata": {},
   "source": [
    "## Изучение данных из файла"
   ]
  },
  {
   "cell_type": "markdown",
   "metadata": {},
   "source": [
    "Прочитаем файл data.csv из папки /datasets и сохраним его в переменной df и выведем на экран первые десять строк таблицы."
   ]
  },
  {
   "cell_type": "code",
   "execution_count": 1,
   "metadata": {
    "scrolled": false
   },
   "outputs": [
    {
     "data": {
      "text/html": [
       "<div>\n",
       "<style scoped>\n",
       "    .dataframe tbody tr th:only-of-type {\n",
       "        vertical-align: middle;\n",
       "    }\n",
       "\n",
       "    .dataframe tbody tr th {\n",
       "        vertical-align: top;\n",
       "    }\n",
       "\n",
       "    .dataframe thead th {\n",
       "        text-align: right;\n",
       "    }\n",
       "</style>\n",
       "<table border=\"1\" class=\"dataframe\">\n",
       "  <thead>\n",
       "    <tr style=\"text-align: right;\">\n",
       "      <th></th>\n",
       "      <th>total_images</th>\n",
       "      <th>last_price</th>\n",
       "      <th>total_area</th>\n",
       "      <th>first_day_exposition</th>\n",
       "      <th>rooms</th>\n",
       "      <th>ceiling_height</th>\n",
       "      <th>floors_total</th>\n",
       "      <th>living_area</th>\n",
       "      <th>floor</th>\n",
       "      <th>is_apartment</th>\n",
       "      <th>studio</th>\n",
       "      <th>open_plan</th>\n",
       "      <th>kitchen_area</th>\n",
       "      <th>balcony</th>\n",
       "      <th>locality_name</th>\n",
       "      <th>airports_nearest</th>\n",
       "      <th>cityCenters_nearest</th>\n",
       "      <th>parks_around3000</th>\n",
       "      <th>parks_nearest</th>\n",
       "      <th>ponds_around3000</th>\n",
       "      <th>ponds_nearest</th>\n",
       "      <th>days_exposition</th>\n",
       "    </tr>\n",
       "  </thead>\n",
       "  <tbody>\n",
       "    <tr>\n",
       "      <td>0</td>\n",
       "      <td>20</td>\n",
       "      <td>13000000.0</td>\n",
       "      <td>108.00</td>\n",
       "      <td>2019-03-07T00:00:00</td>\n",
       "      <td>3</td>\n",
       "      <td>2.70</td>\n",
       "      <td>16.0</td>\n",
       "      <td>51.00</td>\n",
       "      <td>8</td>\n",
       "      <td>NaN</td>\n",
       "      <td>False</td>\n",
       "      <td>False</td>\n",
       "      <td>25.00</td>\n",
       "      <td>NaN</td>\n",
       "      <td>Санкт-Петербург</td>\n",
       "      <td>18863.0</td>\n",
       "      <td>16028.0</td>\n",
       "      <td>1.0</td>\n",
       "      <td>482.0</td>\n",
       "      <td>2.0</td>\n",
       "      <td>755.0</td>\n",
       "      <td>NaN</td>\n",
       "    </tr>\n",
       "    <tr>\n",
       "      <td>1</td>\n",
       "      <td>7</td>\n",
       "      <td>3350000.0</td>\n",
       "      <td>40.40</td>\n",
       "      <td>2018-12-04T00:00:00</td>\n",
       "      <td>1</td>\n",
       "      <td>NaN</td>\n",
       "      <td>11.0</td>\n",
       "      <td>18.60</td>\n",
       "      <td>1</td>\n",
       "      <td>NaN</td>\n",
       "      <td>False</td>\n",
       "      <td>False</td>\n",
       "      <td>11.00</td>\n",
       "      <td>2.0</td>\n",
       "      <td>посёлок Шушары</td>\n",
       "      <td>12817.0</td>\n",
       "      <td>18603.0</td>\n",
       "      <td>0.0</td>\n",
       "      <td>NaN</td>\n",
       "      <td>0.0</td>\n",
       "      <td>NaN</td>\n",
       "      <td>81.0</td>\n",
       "    </tr>\n",
       "    <tr>\n",
       "      <td>2</td>\n",
       "      <td>10</td>\n",
       "      <td>5196000.0</td>\n",
       "      <td>56.00</td>\n",
       "      <td>2015-08-20T00:00:00</td>\n",
       "      <td>2</td>\n",
       "      <td>NaN</td>\n",
       "      <td>5.0</td>\n",
       "      <td>34.30</td>\n",
       "      <td>4</td>\n",
       "      <td>NaN</td>\n",
       "      <td>False</td>\n",
       "      <td>False</td>\n",
       "      <td>8.30</td>\n",
       "      <td>0.0</td>\n",
       "      <td>Санкт-Петербург</td>\n",
       "      <td>21741.0</td>\n",
       "      <td>13933.0</td>\n",
       "      <td>1.0</td>\n",
       "      <td>90.0</td>\n",
       "      <td>2.0</td>\n",
       "      <td>574.0</td>\n",
       "      <td>558.0</td>\n",
       "    </tr>\n",
       "    <tr>\n",
       "      <td>3</td>\n",
       "      <td>0</td>\n",
       "      <td>64900000.0</td>\n",
       "      <td>159.00</td>\n",
       "      <td>2015-07-24T00:00:00</td>\n",
       "      <td>3</td>\n",
       "      <td>NaN</td>\n",
       "      <td>14.0</td>\n",
       "      <td>NaN</td>\n",
       "      <td>9</td>\n",
       "      <td>NaN</td>\n",
       "      <td>False</td>\n",
       "      <td>False</td>\n",
       "      <td>NaN</td>\n",
       "      <td>0.0</td>\n",
       "      <td>Санкт-Петербург</td>\n",
       "      <td>28098.0</td>\n",
       "      <td>6800.0</td>\n",
       "      <td>2.0</td>\n",
       "      <td>84.0</td>\n",
       "      <td>3.0</td>\n",
       "      <td>234.0</td>\n",
       "      <td>424.0</td>\n",
       "    </tr>\n",
       "    <tr>\n",
       "      <td>4</td>\n",
       "      <td>2</td>\n",
       "      <td>10000000.0</td>\n",
       "      <td>100.00</td>\n",
       "      <td>2018-06-19T00:00:00</td>\n",
       "      <td>2</td>\n",
       "      <td>3.03</td>\n",
       "      <td>14.0</td>\n",
       "      <td>32.00</td>\n",
       "      <td>13</td>\n",
       "      <td>NaN</td>\n",
       "      <td>False</td>\n",
       "      <td>False</td>\n",
       "      <td>41.00</td>\n",
       "      <td>NaN</td>\n",
       "      <td>Санкт-Петербург</td>\n",
       "      <td>31856.0</td>\n",
       "      <td>8098.0</td>\n",
       "      <td>2.0</td>\n",
       "      <td>112.0</td>\n",
       "      <td>1.0</td>\n",
       "      <td>48.0</td>\n",
       "      <td>121.0</td>\n",
       "    </tr>\n",
       "    <tr>\n",
       "      <td>5</td>\n",
       "      <td>10</td>\n",
       "      <td>2890000.0</td>\n",
       "      <td>30.40</td>\n",
       "      <td>2018-09-10T00:00:00</td>\n",
       "      <td>1</td>\n",
       "      <td>NaN</td>\n",
       "      <td>12.0</td>\n",
       "      <td>14.40</td>\n",
       "      <td>5</td>\n",
       "      <td>NaN</td>\n",
       "      <td>False</td>\n",
       "      <td>False</td>\n",
       "      <td>9.10</td>\n",
       "      <td>NaN</td>\n",
       "      <td>городской посёлок Янино-1</td>\n",
       "      <td>NaN</td>\n",
       "      <td>NaN</td>\n",
       "      <td>NaN</td>\n",
       "      <td>NaN</td>\n",
       "      <td>NaN</td>\n",
       "      <td>NaN</td>\n",
       "      <td>55.0</td>\n",
       "    </tr>\n",
       "    <tr>\n",
       "      <td>6</td>\n",
       "      <td>6</td>\n",
       "      <td>3700000.0</td>\n",
       "      <td>37.30</td>\n",
       "      <td>2017-11-02T00:00:00</td>\n",
       "      <td>1</td>\n",
       "      <td>NaN</td>\n",
       "      <td>26.0</td>\n",
       "      <td>10.60</td>\n",
       "      <td>6</td>\n",
       "      <td>NaN</td>\n",
       "      <td>False</td>\n",
       "      <td>False</td>\n",
       "      <td>14.40</td>\n",
       "      <td>1.0</td>\n",
       "      <td>посёлок Парголово</td>\n",
       "      <td>52996.0</td>\n",
       "      <td>19143.0</td>\n",
       "      <td>0.0</td>\n",
       "      <td>NaN</td>\n",
       "      <td>0.0</td>\n",
       "      <td>NaN</td>\n",
       "      <td>155.0</td>\n",
       "    </tr>\n",
       "    <tr>\n",
       "      <td>7</td>\n",
       "      <td>5</td>\n",
       "      <td>7915000.0</td>\n",
       "      <td>71.60</td>\n",
       "      <td>2019-04-18T00:00:00</td>\n",
       "      <td>2</td>\n",
       "      <td>NaN</td>\n",
       "      <td>24.0</td>\n",
       "      <td>NaN</td>\n",
       "      <td>22</td>\n",
       "      <td>NaN</td>\n",
       "      <td>False</td>\n",
       "      <td>False</td>\n",
       "      <td>18.90</td>\n",
       "      <td>2.0</td>\n",
       "      <td>Санкт-Петербург</td>\n",
       "      <td>23982.0</td>\n",
       "      <td>11634.0</td>\n",
       "      <td>0.0</td>\n",
       "      <td>NaN</td>\n",
       "      <td>0.0</td>\n",
       "      <td>NaN</td>\n",
       "      <td>NaN</td>\n",
       "    </tr>\n",
       "    <tr>\n",
       "      <td>8</td>\n",
       "      <td>20</td>\n",
       "      <td>2900000.0</td>\n",
       "      <td>33.16</td>\n",
       "      <td>2018-05-23T00:00:00</td>\n",
       "      <td>1</td>\n",
       "      <td>NaN</td>\n",
       "      <td>27.0</td>\n",
       "      <td>15.43</td>\n",
       "      <td>26</td>\n",
       "      <td>NaN</td>\n",
       "      <td>False</td>\n",
       "      <td>False</td>\n",
       "      <td>8.81</td>\n",
       "      <td>NaN</td>\n",
       "      <td>посёлок Мурино</td>\n",
       "      <td>NaN</td>\n",
       "      <td>NaN</td>\n",
       "      <td>NaN</td>\n",
       "      <td>NaN</td>\n",
       "      <td>NaN</td>\n",
       "      <td>NaN</td>\n",
       "      <td>189.0</td>\n",
       "    </tr>\n",
       "    <tr>\n",
       "      <td>9</td>\n",
       "      <td>18</td>\n",
       "      <td>5400000.0</td>\n",
       "      <td>61.00</td>\n",
       "      <td>2017-02-26T00:00:00</td>\n",
       "      <td>3</td>\n",
       "      <td>2.50</td>\n",
       "      <td>9.0</td>\n",
       "      <td>43.60</td>\n",
       "      <td>7</td>\n",
       "      <td>NaN</td>\n",
       "      <td>False</td>\n",
       "      <td>False</td>\n",
       "      <td>6.50</td>\n",
       "      <td>2.0</td>\n",
       "      <td>Санкт-Петербург</td>\n",
       "      <td>50898.0</td>\n",
       "      <td>15008.0</td>\n",
       "      <td>0.0</td>\n",
       "      <td>NaN</td>\n",
       "      <td>0.0</td>\n",
       "      <td>NaN</td>\n",
       "      <td>289.0</td>\n",
       "    </tr>\n",
       "  </tbody>\n",
       "</table>\n",
       "</div>"
      ],
      "text/plain": [
       "   total_images  last_price  total_area first_day_exposition  rooms  \\\n",
       "0            20  13000000.0      108.00  2019-03-07T00:00:00      3   \n",
       "1             7   3350000.0       40.40  2018-12-04T00:00:00      1   \n",
       "2            10   5196000.0       56.00  2015-08-20T00:00:00      2   \n",
       "3             0  64900000.0      159.00  2015-07-24T00:00:00      3   \n",
       "4             2  10000000.0      100.00  2018-06-19T00:00:00      2   \n",
       "5            10   2890000.0       30.40  2018-09-10T00:00:00      1   \n",
       "6             6   3700000.0       37.30  2017-11-02T00:00:00      1   \n",
       "7             5   7915000.0       71.60  2019-04-18T00:00:00      2   \n",
       "8            20   2900000.0       33.16  2018-05-23T00:00:00      1   \n",
       "9            18   5400000.0       61.00  2017-02-26T00:00:00      3   \n",
       "\n",
       "   ceiling_height  floors_total  living_area  floor is_apartment  studio  \\\n",
       "0            2.70          16.0        51.00      8          NaN   False   \n",
       "1             NaN          11.0        18.60      1          NaN   False   \n",
       "2             NaN           5.0        34.30      4          NaN   False   \n",
       "3             NaN          14.0          NaN      9          NaN   False   \n",
       "4            3.03          14.0        32.00     13          NaN   False   \n",
       "5             NaN          12.0        14.40      5          NaN   False   \n",
       "6             NaN          26.0        10.60      6          NaN   False   \n",
       "7             NaN          24.0          NaN     22          NaN   False   \n",
       "8             NaN          27.0        15.43     26          NaN   False   \n",
       "9            2.50           9.0        43.60      7          NaN   False   \n",
       "\n",
       "   open_plan  kitchen_area  balcony              locality_name  \\\n",
       "0      False         25.00      NaN            Санкт-Петербург   \n",
       "1      False         11.00      2.0             посёлок Шушары   \n",
       "2      False          8.30      0.0            Санкт-Петербург   \n",
       "3      False           NaN      0.0            Санкт-Петербург   \n",
       "4      False         41.00      NaN            Санкт-Петербург   \n",
       "5      False          9.10      NaN  городской посёлок Янино-1   \n",
       "6      False         14.40      1.0          посёлок Парголово   \n",
       "7      False         18.90      2.0            Санкт-Петербург   \n",
       "8      False          8.81      NaN             посёлок Мурино   \n",
       "9      False          6.50      2.0            Санкт-Петербург   \n",
       "\n",
       "   airports_nearest  cityCenters_nearest  parks_around3000  parks_nearest  \\\n",
       "0           18863.0              16028.0               1.0          482.0   \n",
       "1           12817.0              18603.0               0.0            NaN   \n",
       "2           21741.0              13933.0               1.0           90.0   \n",
       "3           28098.0               6800.0               2.0           84.0   \n",
       "4           31856.0               8098.0               2.0          112.0   \n",
       "5               NaN                  NaN               NaN            NaN   \n",
       "6           52996.0              19143.0               0.0            NaN   \n",
       "7           23982.0              11634.0               0.0            NaN   \n",
       "8               NaN                  NaN               NaN            NaN   \n",
       "9           50898.0              15008.0               0.0            NaN   \n",
       "\n",
       "   ponds_around3000  ponds_nearest  days_exposition  \n",
       "0               2.0          755.0              NaN  \n",
       "1               0.0            NaN             81.0  \n",
       "2               2.0          574.0            558.0  \n",
       "3               3.0          234.0            424.0  \n",
       "4               1.0           48.0            121.0  \n",
       "5               NaN            NaN             55.0  \n",
       "6               0.0            NaN            155.0  \n",
       "7               0.0            NaN              NaN  \n",
       "8               NaN            NaN            189.0  \n",
       "9               0.0            NaN            289.0  "
      ]
     },
     "execution_count": 1,
     "metadata": {},
     "output_type": "execute_result"
    }
   ],
   "source": [
    "import pandas as pd\n",
    "import seaborn as sns\n",
    "import matplotlib.pyplot as plt\n",
    "import numpy as np\n",
    "pd.set_option('display.max_columns', None)\n",
    "df = pd.read_csv('/datasets/real_estate_data.csv', sep='\\t')\n",
    "df.head(10)"
   ]
  },
  {
   "cell_type": "code",
   "execution_count": 2,
   "metadata": {},
   "outputs": [
    {
     "data": {
      "text/html": [
       "<div>\n",
       "<style scoped>\n",
       "    .dataframe tbody tr th:only-of-type {\n",
       "        vertical-align: middle;\n",
       "    }\n",
       "\n",
       "    .dataframe tbody tr th {\n",
       "        vertical-align: top;\n",
       "    }\n",
       "\n",
       "    .dataframe thead th {\n",
       "        text-align: right;\n",
       "    }\n",
       "</style>\n",
       "<table border=\"1\" class=\"dataframe\">\n",
       "  <thead>\n",
       "    <tr style=\"text-align: right;\">\n",
       "      <th></th>\n",
       "      <th>total_images</th>\n",
       "      <th>last_price</th>\n",
       "      <th>total_area</th>\n",
       "      <th>rooms</th>\n",
       "      <th>ceiling_height</th>\n",
       "      <th>floors_total</th>\n",
       "      <th>living_area</th>\n",
       "      <th>floor</th>\n",
       "      <th>kitchen_area</th>\n",
       "      <th>balcony</th>\n",
       "      <th>airports_nearest</th>\n",
       "      <th>cityCenters_nearest</th>\n",
       "      <th>parks_around3000</th>\n",
       "      <th>parks_nearest</th>\n",
       "      <th>ponds_around3000</th>\n",
       "      <th>ponds_nearest</th>\n",
       "      <th>days_exposition</th>\n",
       "    </tr>\n",
       "  </thead>\n",
       "  <tbody>\n",
       "    <tr>\n",
       "      <td>count</td>\n",
       "      <td>23699.000000</td>\n",
       "      <td>2.369900e+04</td>\n",
       "      <td>23699.000000</td>\n",
       "      <td>23699.000000</td>\n",
       "      <td>14504.000000</td>\n",
       "      <td>23613.000000</td>\n",
       "      <td>21796.000000</td>\n",
       "      <td>23699.000000</td>\n",
       "      <td>21421.000000</td>\n",
       "      <td>12180.000000</td>\n",
       "      <td>18157.000000</td>\n",
       "      <td>18180.000000</td>\n",
       "      <td>18181.000000</td>\n",
       "      <td>8079.000000</td>\n",
       "      <td>18181.000000</td>\n",
       "      <td>9110.000000</td>\n",
       "      <td>20518.000000</td>\n",
       "    </tr>\n",
       "    <tr>\n",
       "      <td>mean</td>\n",
       "      <td>9.858475</td>\n",
       "      <td>6.541549e+06</td>\n",
       "      <td>60.348651</td>\n",
       "      <td>2.070636</td>\n",
       "      <td>2.771499</td>\n",
       "      <td>10.673824</td>\n",
       "      <td>34.457852</td>\n",
       "      <td>5.892358</td>\n",
       "      <td>10.569807</td>\n",
       "      <td>1.150082</td>\n",
       "      <td>28793.672193</td>\n",
       "      <td>14191.277833</td>\n",
       "      <td>0.611408</td>\n",
       "      <td>490.804555</td>\n",
       "      <td>0.770255</td>\n",
       "      <td>517.980900</td>\n",
       "      <td>180.888634</td>\n",
       "    </tr>\n",
       "    <tr>\n",
       "      <td>std</td>\n",
       "      <td>5.682529</td>\n",
       "      <td>1.088701e+07</td>\n",
       "      <td>35.654083</td>\n",
       "      <td>1.078405</td>\n",
       "      <td>1.261056</td>\n",
       "      <td>6.597173</td>\n",
       "      <td>22.030445</td>\n",
       "      <td>4.885249</td>\n",
       "      <td>5.905438</td>\n",
       "      <td>1.071300</td>\n",
       "      <td>12630.880622</td>\n",
       "      <td>8608.386210</td>\n",
       "      <td>0.802074</td>\n",
       "      <td>342.317995</td>\n",
       "      <td>0.938346</td>\n",
       "      <td>277.720643</td>\n",
       "      <td>219.727988</td>\n",
       "    </tr>\n",
       "    <tr>\n",
       "      <td>min</td>\n",
       "      <td>0.000000</td>\n",
       "      <td>1.219000e+04</td>\n",
       "      <td>12.000000</td>\n",
       "      <td>0.000000</td>\n",
       "      <td>1.000000</td>\n",
       "      <td>1.000000</td>\n",
       "      <td>2.000000</td>\n",
       "      <td>1.000000</td>\n",
       "      <td>1.300000</td>\n",
       "      <td>0.000000</td>\n",
       "      <td>0.000000</td>\n",
       "      <td>181.000000</td>\n",
       "      <td>0.000000</td>\n",
       "      <td>1.000000</td>\n",
       "      <td>0.000000</td>\n",
       "      <td>13.000000</td>\n",
       "      <td>1.000000</td>\n",
       "    </tr>\n",
       "    <tr>\n",
       "      <td>25%</td>\n",
       "      <td>6.000000</td>\n",
       "      <td>3.400000e+06</td>\n",
       "      <td>40.000000</td>\n",
       "      <td>1.000000</td>\n",
       "      <td>2.520000</td>\n",
       "      <td>5.000000</td>\n",
       "      <td>18.600000</td>\n",
       "      <td>2.000000</td>\n",
       "      <td>7.000000</td>\n",
       "      <td>0.000000</td>\n",
       "      <td>18585.000000</td>\n",
       "      <td>9238.000000</td>\n",
       "      <td>0.000000</td>\n",
       "      <td>288.000000</td>\n",
       "      <td>0.000000</td>\n",
       "      <td>294.000000</td>\n",
       "      <td>45.000000</td>\n",
       "    </tr>\n",
       "    <tr>\n",
       "      <td>50%</td>\n",
       "      <td>9.000000</td>\n",
       "      <td>4.650000e+06</td>\n",
       "      <td>52.000000</td>\n",
       "      <td>2.000000</td>\n",
       "      <td>2.650000</td>\n",
       "      <td>9.000000</td>\n",
       "      <td>30.000000</td>\n",
       "      <td>4.000000</td>\n",
       "      <td>9.100000</td>\n",
       "      <td>1.000000</td>\n",
       "      <td>26726.000000</td>\n",
       "      <td>13098.500000</td>\n",
       "      <td>0.000000</td>\n",
       "      <td>455.000000</td>\n",
       "      <td>1.000000</td>\n",
       "      <td>502.000000</td>\n",
       "      <td>95.000000</td>\n",
       "    </tr>\n",
       "    <tr>\n",
       "      <td>75%</td>\n",
       "      <td>14.000000</td>\n",
       "      <td>6.800000e+06</td>\n",
       "      <td>69.900000</td>\n",
       "      <td>3.000000</td>\n",
       "      <td>2.800000</td>\n",
       "      <td>16.000000</td>\n",
       "      <td>42.300000</td>\n",
       "      <td>8.000000</td>\n",
       "      <td>12.000000</td>\n",
       "      <td>2.000000</td>\n",
       "      <td>37273.000000</td>\n",
       "      <td>16293.000000</td>\n",
       "      <td>1.000000</td>\n",
       "      <td>612.000000</td>\n",
       "      <td>1.000000</td>\n",
       "      <td>729.000000</td>\n",
       "      <td>232.000000</td>\n",
       "    </tr>\n",
       "    <tr>\n",
       "      <td>max</td>\n",
       "      <td>50.000000</td>\n",
       "      <td>7.630000e+08</td>\n",
       "      <td>900.000000</td>\n",
       "      <td>19.000000</td>\n",
       "      <td>100.000000</td>\n",
       "      <td>60.000000</td>\n",
       "      <td>409.700000</td>\n",
       "      <td>33.000000</td>\n",
       "      <td>112.000000</td>\n",
       "      <td>5.000000</td>\n",
       "      <td>84869.000000</td>\n",
       "      <td>65968.000000</td>\n",
       "      <td>3.000000</td>\n",
       "      <td>3190.000000</td>\n",
       "      <td>3.000000</td>\n",
       "      <td>1344.000000</td>\n",
       "      <td>1580.000000</td>\n",
       "    </tr>\n",
       "  </tbody>\n",
       "</table>\n",
       "</div>"
      ],
      "text/plain": [
       "       total_images    last_price    total_area         rooms  ceiling_height  \\\n",
       "count  23699.000000  2.369900e+04  23699.000000  23699.000000    14504.000000   \n",
       "mean       9.858475  6.541549e+06     60.348651      2.070636        2.771499   \n",
       "std        5.682529  1.088701e+07     35.654083      1.078405        1.261056   \n",
       "min        0.000000  1.219000e+04     12.000000      0.000000        1.000000   \n",
       "25%        6.000000  3.400000e+06     40.000000      1.000000        2.520000   \n",
       "50%        9.000000  4.650000e+06     52.000000      2.000000        2.650000   \n",
       "75%       14.000000  6.800000e+06     69.900000      3.000000        2.800000   \n",
       "max       50.000000  7.630000e+08    900.000000     19.000000      100.000000   \n",
       "\n",
       "       floors_total   living_area         floor  kitchen_area       balcony  \\\n",
       "count  23613.000000  21796.000000  23699.000000  21421.000000  12180.000000   \n",
       "mean      10.673824     34.457852      5.892358     10.569807      1.150082   \n",
       "std        6.597173     22.030445      4.885249      5.905438      1.071300   \n",
       "min        1.000000      2.000000      1.000000      1.300000      0.000000   \n",
       "25%        5.000000     18.600000      2.000000      7.000000      0.000000   \n",
       "50%        9.000000     30.000000      4.000000      9.100000      1.000000   \n",
       "75%       16.000000     42.300000      8.000000     12.000000      2.000000   \n",
       "max       60.000000    409.700000     33.000000    112.000000      5.000000   \n",
       "\n",
       "       airports_nearest  cityCenters_nearest  parks_around3000  parks_nearest  \\\n",
       "count      18157.000000         18180.000000      18181.000000    8079.000000   \n",
       "mean       28793.672193         14191.277833          0.611408     490.804555   \n",
       "std        12630.880622          8608.386210          0.802074     342.317995   \n",
       "min            0.000000           181.000000          0.000000       1.000000   \n",
       "25%        18585.000000          9238.000000          0.000000     288.000000   \n",
       "50%        26726.000000         13098.500000          0.000000     455.000000   \n",
       "75%        37273.000000         16293.000000          1.000000     612.000000   \n",
       "max        84869.000000         65968.000000          3.000000    3190.000000   \n",
       "\n",
       "       ponds_around3000  ponds_nearest  days_exposition  \n",
       "count      18181.000000    9110.000000     20518.000000  \n",
       "mean           0.770255     517.980900       180.888634  \n",
       "std            0.938346     277.720643       219.727988  \n",
       "min            0.000000      13.000000         1.000000  \n",
       "25%            0.000000     294.000000        45.000000  \n",
       "50%            1.000000     502.000000        95.000000  \n",
       "75%            1.000000     729.000000       232.000000  \n",
       "max            3.000000    1344.000000      1580.000000  "
      ]
     },
     "execution_count": 2,
     "metadata": {},
     "output_type": "execute_result"
    }
   ],
   "source": [
    "df.describe()"
   ]
  },
  {
   "cell_type": "markdown",
   "metadata": {},
   "source": [
    "Одной командой получим общую информацию о таблице:"
   ]
  },
  {
   "cell_type": "code",
   "execution_count": 3,
   "metadata": {},
   "outputs": [
    {
     "name": "stdout",
     "output_type": "stream",
     "text": [
      "<class 'pandas.core.frame.DataFrame'>\n",
      "RangeIndex: 23699 entries, 0 to 23698\n",
      "Data columns (total 22 columns):\n",
      "total_images            23699 non-null int64\n",
      "last_price              23699 non-null float64\n",
      "total_area              23699 non-null float64\n",
      "first_day_exposition    23699 non-null object\n",
      "rooms                   23699 non-null int64\n",
      "ceiling_height          14504 non-null float64\n",
      "floors_total            23613 non-null float64\n",
      "living_area             21796 non-null float64\n",
      "floor                   23699 non-null int64\n",
      "is_apartment            2775 non-null object\n",
      "studio                  23699 non-null bool\n",
      "open_plan               23699 non-null bool\n",
      "kitchen_area            21421 non-null float64\n",
      "balcony                 12180 non-null float64\n",
      "locality_name           23650 non-null object\n",
      "airports_nearest        18157 non-null float64\n",
      "cityCenters_nearest     18180 non-null float64\n",
      "parks_around3000        18181 non-null float64\n",
      "parks_nearest           8079 non-null float64\n",
      "ponds_around3000        18181 non-null float64\n",
      "ponds_nearest           9110 non-null float64\n",
      "days_exposition         20518 non-null float64\n",
      "dtypes: bool(2), float64(14), int64(3), object(3)\n",
      "memory usage: 3.7+ MB\n"
     ]
    }
   ],
   "source": [
    "df.info()"
   ]
  },
  {
   "cell_type": "markdown",
   "metadata": {},
   "source": [
    "В таблице двадцать два столбца. Типы данных в столбцах — `bool`, `float`, `int`, `object`.\n",
    "\n",
    "Согласно документации к данным:\n",
    "* `airports_nearest` — расстояние до ближайшего аэропорта в метрах (м)\n",
    "* `balcony` — число балконов\n",
    "* `ceiling_height` — высота потолков (м)\n",
    "* `cityCenters_nearest` — расстояние до центра города (м)\n",
    "* `days_exposition` — сколько дней было размещено объявление (от публикации до снятия)\n",
    "* `first_day_exposition` — дата публикации\n",
    "* `floor` — этаж\n",
    "* `floors_total` — всего этажей в доме\n",
    "* `is_apartment` — апартаменты (булев тип)\n",
    "* `kitchen_area` — площадь кухни в квадратных метрах (м²)\n",
    "* `last_price` — цена на момент снятия с публикации\n",
    "* `living_area` — жилая площадь в квадратных метрах (м²)\n",
    "* `locality_name` — название населённого пункта\n",
    "* `open_plan` — свободная планировка (булев тип)\n",
    "* `parks_around3000` — число парков в радиусе 3 км\n",
    "* `parks_nearest` — расстояние до ближайшего парка (м)\n",
    "* `ponds_around3000` — число водоёмов в радиусе 3 км\n",
    "* `ponds_nearest` — расстояние до ближайшего водоёма (м)\n",
    "* `rooms` — число комнат\n",
    "* `studio` — квартира-студия (булев тип)\n",
    "* `total_area` — площадь квартиры в квадратных метрах (м²)\n",
    "* `total_images` — число фотографий квартиры в объявлении\n",
    "\n",
    "В данных встречаются два типа числовых данных, что может создать проблемы во время исследования.\n",
    "\n",
    "Количество значений в столбцах различается. Значит, в данных есть пропущенные значения.\n",
    "\n",
    "Дата и время в столбце `first_day_exposition` находится не в нужном формате, т.е. весомые данные в этом столбце это дата, а не время."
   ]
  },
  {
   "cell_type": "markdown",
   "metadata": {},
   "source": [
    "### Вывод"
   ]
  },
  {
   "cell_type": "markdown",
   "metadata": {},
   "source": [
    "В таблице — данные объявлений о продаже квартир в Санкт-Петербурге и соседних населённых пунктах за несколько лет.\n",
    "\n",
    "Предварительно можно утверждать, что, данных достаточно для проверки гипотез. Но встречаются пропуски в данных, два типа числовых значений. Так же следует изменить формат даты в столбце `first_day_exposition`.\n",
    "\n",
    "Устраним проблемы в данных."
   ]
  },
  {
   "cell_type": "markdown",
   "metadata": {},
   "source": [
    "## Предобработка данных"
   ]
  },
  {
   "cell_type": "code",
   "execution_count": 4,
   "metadata": {},
   "outputs": [
    {
     "data": {
      "text/plain": [
       "0"
      ]
     },
     "execution_count": 4,
     "metadata": {},
     "output_type": "execute_result"
    }
   ],
   "source": [
    "df.duplicated().sum()"
   ]
  },
  {
   "cell_type": "markdown",
   "metadata": {},
   "source": [
    "Дубликатов нет."
   ]
  },
  {
   "cell_type": "markdown",
   "metadata": {},
   "source": [
    "Посчитаем, сколько в таблице пропущенных значений и посмотрим где именно они пропущенны."
   ]
  },
  {
   "cell_type": "code",
   "execution_count": 5,
   "metadata": {},
   "outputs": [
    {
     "data": {
      "text/plain": [
       "total_images                0\n",
       "last_price                  0\n",
       "total_area                  0\n",
       "first_day_exposition        0\n",
       "rooms                       0\n",
       "ceiling_height           9195\n",
       "floors_total               86\n",
       "living_area              1903\n",
       "floor                       0\n",
       "is_apartment            20924\n",
       "studio                      0\n",
       "open_plan                   0\n",
       "kitchen_area             2278\n",
       "balcony                 11519\n",
       "locality_name              49\n",
       "airports_nearest         5542\n",
       "cityCenters_nearest      5519\n",
       "parks_around3000         5518\n",
       "parks_nearest           15620\n",
       "ponds_around3000         5518\n",
       "ponds_nearest           14589\n",
       "days_exposition          3181\n",
       "dtype: int64"
      ]
     },
     "metadata": {},
     "output_type": "display_data"
    }
   ],
   "source": [
    "display(df.isna().sum())"
   ]
  },
  {
   "cell_type": "markdown",
   "metadata": {},
   "source": [
    "Пропуски могли возникнуть по причине того, что люди просто не указали данные.\n",
    "\n",
    "Разберёмся с пропусками."
   ]
  },
  {
   "cell_type": "markdown",
   "metadata": {},
   "source": [
    "Заменим пропуски в days_exposition и заменим тип данных."
   ]
  },
  {
   "cell_type": "code",
   "execution_count": 6,
   "metadata": {},
   "outputs": [],
   "source": [
    "df['days_exposition'] = df['days_exposition'].fillna(0).astype('int')"
   ]
  },
  {
   "cell_type": "markdown",
   "metadata": {},
   "source": [
    "Разберёмся с пропусками в locality_name."
   ]
  },
  {
   "cell_type": "code",
   "execution_count": 7,
   "metadata": {
    "scrolled": true
   },
   "outputs": [
    {
     "data": {
      "text/plain": [
       "['Санкт-Петербург',\n",
       " 'посёлок Шушары',\n",
       " 'городской посёлок Янино-1',\n",
       " 'посёлок Парголово',\n",
       " 'посёлок Мурино',\n",
       " 'Ломоносов',\n",
       " 'Сертолово',\n",
       " 'Петергоф',\n",
       " 'Пушкин',\n",
       " 'деревня Кудрово',\n",
       " 'Коммунар',\n",
       " 'Колпино',\n",
       " 'поселок городского типа Красный Бор',\n",
       " 'Гатчина',\n",
       " 'поселок Мурино',\n",
       " 'деревня Фёдоровское',\n",
       " 'Выборг',\n",
       " 'Кронштадт',\n",
       " 'Кировск',\n",
       " 'деревня Новое Девяткино',\n",
       " 'посёлок Металлострой',\n",
       " 'посёлок городского типа Лебяжье',\n",
       " 'посёлок городского типа Сиверский',\n",
       " 'поселок Молодцово',\n",
       " 'поселок городского типа Кузьмоловский',\n",
       " 'садовое товарищество Новая Ропша',\n",
       " 'Павловск',\n",
       " 'деревня Пикколово',\n",
       " 'Всеволожск',\n",
       " 'Волхов',\n",
       " 'Кингисепп',\n",
       " 'Приозерск',\n",
       " 'Сестрорецк',\n",
       " 'деревня Куттузи',\n",
       " 'посёлок Аннино',\n",
       " 'поселок городского типа Ефимовский',\n",
       " 'посёлок Плодовое',\n",
       " 'деревня Заклинье',\n",
       " 'поселок Торковичи',\n",
       " 'поселок Первомайское',\n",
       " 'Красное Село',\n",
       " 'посёлок Понтонный',\n",
       " 'Сясьстрой',\n",
       " 'деревня Старая',\n",
       " 'деревня Лесколово',\n",
       " 'посёлок Новый Свет',\n",
       " 'Сланцы',\n",
       " 'село Путилово',\n",
       " 'Ивангород',\n",
       " 'Мурино',\n",
       " 'Шлиссельбург',\n",
       " 'Никольское',\n",
       " 'Зеленогорск',\n",
       " 'Сосновый Бор',\n",
       " 'поселок Новый Свет',\n",
       " 'деревня Оржицы',\n",
       " 'деревня Кальтино',\n",
       " 'Кудрово',\n",
       " 'поселок Романовка',\n",
       " 'посёлок Бугры',\n",
       " 'поселок Бугры',\n",
       " 'поселок городского типа Рощино',\n",
       " 'Кириши',\n",
       " 'Луга',\n",
       " 'Волосово',\n",
       " 'Отрадное',\n",
       " 'село Павлово',\n",
       " 'поселок Оредеж',\n",
       " 'село Копорье',\n",
       " 'посёлок городского типа Красный Бор',\n",
       " 'посёлок Молодёжное',\n",
       " 'Тихвин',\n",
       " 'посёлок Победа',\n",
       " 'деревня Нурма',\n",
       " 'поселок городского типа Синявино',\n",
       " 'Тосно',\n",
       " 'посёлок городского типа Кузьмоловский',\n",
       " 'посёлок Стрельна',\n",
       " 'Бокситогорск',\n",
       " 'посёлок Александровская',\n",
       " 'деревня Лопухинка',\n",
       " 'Пикалёво',\n",
       " 'поселок Терволово',\n",
       " 'поселок городского типа Советский',\n",
       " 'Подпорожье',\n",
       " 'посёлок Петровское',\n",
       " 'посёлок городского типа Токсово',\n",
       " 'поселок Сельцо',\n",
       " 'посёлок городского типа Вырица',\n",
       " 'деревня Кипень',\n",
       " 'деревня Келози',\n",
       " 'деревня Вартемяги',\n",
       " 'посёлок Тельмана',\n",
       " 'поселок Севастьяново',\n",
       " 'городской поселок Большая Ижора',\n",
       " nan,\n",
       " 'городской посёлок Павлово',\n",
       " 'деревня Агалатово',\n",
       " 'посёлок Новогорелово',\n",
       " 'городской посёлок Лесогорский',\n",
       " 'деревня Лаголово',\n",
       " 'поселок Цвелодубово',\n",
       " 'поселок городского типа Рахья',\n",
       " 'поселок городского типа Вырица',\n",
       " 'деревня Белогорка',\n",
       " 'поселок Заводской',\n",
       " 'городской посёлок Новоселье',\n",
       " 'деревня Большие Колпаны',\n",
       " 'деревня Горбунки',\n",
       " 'деревня Батово',\n",
       " 'деревня Заневка',\n",
       " 'деревня Иссад',\n",
       " 'Приморск',\n",
       " 'городской посёлок Фёдоровское',\n",
       " 'деревня Мистолово',\n",
       " 'Новая Ладога',\n",
       " 'поселок Зимитицы',\n",
       " 'поселок Барышево',\n",
       " 'деревня Разметелево',\n",
       " 'поселок городского типа имени Свердлова',\n",
       " 'деревня Пеники',\n",
       " 'поселок Рябово',\n",
       " 'деревня Пудомяги',\n",
       " 'поселок станции Корнево',\n",
       " 'деревня Низино',\n",
       " 'деревня Бегуницы',\n",
       " 'посёлок Поляны',\n",
       " 'городской посёлок Мга',\n",
       " 'поселок Елизаветино',\n",
       " 'посёлок городского типа Кузнечное',\n",
       " 'деревня Колтуши',\n",
       " 'поселок Запорожское',\n",
       " 'посёлок городского типа Рощино',\n",
       " 'деревня Гостилицы',\n",
       " 'деревня Малое Карлино',\n",
       " 'посёлок Мичуринское',\n",
       " 'посёлок городского типа имени Морозова',\n",
       " 'посёлок Песочный',\n",
       " 'посёлок Сосново',\n",
       " 'деревня Аро',\n",
       " 'поселок Ильичёво',\n",
       " 'посёлок городского типа Тайцы',\n",
       " 'деревня Малое Верево',\n",
       " 'деревня Извара',\n",
       " 'поселок станции Вещево',\n",
       " 'село Паша',\n",
       " 'деревня Калитино',\n",
       " 'посёлок городского типа Ульяновка',\n",
       " 'деревня Чудской Бор',\n",
       " 'поселок городского типа Дубровка',\n",
       " 'деревня Мины',\n",
       " 'поселок Войсковицы',\n",
       " 'посёлок городского типа имени Свердлова',\n",
       " 'деревня Коркино',\n",
       " 'посёлок Ропша',\n",
       " 'поселок городского типа Приладожский',\n",
       " 'посёлок Щеглово',\n",
       " 'посёлок Гаврилово',\n",
       " 'Лодейное Поле',\n",
       " 'деревня Рабитицы',\n",
       " 'поселок городского типа Никольский',\n",
       " 'деревня Кузьмолово',\n",
       " 'деревня Малые Колпаны',\n",
       " 'поселок Тельмана',\n",
       " 'посёлок Петро-Славянка',\n",
       " 'городской посёлок Назия',\n",
       " 'посёлок Репино',\n",
       " 'посёлок Ильичёво',\n",
       " 'поселок Углово',\n",
       " 'поселок Старая Малукса',\n",
       " 'садовое товарищество Рахья',\n",
       " 'поселок Аннино',\n",
       " 'поселок Победа',\n",
       " 'деревня Меньково',\n",
       " 'деревня Старые Бегуницы',\n",
       " 'посёлок Сапёрный',\n",
       " 'поселок Семрино',\n",
       " 'поселок Гаврилово',\n",
       " 'поселок Глажево',\n",
       " 'поселок Кобринское',\n",
       " 'деревня Гарболово',\n",
       " 'деревня Юкки',\n",
       " 'поселок станции Приветнинское',\n",
       " 'деревня Мануйлово',\n",
       " 'деревня Пчева',\n",
       " 'поселок Поляны',\n",
       " 'поселок Цвылёво',\n",
       " 'поселок Мельниково',\n",
       " 'посёлок Пудость',\n",
       " 'посёлок Усть-Луга',\n",
       " 'Светогорск',\n",
       " 'Любань',\n",
       " 'поселок Селезнёво',\n",
       " 'поселок городского типа Рябово',\n",
       " 'Каменногорск',\n",
       " 'деревня Кривко',\n",
       " 'поселок Глебычево',\n",
       " 'деревня Парицы',\n",
       " 'поселок Жилпосёлок',\n",
       " 'посёлок городского типа Мга',\n",
       " 'городской поселок Янино-1',\n",
       " 'посёлок Войскорово',\n",
       " 'село Никольское',\n",
       " 'посёлок Терволово',\n",
       " 'поселок Стеклянный',\n",
       " 'посёлок городского типа Важины',\n",
       " 'посёлок Мыза-Ивановка',\n",
       " 'село Русско-Высоцкое',\n",
       " 'поселок городского типа Лебяжье',\n",
       " 'поселок городского типа Форносово',\n",
       " 'село Старая Ладога',\n",
       " 'поселок Житково',\n",
       " 'городской посёлок Виллози',\n",
       " 'деревня Лампово',\n",
       " 'деревня Шпаньково',\n",
       " 'деревня Лаврики',\n",
       " 'посёлок Сумино',\n",
       " 'посёлок Возрождение',\n",
       " 'деревня Старосиверская',\n",
       " 'посёлок Кикерино',\n",
       " 'поселок Возрождение',\n",
       " 'деревня Старое Хинколово',\n",
       " 'посёлок Пригородный',\n",
       " 'посёлок Торфяное',\n",
       " 'городской посёлок Будогощь',\n",
       " 'поселок Суходолье',\n",
       " 'поселок Красная Долина',\n",
       " 'деревня Хапо-Ое',\n",
       " 'поселок городского типа Дружная Горка',\n",
       " 'поселок Лисий Нос',\n",
       " 'деревня Яльгелево',\n",
       " 'посёлок Стеклянный',\n",
       " 'село Рождествено',\n",
       " 'деревня Старополье',\n",
       " 'посёлок Левашово',\n",
       " 'деревня Сяськелево',\n",
       " 'деревня Камышовка',\n",
       " 'садоводческое некоммерческое товарищество Лесная Поляна',\n",
       " 'деревня Хязельки',\n",
       " 'поселок Жилгородок',\n",
       " 'посёлок городского типа Павлово',\n",
       " 'деревня Ялгино',\n",
       " 'поселок Новый Учхоз',\n",
       " 'городской посёлок Рощино',\n",
       " 'поселок Гончарово',\n",
       " 'поселок Почап',\n",
       " 'посёлок Сапёрное',\n",
       " 'посёлок Платформа 69-й километр',\n",
       " 'поселок Каложицы',\n",
       " 'деревня Фалилеево',\n",
       " 'деревня Пельгора',\n",
       " 'поселок городского типа Лесогорский',\n",
       " 'деревня Торошковичи',\n",
       " 'посёлок Белоостров',\n",
       " 'посёлок Алексеевка',\n",
       " 'поселок Серебрянский',\n",
       " 'поселок Лукаши',\n",
       " 'поселок Петровское',\n",
       " 'деревня Щеглово',\n",
       " 'поселок Мичуринское',\n",
       " 'деревня Тарасово',\n",
       " 'поселок Кингисеппский',\n",
       " 'посёлок при железнодорожной станции Вещево',\n",
       " 'поселок Ушаки',\n",
       " 'деревня Котлы',\n",
       " 'деревня Сижно',\n",
       " 'деревня Торосово',\n",
       " 'посёлок Форт Красная Горка',\n",
       " 'поселок городского типа Токсово',\n",
       " 'деревня Новолисино',\n",
       " 'посёлок станции Громово',\n",
       " 'деревня Глинка',\n",
       " 'посёлок Мельниково',\n",
       " 'поселок городского типа Назия',\n",
       " 'деревня Старая Пустошь',\n",
       " 'поселок Коммунары',\n",
       " 'поселок Починок',\n",
       " 'посёлок городского типа Вознесенье',\n",
       " 'деревня Разбегаево',\n",
       " 'посёлок городского типа Рябово',\n",
       " 'поселок Гладкое',\n",
       " 'посёлок при железнодорожной станции Приветнинское',\n",
       " 'поселок Тёсово-4',\n",
       " 'посёлок Жилгородок',\n",
       " 'деревня Бор',\n",
       " 'посёлок Коробицыно',\n",
       " 'деревня Большая Вруда',\n",
       " 'деревня Курковицы',\n",
       " 'посёлок Лисий Нос',\n",
       " 'городской посёлок Советский',\n",
       " 'посёлок Кобралово',\n",
       " 'деревня Суоранда',\n",
       " 'поселок Кобралово',\n",
       " 'поселок городского типа Кондратьево',\n",
       " 'коттеджный поселок Счастье',\n",
       " 'поселок Любань',\n",
       " 'деревня Реброво',\n",
       " 'деревня Зимитицы',\n",
       " 'деревня Тойворово',\n",
       " 'поселок Семиозерье',\n",
       " 'поселок Лесное',\n",
       " 'поселок Совхозный',\n",
       " 'поселок Усть-Луга',\n",
       " 'посёлок Ленинское',\n",
       " 'посёлок Суйда',\n",
       " 'посёлок городского типа Форносово',\n",
       " 'деревня Нижние Осельки',\n",
       " 'посёлок станции Свирь',\n",
       " 'поселок Перово',\n",
       " 'Высоцк',\n",
       " 'поселок Гарболово',\n",
       " 'село Шум',\n",
       " 'поселок Котельский',\n",
       " 'поселок станции Лужайка',\n",
       " 'деревня Большая Пустомержа',\n",
       " 'поселок Красносельское',\n",
       " 'деревня Вахнова Кара',\n",
       " 'деревня Пижма',\n",
       " 'коттеджный поселок Кивеннапа Север',\n",
       " 'поселок Коробицыно',\n",
       " 'поселок Ромашки',\n",
       " 'посёлок Перово',\n",
       " 'деревня Каськово',\n",
       " 'деревня Куровицы',\n",
       " 'посёлок Плоское',\n",
       " 'поселок Сумино',\n",
       " 'поселок городского типа Большая Ижора',\n",
       " 'поселок Кирпичное',\n",
       " 'деревня Ям-Тесово',\n",
       " 'деревня Раздолье',\n",
       " 'деревня Терпилицы',\n",
       " 'посёлок Шугозеро',\n",
       " 'деревня Ваганово',\n",
       " 'поселок Пушное',\n",
       " 'садовое товарищество Садко',\n",
       " 'посёлок Усть-Ижора',\n",
       " 'деревня Выскатка',\n",
       " 'городской посёлок Свирьстрой',\n",
       " 'поселок Громово',\n",
       " 'деревня Кисельня',\n",
       " 'посёлок Старая Малукса',\n",
       " 'деревня Трубников Бор',\n",
       " 'поселок Калитино',\n",
       " 'посёлок Высокоключевой',\n",
       " 'садовое товарищество Приладожский',\n",
       " 'посёлок Пансионат Зелёный Бор',\n",
       " 'деревня Ненимяки',\n",
       " 'поселок Пансионат Зелёный Бор',\n",
       " 'деревня Снегирёвка',\n",
       " 'деревня Рапполово',\n",
       " 'деревня Пустынка',\n",
       " 'поселок Рабитицы',\n",
       " 'деревня Большой Сабск',\n",
       " 'деревня Русско',\n",
       " 'деревня Лупполово',\n",
       " 'деревня Большое Рейзино',\n",
       " 'деревня Малая Романовка',\n",
       " 'поселок Дружноселье',\n",
       " 'поселок Пчевжа',\n",
       " 'поселок Володарское',\n",
       " 'деревня Нижняя',\n",
       " 'коттеджный посёлок Лесное',\n",
       " 'деревня Тихковицы',\n",
       " 'деревня Борисова Грива',\n",
       " 'посёлок Дзержинского']"
      ]
     },
     "execution_count": 7,
     "metadata": {},
     "output_type": "execute_result"
    }
   ],
   "source": [
    "df['locality_name'].unique().tolist()"
   ]
  },
  {
   "cell_type": "code",
   "execution_count": 8,
   "metadata": {},
   "outputs": [
    {
     "name": "stdout",
     "output_type": "stream",
     "text": [
      "Количество уникальных значений названий городов 365\n",
      "Количество уникальных значений названий городов приведённых к нижнему регистру 365\n"
     ]
    }
   ],
   "source": [
    "print('Количество уникальных значений названий городов',\n",
    "      len(df['locality_name'].unique()))\n",
    "df['locality_name'] = df['locality_name'].str.lower()\n",
    "\n",
    "print('Количество уникальных значений названий городов приведённых к нижнему регистру',\n",
    "      len(df['locality_name'].unique()))"
   ]
  },
  {
   "cell_type": "markdown",
   "metadata": {},
   "source": [
    "Приведение к нижнему регистру не сократило число уникальных значений, выведем названия городов."
   ]
  },
  {
   "cell_type": "markdown",
   "metadata": {},
   "source": [
    "В названиях можно заметить проблему с буквами е и ё. Заменим букву ё на е."
   ]
  },
  {
   "cell_type": "code",
   "execution_count": 9,
   "metadata": {},
   "outputs": [
    {
     "data": {
      "text/plain": [
       "331"
      ]
     },
     "execution_count": 9,
     "metadata": {},
     "output_type": "execute_result"
    }
   ],
   "source": [
    "df['locality_name'] = df['locality_name'].str.replace('ё', 'е', regex=True)\n",
    "len(df['locality_name'].unique())"
   ]
  },
  {
   "cell_type": "markdown",
   "metadata": {},
   "source": [
    "Число уникальных значений сократилось. Посмотрим на пропуски в столбце с названиями городов."
   ]
  },
  {
   "cell_type": "code",
   "execution_count": 10,
   "metadata": {},
   "outputs": [
    {
     "data": {
      "text/plain": [
       "49"
      ]
     },
     "execution_count": 10,
     "metadata": {},
     "output_type": "execute_result"
    }
   ],
   "source": [
    "df['locality_name'].isna().sum()"
   ]
  },
  {
   "cell_type": "markdown",
   "metadata": {},
   "source": [
    "Пропусков в этом столбце мало, их можно удалить, чтобы не мешали при анализе."
   ]
  },
  {
   "cell_type": "code",
   "execution_count": 11,
   "metadata": {},
   "outputs": [
    {
     "data": {
      "text/plain": [
       "0"
      ]
     },
     "execution_count": 11,
     "metadata": {},
     "output_type": "execute_result"
    }
   ],
   "source": [
    "df = df.dropna(subset=['locality_name'])\n",
    "df['locality_name'].isna().sum()"
   ]
  },
  {
   "cell_type": "markdown",
   "metadata": {},
   "source": [
    "Приведём формат даты столбца `first_day_exposition` к виду год-месяц-день, так как время не указано."
   ]
  },
  {
   "cell_type": "code",
   "execution_count": 12,
   "metadata": {},
   "outputs": [],
   "source": [
    "df['first_day_exposition'] = pd.to_datetime(df['first_day_exposition'], format=\"%Y-%m-%dT%H:%M:%S\")"
   ]
  },
  {
   "cell_type": "markdown",
   "metadata": {},
   "source": [
    "Теперь разберёмся с количеством балконов, апартаментами, студиями и квартирами со свободной планировкой.\n",
    "\n",
    "Пропущенные значения в столбце с количеством балокон скорее всего означает, что балконов нет. Схожая ситуация с апартаментами, студиями и свободной планировкой, где пропуски означают то, что квартира не походит под это описание, заменим пропуски нулями и столбец балкону сразу приведём к целочисленному формату."
   ]
  },
  {
   "cell_type": "code",
   "execution_count": 13,
   "metadata": {},
   "outputs": [],
   "source": [
    "df['balcony'] = df['balcony'].fillna(0)\n",
    "df['is_apartment'] = df['is_apartment'].fillna(False)\n",
    "df['open_plan'] = df['open_plan'].fillna(0)\n",
    "df['studio'] = df['studio'].fillna(0)"
   ]
  },
  {
   "cell_type": "markdown",
   "metadata": {},
   "source": [
    "Сократим цену до миллионов, оставив 3 знака после запятой для удобства просмотра"
   ]
  },
  {
   "cell_type": "code",
   "execution_count": 14,
   "metadata": {},
   "outputs": [],
   "source": [
    "df['last_price'] = df['last_price'] / 1000000 \n",
    "df['last_price'] = df['last_price'].round(3)"
   ]
  },
  {
   "cell_type": "markdown",
   "metadata": {},
   "source": [
    "Заполним пропуски в ceiling_height медианными значениями."
   ]
  },
  {
   "cell_type": "code",
   "execution_count": 15,
   "metadata": {},
   "outputs": [],
   "source": [
    "df['ceiling_height'] = df['ceiling_height'].fillna(df['ceiling_height'].median())"
   ]
  },
  {
   "cell_type": "markdown",
   "metadata": {},
   "source": [
    "Заполним пропуски в living_area. Сначала найдём коэффициент соотношения общей площади к живой, а затем найдём жилую площадь поделив общую на найденный коэффициент и заполним пропуски."
   ]
  },
  {
   "cell_type": "code",
   "execution_count": 16,
   "metadata": {},
   "outputs": [],
   "source": [
    "k_area = df[df['living_area'].isnull() == False]['total_area'].mean() / df[df['living_area'].isnull()== False]['living_area'].mean()\n",
    "\n",
    "df['living_area'] = df['living_area'].fillna(df['total_area']/k_area)"
   ]
  },
  {
   "cell_type": "markdown",
   "metadata": {},
   "source": [
    "Остальные столбцы оставим такими какие они есть, так как их заполнение может быть неверным и создаст помехи в данных."
   ]
  },
  {
   "cell_type": "markdown",
   "metadata": {},
   "source": [
    "Посмотрим на результат предобраотки данных."
   ]
  },
  {
   "cell_type": "code",
   "execution_count": 17,
   "metadata": {},
   "outputs": [
    {
     "data": {
      "text/html": [
       "<div>\n",
       "<style scoped>\n",
       "    .dataframe tbody tr th:only-of-type {\n",
       "        vertical-align: middle;\n",
       "    }\n",
       "\n",
       "    .dataframe tbody tr th {\n",
       "        vertical-align: top;\n",
       "    }\n",
       "\n",
       "    .dataframe thead th {\n",
       "        text-align: right;\n",
       "    }\n",
       "</style>\n",
       "<table border=\"1\" class=\"dataframe\">\n",
       "  <thead>\n",
       "    <tr style=\"text-align: right;\">\n",
       "      <th></th>\n",
       "      <th>total_images</th>\n",
       "      <th>last_price</th>\n",
       "      <th>total_area</th>\n",
       "      <th>first_day_exposition</th>\n",
       "      <th>rooms</th>\n",
       "      <th>ceiling_height</th>\n",
       "      <th>floors_total</th>\n",
       "      <th>living_area</th>\n",
       "      <th>floor</th>\n",
       "      <th>is_apartment</th>\n",
       "      <th>studio</th>\n",
       "      <th>open_plan</th>\n",
       "      <th>kitchen_area</th>\n",
       "      <th>balcony</th>\n",
       "      <th>locality_name</th>\n",
       "      <th>airports_nearest</th>\n",
       "      <th>cityCenters_nearest</th>\n",
       "      <th>parks_around3000</th>\n",
       "      <th>parks_nearest</th>\n",
       "      <th>ponds_around3000</th>\n",
       "      <th>ponds_nearest</th>\n",
       "      <th>days_exposition</th>\n",
       "    </tr>\n",
       "  </thead>\n",
       "  <tbody>\n",
       "    <tr>\n",
       "      <td>0</td>\n",
       "      <td>20</td>\n",
       "      <td>13.000</td>\n",
       "      <td>108.0</td>\n",
       "      <td>2019-03-07</td>\n",
       "      <td>3</td>\n",
       "      <td>2.70</td>\n",
       "      <td>16.0</td>\n",
       "      <td>51.000000</td>\n",
       "      <td>8</td>\n",
       "      <td>False</td>\n",
       "      <td>False</td>\n",
       "      <td>False</td>\n",
       "      <td>25.0</td>\n",
       "      <td>0.0</td>\n",
       "      <td>санкт-петербург</td>\n",
       "      <td>18863.0</td>\n",
       "      <td>16028.0</td>\n",
       "      <td>1.0</td>\n",
       "      <td>482.0</td>\n",
       "      <td>2.0</td>\n",
       "      <td>755.0</td>\n",
       "      <td>0</td>\n",
       "    </tr>\n",
       "    <tr>\n",
       "      <td>1</td>\n",
       "      <td>7</td>\n",
       "      <td>3.350</td>\n",
       "      <td>40.4</td>\n",
       "      <td>2018-12-04</td>\n",
       "      <td>1</td>\n",
       "      <td>2.65</td>\n",
       "      <td>11.0</td>\n",
       "      <td>18.600000</td>\n",
       "      <td>1</td>\n",
       "      <td>False</td>\n",
       "      <td>False</td>\n",
       "      <td>False</td>\n",
       "      <td>11.0</td>\n",
       "      <td>2.0</td>\n",
       "      <td>поселок шушары</td>\n",
       "      <td>12817.0</td>\n",
       "      <td>18603.0</td>\n",
       "      <td>0.0</td>\n",
       "      <td>NaN</td>\n",
       "      <td>0.0</td>\n",
       "      <td>NaN</td>\n",
       "      <td>81</td>\n",
       "    </tr>\n",
       "    <tr>\n",
       "      <td>2</td>\n",
       "      <td>10</td>\n",
       "      <td>5.196</td>\n",
       "      <td>56.0</td>\n",
       "      <td>2015-08-20</td>\n",
       "      <td>2</td>\n",
       "      <td>2.65</td>\n",
       "      <td>5.0</td>\n",
       "      <td>34.300000</td>\n",
       "      <td>4</td>\n",
       "      <td>False</td>\n",
       "      <td>False</td>\n",
       "      <td>False</td>\n",
       "      <td>8.3</td>\n",
       "      <td>0.0</td>\n",
       "      <td>санкт-петербург</td>\n",
       "      <td>21741.0</td>\n",
       "      <td>13933.0</td>\n",
       "      <td>1.0</td>\n",
       "      <td>90.0</td>\n",
       "      <td>2.0</td>\n",
       "      <td>574.0</td>\n",
       "      <td>558</td>\n",
       "    </tr>\n",
       "    <tr>\n",
       "      <td>3</td>\n",
       "      <td>0</td>\n",
       "      <td>64.900</td>\n",
       "      <td>159.0</td>\n",
       "      <td>2015-07-24</td>\n",
       "      <td>3</td>\n",
       "      <td>2.65</td>\n",
       "      <td>14.0</td>\n",
       "      <td>91.176001</td>\n",
       "      <td>9</td>\n",
       "      <td>False</td>\n",
       "      <td>False</td>\n",
       "      <td>False</td>\n",
       "      <td>NaN</td>\n",
       "      <td>0.0</td>\n",
       "      <td>санкт-петербург</td>\n",
       "      <td>28098.0</td>\n",
       "      <td>6800.0</td>\n",
       "      <td>2.0</td>\n",
       "      <td>84.0</td>\n",
       "      <td>3.0</td>\n",
       "      <td>234.0</td>\n",
       "      <td>424</td>\n",
       "    </tr>\n",
       "    <tr>\n",
       "      <td>4</td>\n",
       "      <td>2</td>\n",
       "      <td>10.000</td>\n",
       "      <td>100.0</td>\n",
       "      <td>2018-06-19</td>\n",
       "      <td>2</td>\n",
       "      <td>3.03</td>\n",
       "      <td>14.0</td>\n",
       "      <td>32.000000</td>\n",
       "      <td>13</td>\n",
       "      <td>False</td>\n",
       "      <td>False</td>\n",
       "      <td>False</td>\n",
       "      <td>41.0</td>\n",
       "      <td>0.0</td>\n",
       "      <td>санкт-петербург</td>\n",
       "      <td>31856.0</td>\n",
       "      <td>8098.0</td>\n",
       "      <td>2.0</td>\n",
       "      <td>112.0</td>\n",
       "      <td>1.0</td>\n",
       "      <td>48.0</td>\n",
       "      <td>121</td>\n",
       "    </tr>\n",
       "  </tbody>\n",
       "</table>\n",
       "</div>"
      ],
      "text/plain": [
       "   total_images  last_price  total_area first_day_exposition  rooms  \\\n",
       "0            20      13.000       108.0           2019-03-07      3   \n",
       "1             7       3.350        40.4           2018-12-04      1   \n",
       "2            10       5.196        56.0           2015-08-20      2   \n",
       "3             0      64.900       159.0           2015-07-24      3   \n",
       "4             2      10.000       100.0           2018-06-19      2   \n",
       "\n",
       "   ceiling_height  floors_total  living_area  floor  is_apartment  studio  \\\n",
       "0            2.70          16.0    51.000000      8         False   False   \n",
       "1            2.65          11.0    18.600000      1         False   False   \n",
       "2            2.65           5.0    34.300000      4         False   False   \n",
       "3            2.65          14.0    91.176001      9         False   False   \n",
       "4            3.03          14.0    32.000000     13         False   False   \n",
       "\n",
       "   open_plan  kitchen_area  balcony    locality_name  airports_nearest  \\\n",
       "0      False          25.0      0.0  санкт-петербург           18863.0   \n",
       "1      False          11.0      2.0   поселок шушары           12817.0   \n",
       "2      False           8.3      0.0  санкт-петербург           21741.0   \n",
       "3      False           NaN      0.0  санкт-петербург           28098.0   \n",
       "4      False          41.0      0.0  санкт-петербург           31856.0   \n",
       "\n",
       "   cityCenters_nearest  parks_around3000  parks_nearest  ponds_around3000  \\\n",
       "0              16028.0               1.0          482.0               2.0   \n",
       "1              18603.0               0.0            NaN               0.0   \n",
       "2              13933.0               1.0           90.0               2.0   \n",
       "3               6800.0               2.0           84.0               3.0   \n",
       "4               8098.0               2.0          112.0               1.0   \n",
       "\n",
       "   ponds_nearest  days_exposition  \n",
       "0          755.0                0  \n",
       "1            NaN               81  \n",
       "2          574.0              558  \n",
       "3          234.0              424  \n",
       "4           48.0              121  "
      ]
     },
     "execution_count": 17,
     "metadata": {},
     "output_type": "execute_result"
    }
   ],
   "source": [
    "df.head()"
   ]
  },
  {
   "cell_type": "code",
   "execution_count": 18,
   "metadata": {},
   "outputs": [
    {
     "name": "stdout",
     "output_type": "stream",
     "text": [
      "<class 'pandas.core.frame.DataFrame'>\n",
      "Int64Index: 23650 entries, 0 to 23698\n",
      "Data columns (total 22 columns):\n",
      "total_images            23650 non-null int64\n",
      "last_price              23650 non-null float64\n",
      "total_area              23650 non-null float64\n",
      "first_day_exposition    23650 non-null datetime64[ns]\n",
      "rooms                   23650 non-null int64\n",
      "ceiling_height          23650 non-null float64\n",
      "floors_total            23565 non-null float64\n",
      "living_area             23650 non-null float64\n",
      "floor                   23650 non-null int64\n",
      "is_apartment            23650 non-null bool\n",
      "studio                  23650 non-null bool\n",
      "open_plan               23650 non-null bool\n",
      "kitchen_area            21381 non-null float64\n",
      "balcony                 23650 non-null float64\n",
      "locality_name           23650 non-null object\n",
      "airports_nearest        18116 non-null float64\n",
      "cityCenters_nearest     18139 non-null float64\n",
      "parks_around3000        18140 non-null float64\n",
      "parks_nearest           8064 non-null float64\n",
      "ponds_around3000        18140 non-null float64\n",
      "ponds_nearest           9085 non-null float64\n",
      "days_exposition         23650 non-null int64\n",
      "dtypes: bool(3), datetime64[ns](1), float64(13), int64(4), object(1)\n",
      "memory usage: 3.7+ MB\n"
     ]
    }
   ],
   "source": [
    "df.info()"
   ]
  },
  {
   "cell_type": "markdown",
   "metadata": {},
   "source": [
    "## Расчёты и добавление результатов в таблицу"
   ]
  },
  {
   "cell_type": "markdown",
   "metadata": {},
   "source": [
    "Добавим в таблицу цену квадратного метра."
   ]
  },
  {
   "cell_type": "code",
   "execution_count": 19,
   "metadata": {},
   "outputs": [],
   "source": [
    "df['price_per_square_meter'] = df['last_price'] / df['total_area']\n",
    "df['price_per_square_meter'] = df['price_per_square_meter'].astype('int')"
   ]
  },
  {
   "cell_type": "markdown",
   "metadata": {},
   "source": [
    "Добавим день недели, месяц и год публикации объявления."
   ]
  },
  {
   "cell_type": "code",
   "execution_count": 20,
   "metadata": {},
   "outputs": [],
   "source": [
    "df['day'] = df['first_day_exposition'].dt.weekday\n",
    "df['month'] = df['first_day_exposition'].dt.month\n",
    "df['year'] = df['first_day_exposition'].dt.year"
   ]
  },
  {
   "cell_type": "markdown",
   "metadata": {},
   "source": [
    "Добавим этаж квартиры с вариантами — первый, последний, другой."
   ]
  },
  {
   "cell_type": "code",
   "execution_count": 21,
   "metadata": {},
   "outputs": [],
   "source": [
    "def floor(row):\n",
    "    if row['floor'] == 1:\n",
    "        return 'первый'\n",
    "    elif row['floor'] == row['floors_total']:\n",
    "        return 'последний'\n",
    "    else:\n",
    "        return 'другой'\n",
    "    \n",
    "df['floor_name'] = df.apply(floor, axis=1)"
   ]
  },
  {
   "cell_type": "markdown",
   "metadata": {},
   "source": [
    "Добавим соотношение жилой и общей площади, отношение площади кухни к общей, а также цену квадратного метра."
   ]
  },
  {
   "cell_type": "code",
   "execution_count": 22,
   "metadata": {},
   "outputs": [],
   "source": [
    "df['living_area_ratio'] = df['living_area'] / df['total_area']\n",
    "df['kitchen_area_ratio'] = df['kitchen_area'] / df['total_area']\n",
    "df['price_per_square_meter'] = df['last_price'] / df['total_area']"
   ]
  },
  {
   "cell_type": "markdown",
   "metadata": {},
   "source": [
    "Проверим работу кода."
   ]
  },
  {
   "cell_type": "code",
   "execution_count": 23,
   "metadata": {},
   "outputs": [
    {
     "data": {
      "text/html": [
       "<div>\n",
       "<style scoped>\n",
       "    .dataframe tbody tr th:only-of-type {\n",
       "        vertical-align: middle;\n",
       "    }\n",
       "\n",
       "    .dataframe tbody tr th {\n",
       "        vertical-align: top;\n",
       "    }\n",
       "\n",
       "    .dataframe thead th {\n",
       "        text-align: right;\n",
       "    }\n",
       "</style>\n",
       "<table border=\"1\" class=\"dataframe\">\n",
       "  <thead>\n",
       "    <tr style=\"text-align: right;\">\n",
       "      <th></th>\n",
       "      <th>total_images</th>\n",
       "      <th>last_price</th>\n",
       "      <th>total_area</th>\n",
       "      <th>first_day_exposition</th>\n",
       "      <th>rooms</th>\n",
       "      <th>ceiling_height</th>\n",
       "      <th>floors_total</th>\n",
       "      <th>living_area</th>\n",
       "      <th>floor</th>\n",
       "      <th>is_apartment</th>\n",
       "      <th>studio</th>\n",
       "      <th>open_plan</th>\n",
       "      <th>kitchen_area</th>\n",
       "      <th>balcony</th>\n",
       "      <th>locality_name</th>\n",
       "      <th>airports_nearest</th>\n",
       "      <th>cityCenters_nearest</th>\n",
       "      <th>parks_around3000</th>\n",
       "      <th>parks_nearest</th>\n",
       "      <th>ponds_around3000</th>\n",
       "      <th>ponds_nearest</th>\n",
       "      <th>days_exposition</th>\n",
       "      <th>price_per_square_meter</th>\n",
       "      <th>day</th>\n",
       "      <th>month</th>\n",
       "      <th>year</th>\n",
       "      <th>floor_name</th>\n",
       "      <th>living_area_ratio</th>\n",
       "      <th>kitchen_area_ratio</th>\n",
       "    </tr>\n",
       "  </thead>\n",
       "  <tbody>\n",
       "    <tr>\n",
       "      <td>0</td>\n",
       "      <td>20</td>\n",
       "      <td>13.000</td>\n",
       "      <td>108.0</td>\n",
       "      <td>2019-03-07</td>\n",
       "      <td>3</td>\n",
       "      <td>2.70</td>\n",
       "      <td>16.0</td>\n",
       "      <td>51.000000</td>\n",
       "      <td>8</td>\n",
       "      <td>False</td>\n",
       "      <td>False</td>\n",
       "      <td>False</td>\n",
       "      <td>25.0</td>\n",
       "      <td>0.0</td>\n",
       "      <td>санкт-петербург</td>\n",
       "      <td>18863.0</td>\n",
       "      <td>16028.0</td>\n",
       "      <td>1.0</td>\n",
       "      <td>482.0</td>\n",
       "      <td>2.0</td>\n",
       "      <td>755.0</td>\n",
       "      <td>0</td>\n",
       "      <td>0.120370</td>\n",
       "      <td>3</td>\n",
       "      <td>3</td>\n",
       "      <td>2019</td>\n",
       "      <td>другой</td>\n",
       "      <td>0.472222</td>\n",
       "      <td>0.231481</td>\n",
       "    </tr>\n",
       "    <tr>\n",
       "      <td>1</td>\n",
       "      <td>7</td>\n",
       "      <td>3.350</td>\n",
       "      <td>40.4</td>\n",
       "      <td>2018-12-04</td>\n",
       "      <td>1</td>\n",
       "      <td>2.65</td>\n",
       "      <td>11.0</td>\n",
       "      <td>18.600000</td>\n",
       "      <td>1</td>\n",
       "      <td>False</td>\n",
       "      <td>False</td>\n",
       "      <td>False</td>\n",
       "      <td>11.0</td>\n",
       "      <td>2.0</td>\n",
       "      <td>поселок шушары</td>\n",
       "      <td>12817.0</td>\n",
       "      <td>18603.0</td>\n",
       "      <td>0.0</td>\n",
       "      <td>NaN</td>\n",
       "      <td>0.0</td>\n",
       "      <td>NaN</td>\n",
       "      <td>81</td>\n",
       "      <td>0.082921</td>\n",
       "      <td>1</td>\n",
       "      <td>12</td>\n",
       "      <td>2018</td>\n",
       "      <td>первый</td>\n",
       "      <td>0.460396</td>\n",
       "      <td>0.272277</td>\n",
       "    </tr>\n",
       "    <tr>\n",
       "      <td>2</td>\n",
       "      <td>10</td>\n",
       "      <td>5.196</td>\n",
       "      <td>56.0</td>\n",
       "      <td>2015-08-20</td>\n",
       "      <td>2</td>\n",
       "      <td>2.65</td>\n",
       "      <td>5.0</td>\n",
       "      <td>34.300000</td>\n",
       "      <td>4</td>\n",
       "      <td>False</td>\n",
       "      <td>False</td>\n",
       "      <td>False</td>\n",
       "      <td>8.3</td>\n",
       "      <td>0.0</td>\n",
       "      <td>санкт-петербург</td>\n",
       "      <td>21741.0</td>\n",
       "      <td>13933.0</td>\n",
       "      <td>1.0</td>\n",
       "      <td>90.0</td>\n",
       "      <td>2.0</td>\n",
       "      <td>574.0</td>\n",
       "      <td>558</td>\n",
       "      <td>0.092786</td>\n",
       "      <td>3</td>\n",
       "      <td>8</td>\n",
       "      <td>2015</td>\n",
       "      <td>другой</td>\n",
       "      <td>0.612500</td>\n",
       "      <td>0.148214</td>\n",
       "    </tr>\n",
       "    <tr>\n",
       "      <td>3</td>\n",
       "      <td>0</td>\n",
       "      <td>64.900</td>\n",
       "      <td>159.0</td>\n",
       "      <td>2015-07-24</td>\n",
       "      <td>3</td>\n",
       "      <td>2.65</td>\n",
       "      <td>14.0</td>\n",
       "      <td>91.176001</td>\n",
       "      <td>9</td>\n",
       "      <td>False</td>\n",
       "      <td>False</td>\n",
       "      <td>False</td>\n",
       "      <td>NaN</td>\n",
       "      <td>0.0</td>\n",
       "      <td>санкт-петербург</td>\n",
       "      <td>28098.0</td>\n",
       "      <td>6800.0</td>\n",
       "      <td>2.0</td>\n",
       "      <td>84.0</td>\n",
       "      <td>3.0</td>\n",
       "      <td>234.0</td>\n",
       "      <td>424</td>\n",
       "      <td>0.408176</td>\n",
       "      <td>4</td>\n",
       "      <td>7</td>\n",
       "      <td>2015</td>\n",
       "      <td>другой</td>\n",
       "      <td>0.573434</td>\n",
       "      <td>NaN</td>\n",
       "    </tr>\n",
       "    <tr>\n",
       "      <td>4</td>\n",
       "      <td>2</td>\n",
       "      <td>10.000</td>\n",
       "      <td>100.0</td>\n",
       "      <td>2018-06-19</td>\n",
       "      <td>2</td>\n",
       "      <td>3.03</td>\n",
       "      <td>14.0</td>\n",
       "      <td>32.000000</td>\n",
       "      <td>13</td>\n",
       "      <td>False</td>\n",
       "      <td>False</td>\n",
       "      <td>False</td>\n",
       "      <td>41.0</td>\n",
       "      <td>0.0</td>\n",
       "      <td>санкт-петербург</td>\n",
       "      <td>31856.0</td>\n",
       "      <td>8098.0</td>\n",
       "      <td>2.0</td>\n",
       "      <td>112.0</td>\n",
       "      <td>1.0</td>\n",
       "      <td>48.0</td>\n",
       "      <td>121</td>\n",
       "      <td>0.100000</td>\n",
       "      <td>1</td>\n",
       "      <td>6</td>\n",
       "      <td>2018</td>\n",
       "      <td>другой</td>\n",
       "      <td>0.320000</td>\n",
       "      <td>0.410000</td>\n",
       "    </tr>\n",
       "  </tbody>\n",
       "</table>\n",
       "</div>"
      ],
      "text/plain": [
       "   total_images  last_price  total_area first_day_exposition  rooms  \\\n",
       "0            20      13.000       108.0           2019-03-07      3   \n",
       "1             7       3.350        40.4           2018-12-04      1   \n",
       "2            10       5.196        56.0           2015-08-20      2   \n",
       "3             0      64.900       159.0           2015-07-24      3   \n",
       "4             2      10.000       100.0           2018-06-19      2   \n",
       "\n",
       "   ceiling_height  floors_total  living_area  floor  is_apartment  studio  \\\n",
       "0            2.70          16.0    51.000000      8         False   False   \n",
       "1            2.65          11.0    18.600000      1         False   False   \n",
       "2            2.65           5.0    34.300000      4         False   False   \n",
       "3            2.65          14.0    91.176001      9         False   False   \n",
       "4            3.03          14.0    32.000000     13         False   False   \n",
       "\n",
       "   open_plan  kitchen_area  balcony    locality_name  airports_nearest  \\\n",
       "0      False          25.0      0.0  санкт-петербург           18863.0   \n",
       "1      False          11.0      2.0   поселок шушары           12817.0   \n",
       "2      False           8.3      0.0  санкт-петербург           21741.0   \n",
       "3      False           NaN      0.0  санкт-петербург           28098.0   \n",
       "4      False          41.0      0.0  санкт-петербург           31856.0   \n",
       "\n",
       "   cityCenters_nearest  parks_around3000  parks_nearest  ponds_around3000  \\\n",
       "0              16028.0               1.0          482.0               2.0   \n",
       "1              18603.0               0.0            NaN               0.0   \n",
       "2              13933.0               1.0           90.0               2.0   \n",
       "3               6800.0               2.0           84.0               3.0   \n",
       "4               8098.0               2.0          112.0               1.0   \n",
       "\n",
       "   ponds_nearest  days_exposition  price_per_square_meter  day  month  year  \\\n",
       "0          755.0                0                0.120370    3      3  2019   \n",
       "1            NaN               81                0.082921    1     12  2018   \n",
       "2          574.0              558                0.092786    3      8  2015   \n",
       "3          234.0              424                0.408176    4      7  2015   \n",
       "4           48.0              121                0.100000    1      6  2018   \n",
       "\n",
       "  floor_name  living_area_ratio  kitchen_area_ratio  \n",
       "0     другой           0.472222            0.231481  \n",
       "1     первый           0.460396            0.272277  \n",
       "2     другой           0.612500            0.148214  \n",
       "3     другой           0.573434                 NaN  \n",
       "4     другой           0.320000            0.410000  "
      ]
     },
     "execution_count": 23,
     "metadata": {},
     "output_type": "execute_result"
    }
   ],
   "source": [
    "df.head()"
   ]
  },
  {
   "cell_type": "markdown",
   "metadata": {},
   "source": [
    "<div style=\"border:solid green 2px; padding: 20px\"> <b>Отлично:</b><br>\n",
    "   Расчеты корректные, функция отрабатывает верно. Отличная работа!</div>       "
   ]
  },
  {
   "cell_type": "markdown",
   "metadata": {},
   "source": [
    "## Исследовательский анализ данных"
   ]
  },
  {
   "cell_type": "markdown",
   "metadata": {},
   "source": [
    "Задача 1. Изучите следующие параметры: площадь, цена, число комнат, высота потолков. Постройте гистограммы для каждого параметра."
   ]
  },
  {
   "cell_type": "code",
   "execution_count": 24,
   "metadata": {},
   "outputs": [
    {
     "data": {
      "text/html": [
       "<div>\n",
       "<style scoped>\n",
       "    .dataframe tbody tr th:only-of-type {\n",
       "        vertical-align: middle;\n",
       "    }\n",
       "\n",
       "    .dataframe tbody tr th {\n",
       "        vertical-align: top;\n",
       "    }\n",
       "\n",
       "    .dataframe thead th {\n",
       "        text-align: right;\n",
       "    }\n",
       "</style>\n",
       "<table border=\"1\" class=\"dataframe\">\n",
       "  <thead>\n",
       "    <tr style=\"text-align: right;\">\n",
       "      <th></th>\n",
       "      <th>total_area</th>\n",
       "      <th>last_price</th>\n",
       "      <th>rooms</th>\n",
       "      <th>ceiling_height</th>\n",
       "    </tr>\n",
       "  </thead>\n",
       "  <tbody>\n",
       "    <tr>\n",
       "      <td>count</td>\n",
       "      <td>23650.000000</td>\n",
       "      <td>23650.000000</td>\n",
       "      <td>23650.000000</td>\n",
       "      <td>23650.000000</td>\n",
       "    </tr>\n",
       "    <tr>\n",
       "      <td>mean</td>\n",
       "      <td>60.329069</td>\n",
       "      <td>6.541127</td>\n",
       "      <td>2.070106</td>\n",
       "      <td>2.724311</td>\n",
       "    </tr>\n",
       "    <tr>\n",
       "      <td>std</td>\n",
       "      <td>35.661808</td>\n",
       "      <td>10.896399</td>\n",
       "      <td>1.078620</td>\n",
       "      <td>0.989255</td>\n",
       "    </tr>\n",
       "    <tr>\n",
       "      <td>min</td>\n",
       "      <td>12.000000</td>\n",
       "      <td>0.012000</td>\n",
       "      <td>0.000000</td>\n",
       "      <td>1.000000</td>\n",
       "    </tr>\n",
       "    <tr>\n",
       "      <td>25%</td>\n",
       "      <td>40.000000</td>\n",
       "      <td>3.400000</td>\n",
       "      <td>1.000000</td>\n",
       "      <td>2.600000</td>\n",
       "    </tr>\n",
       "    <tr>\n",
       "      <td>50%</td>\n",
       "      <td>52.000000</td>\n",
       "      <td>4.650000</td>\n",
       "      <td>2.000000</td>\n",
       "      <td>2.650000</td>\n",
       "    </tr>\n",
       "    <tr>\n",
       "      <td>75%</td>\n",
       "      <td>69.700000</td>\n",
       "      <td>6.799000</td>\n",
       "      <td>3.000000</td>\n",
       "      <td>2.700000</td>\n",
       "    </tr>\n",
       "    <tr>\n",
       "      <td>max</td>\n",
       "      <td>900.000000</td>\n",
       "      <td>763.000000</td>\n",
       "      <td>19.000000</td>\n",
       "      <td>100.000000</td>\n",
       "    </tr>\n",
       "  </tbody>\n",
       "</table>\n",
       "</div>"
      ],
      "text/plain": [
       "         total_area    last_price         rooms  ceiling_height\n",
       "count  23650.000000  23650.000000  23650.000000    23650.000000\n",
       "mean      60.329069      6.541127      2.070106        2.724311\n",
       "std       35.661808     10.896399      1.078620        0.989255\n",
       "min       12.000000      0.012000      0.000000        1.000000\n",
       "25%       40.000000      3.400000      1.000000        2.600000\n",
       "50%       52.000000      4.650000      2.000000        2.650000\n",
       "75%       69.700000      6.799000      3.000000        2.700000\n",
       "max      900.000000    763.000000     19.000000      100.000000"
      ]
     },
     "execution_count": 24,
     "metadata": {},
     "output_type": "execute_result"
    }
   ],
   "source": [
    "df[['total_area', 'last_price', 'rooms', 'ceiling_height']].describe()"
   ]
  },
  {
   "cell_type": "markdown",
   "metadata": {},
   "source": [
    "В данных можно заметить выбросы. Например, высота потолков 100 метров и 1 метр выглядят нереалистично. Избавимся от этих выбросов."
   ]
  },
  {
   "cell_type": "code",
   "execution_count": 25,
   "metadata": {},
   "outputs": [
    {
     "data": {
      "text/plain": [
       "<matplotlib.axes._subplots.AxesSubplot at 0x7fd3ee922ad0>"
      ]
     },
     "execution_count": 25,
     "metadata": {},
     "output_type": "execute_result"
    },
    {
     "data": {
      "image/png": "[encoded data removed]",
      "text/plain": [
       "<Figure size 360x216 with 1 Axes>"
      ]
     },
     "metadata": {
      "needs_background": "light"
     },
     "output_type": "display_data"
    }
   ],
   "source": [
    "df.plot(y = 'total_area', kind = 'hist', bins = 100, grid=True, figsize = (5,3), range = (0,500))"
   ]
  },
  {
   "cell_type": "code",
   "execution_count": 26,
   "metadata": {},
   "outputs": [
    {
     "data": {
      "image/png": "[encoded data removed]",
      "text/plain": [
       "<Figure size 432x288 with 1 Axes>"
      ]
     },
     "metadata": {
      "needs_background": "light"
     },
     "output_type": "display_data"
    },
    {
     "data": {
      "image/png": "[encoded data removed]",
      "text/plain": [
       "<Figure size 432x288 with 1 Axes>"
      ]
     },
     "metadata": {
      "needs_background": "light"
     },
     "output_type": "display_data"
    },
    {
     "data": {
      "image/png": "[encoded data removed]",
      "text/plain": [
       "<Figure size 432x288 with 1 Axes>"
      ]
     },
     "metadata": {
      "needs_background": "light"
     },
     "output_type": "display_data"
    },
    {
     "data": {
      "image/png": "[encoded data removed]",
      "text/plain": [
       "<Figure size 432x288 with 1 Axes>"
      ]
     },
     "metadata": {
      "needs_background": "light"
     },
     "output_type": "display_data"
    }
   ],
   "source": [
    "column_list = ['total_area', 'last_price', 'rooms', 'ceiling_height']\n",
    "ylim_list = [200, 20, 10, 4]\n",
    "for n in range(4):\n",
    "    df.boxplot(column=column_list[n]).set_ylim(0,ylim_list[n])\n",
    "    plt.show()"
   ]
  },
  {
   "cell_type": "markdown",
   "metadata": {},
   "source": [
    "<div style=\"border:solid green 2px; padding: 20px\"> <b>Отлично:</b><br>\n",
    " \n",
    "Здорово, что ты автоматизировала процесс построения боксплотов через цикл `for` 🔥 </div>     "
   ]
  },
  {
   "cell_type": "markdown",
   "metadata": {},
   "source": [
    "Определим границы:\n",
    "* total_area: 20 - 120 кв. м.;\n",
    "* last_price: 0 - 12 млн. руб.;\n",
    "* rooms: 0-6;\n",
    "* celling_height: 2,2 - 3,2 м.."
   ]
  },
  {
   "cell_type": "markdown",
   "metadata": {},
   "source": [
    "Создадим отфильтрованную таблицу без выбросов."
   ]
  },
  {
   "cell_type": "code",
   "execution_count": 27,
   "metadata": {},
   "outputs": [
    {
     "name": "stdout",
     "output_type": "stream",
     "text": [
      "Процент строк от которых избавились: 11.75%\n"
     ]
    }
   ],
   "source": [
    "data_filtered = df.query(\n",
    "    'last_price < 12 and ceiling_height < 3.2 and ceiling_height > 2.2 and total_area >= 20 and total_area <= 120 and rooms < 6')\n",
    "\n",
    "print('Процент строк от которых избавились: {:.2%}'.format(1 - len(data_filtered['last_price']) / len(df['last_price'])))"
   ]
  },
  {
   "cell_type": "markdown",
   "metadata": {},
   "source": [
    "Построим гистограмму для каждго параметра."
   ]
  },
  {
   "cell_type": "code",
   "execution_count": 28,
   "metadata": {
    "scrolled": false
   },
   "outputs": [
    {
     "data": {
      "image/png": "[encoded data removed]",
      "text/plain": [
       "<Figure size 432x288 with 1 Axes>"
      ]
     },
     "metadata": {
      "needs_background": "light"
     },
     "output_type": "display_data"
    },
    {
     "data": {
      "image/png": "[encoded data removed]",
      "text/plain": [
       "<Figure size 432x288 with 1 Axes>"
      ]
     },
     "metadata": {
      "needs_background": "light"
     },
     "output_type": "display_data"
    },
    {
     "data": {
      "image/png": "[encoded data removed]",
      "text/plain": [
       "<Figure size 432x288 with 1 Axes>"
      ]
     },
     "metadata": {
      "needs_background": "light"
     },
     "output_type": "display_data"
    },
    {
     "data": {
      "image/png": "[encoded data removed]",
      "text/plain": [
       "<Figure size 432x288 with 1 Axes>"
      ]
     },
     "metadata": {
      "needs_background": "light"
     },
     "output_type": "display_data"
    }
   ],
   "source": [
    "data_filtered['total_area'].hist(bins=50, range=(20, 120))\n",
    "plt.title('Распределение по площади')\n",
    "plt.show()\n",
    "\n",
    "data_filtered['last_price'].hist(bins=50, range=(0, 12))\n",
    "plt.title('Распределение по цене')\n",
    "plt.show()\n",
    "\n",
    "data_filtered['rooms'].hist(bins=6, range=(0, 6))\n",
    "plt.title('Распределение по комнатам')\n",
    "plt.show()\n",
    "\n",
    "data_filtered['ceiling_height'].hist(bins=10, range=(2.2, 3.2))\n",
    "plt.title('Распределение по высоте потолков')\n",
    "plt.show()"
   ]
  },
  {
   "cell_type": "markdown",
   "metadata": {},
   "source": [
    "Вывод:\n",
    "1. Распределение по площади. Наибольшая часть квартир имеет плозадь от 30 до 80 кв. м.\n",
    "2. Распределение по цене. Большая часть квартир продаётся от 2 до 8 млн. р.\n",
    "3. Распределение по комнатам. Больше всего комнат, имеющих 1, 2 или 3 комнаты, встречаются и с большим количеством комнат, но таких квартир гораздо меньше.\n",
    "4. Распределение по высоте потолков. Больше всего квартир с потолками от 2.5 до 2.8 м."
   ]
  },
  {
   "cell_type": "markdown",
   "metadata": {},
   "source": [
    "Задача 2. Изучите время продажи квартиры. Постройте гистограмму. Посчитайте среднее и медиану. Опишите, сколько обычно занимает продажа. Когда можно считать, что продажи прошли очень быстро, а когда необычно долго? Уберите редкие и выбивающиеся значения. Опишите, какие особенности обнаружили."
   ]
  },
  {
   "cell_type": "code",
   "execution_count": 29,
   "metadata": {},
   "outputs": [
    {
     "data": {
      "text/html": [
       "<div>\n",
       "<style scoped>\n",
       "    .dataframe tbody tr th:only-of-type {\n",
       "        vertical-align: middle;\n",
       "    }\n",
       "\n",
       "    .dataframe tbody tr th {\n",
       "        vertical-align: top;\n",
       "    }\n",
       "\n",
       "    .dataframe thead th {\n",
       "        text-align: right;\n",
       "    }\n",
       "</style>\n",
       "<table border=\"1\" class=\"dataframe\">\n",
       "  <thead>\n",
       "    <tr style=\"text-align: right;\">\n",
       "      <th></th>\n",
       "      <th>days_exposition</th>\n",
       "    </tr>\n",
       "  </thead>\n",
       "  <tbody>\n",
       "    <tr>\n",
       "      <td>count</td>\n",
       "      <td>23650.000000</td>\n",
       "    </tr>\n",
       "    <tr>\n",
       "      <td>mean</td>\n",
       "      <td>156.448964</td>\n",
       "    </tr>\n",
       "    <tr>\n",
       "      <td>std</td>\n",
       "      <td>213.564548</td>\n",
       "    </tr>\n",
       "    <tr>\n",
       "      <td>min</td>\n",
       "      <td>0.000000</td>\n",
       "    </tr>\n",
       "    <tr>\n",
       "      <td>25%</td>\n",
       "      <td>22.000000</td>\n",
       "    </tr>\n",
       "    <tr>\n",
       "      <td>50%</td>\n",
       "      <td>73.000000</td>\n",
       "    </tr>\n",
       "    <tr>\n",
       "      <td>75%</td>\n",
       "      <td>198.000000</td>\n",
       "    </tr>\n",
       "    <tr>\n",
       "      <td>max</td>\n",
       "      <td>1580.000000</td>\n",
       "    </tr>\n",
       "  </tbody>\n",
       "</table>\n",
       "</div>"
      ],
      "text/plain": [
       "       days_exposition\n",
       "count     23650.000000\n",
       "mean        156.448964\n",
       "std         213.564548\n",
       "min           0.000000\n",
       "25%          22.000000\n",
       "50%          73.000000\n",
       "75%         198.000000\n",
       "max        1580.000000"
      ]
     },
     "execution_count": 29,
     "metadata": {},
     "output_type": "execute_result"
    }
   ],
   "source": [
    "df['days_exposition'].describe().to_frame()"
   ]
  },
  {
   "cell_type": "code",
   "execution_count": 30,
   "metadata": {},
   "outputs": [
    {
     "name": "stdout",
     "output_type": "stream",
     "text": [
      "Медианное значение длительности продажи квартир 73.0\n"
     ]
    }
   ],
   "source": [
    "print('Медианное значение длительности продажи квартир', df['days_exposition'].median())"
   ]
  },
  {
   "cell_type": "markdown",
   "metadata": {},
   "source": [
    "Среднее время продажи квартиры 180 дней, медианное время 95 дней. В основном квартиры продаются от 45 дней до 231 дня."
   ]
  },
  {
   "cell_type": "code",
   "execution_count": 31,
   "metadata": {
    "scrolled": false
   },
   "outputs": [
    {
     "data": {
      "image/png": "[encoded data removed]",
      "text/plain": [
       "<Figure size 432x288 with 1 Axes>"
      ]
     },
     "metadata": {
      "needs_background": "light"
     },
     "output_type": "display_data"
    }
   ],
   "source": [
    "df['days_exposition'].hist(bins=70)\n",
    "plt.title('Распределение по количеству дней продажи')\n",
    "plt.show()"
   ]
  },
  {
   "cell_type": "markdown",
   "metadata": {},
   "source": [
    "Большинство квартир продаётся до 200 дней. Посмотрим на наличие выбросов."
   ]
  },
  {
   "cell_type": "code",
   "execution_count": 32,
   "metadata": {},
   "outputs": [
    {
     "data": {
      "image/png": "[encoded data removed]",
      "text/plain": [
       "<Figure size 432x288 with 1 Axes>"
      ]
     },
     "metadata": {
      "needs_background": "light"
     },
     "output_type": "display_data"
    }
   ],
   "source": [
    "df.boxplot(column='days_exposition').set_ylim(0, 800)\n",
    "plt.show()"
   ]
  },
  {
   "cell_type": "markdown",
   "metadata": {},
   "source": [
    "Установим ограничение 1 до 500 дней."
   ]
  },
  {
   "cell_type": "code",
   "execution_count": 33,
   "metadata": {
    "scrolled": true
   },
   "outputs": [
    {
     "data": {
      "image/png": "[encoded data removed]",
      "text/plain": [
       "<Figure size 432x288 with 1 Axes>"
      ]
     },
     "metadata": {
      "needs_background": "light"
     },
     "output_type": "display_data"
    }
   ],
   "source": [
    "df['days_exposition'].hist(bins=70, range=(1, 500))\n",
    "plt.title('Распределение по количеству дней продажи')\n",
    "plt.show()"
   ]
  },
  {
   "cell_type": "markdown",
   "metadata": {},
   "source": [
    "Чаще всего квартиры продаются в первые 100 дней, и чем больше времени проходит, тем меньше квартир остаётся в продаже. Можно сказать, что если квартира продалась в первые 50 дней то она продалась быстро, а если спустя более 200 дней - долго.\n",
    "\n",
    "Также в районе 50 дней есть необычно частые продажи, посмотрим подробнее."
   ]
  },
  {
   "cell_type": "code",
   "execution_count": 34,
   "metadata": {
    "scrolled": true
   },
   "outputs": [
    {
     "data": {
      "image/png": "[encoded data removed]",
      "text/plain": [
       "<Figure size 432x288 with 1 Axes>"
      ]
     },
     "metadata": {
      "needs_background": "light"
     },
     "output_type": "display_data"
    }
   ],
   "source": [
    "df['days_exposition'].hist(bins=30, range=(40, 70))\n",
    "plt.title('Распределение по количеству дней продажи')\n",
    "plt.show()"
   ]
  },
  {
   "cell_type": "markdown",
   "metadata": {},
   "source": [
    "Есть неествественные пики продаж в 45 и 60 дней. Скорее всего в эти дни квартиры автоматически снимаются с продажи."
   ]
  },
  {
   "cell_type": "markdown",
   "metadata": {},
   "source": [
    "Задача 3. Какие факторы больше всего влияют на стоимость квартиры? Изучите, зависит ли цена от площади, числа комнат, удалённости от центра. Изучите зависимость цены от того, на каком этаже расположена квартира: первом, последнем или другом. Также изучите зависимость от даты размещения: дня недели, месяца и года."
   ]
  },
  {
   "cell_type": "markdown",
   "metadata": {},
   "source": [
    "Изучим зависимость цены квадратного метра от общей площади квартиры."
   ]
  },
  {
   "cell_type": "code",
   "execution_count": 35,
   "metadata": {},
   "outputs": [
    {
     "data": {
      "text/plain": [
       "0.30220181209172897"
      ]
     },
     "execution_count": 35,
     "metadata": {},
     "output_type": "execute_result"
    },
    {
     "data": {
      "image/png": "[encoded data removed]",
      "text/plain": [
       "<Figure size 432x288 with 1 Axes>"
      ]
     },
     "metadata": {
      "needs_background": "light"
     },
     "output_type": "display_data"
    }
   ],
   "source": [
    "pivot_table_total_area = df.pivot_table(index = 'total_area', values = 'price_per_square_meter', aggfunc = ['mean', 'count', 'median'])\n",
    "pivot_table_total_area.columns = ['mean', 'count', 'median']\n",
    "pivot_table_total_area.plot(y = 'median', style = 'o')\n",
    "\n",
    "pivot_table_total_area.sort_values('median', ascending = False)\n",
    "\n",
    "df['total_area'].corr(df['price_per_square_meter'])"
   ]
  },
  {
   "cell_type": "markdown",
   "metadata": {},
   "source": [
    "Кореляция есть, но очень слабая. Это значит, что с увеличением площади рост цены есть, но не велик."
   ]
  },
  {
   "cell_type": "markdown",
   "metadata": {},
   "source": [
    "Изучим зависимость цены квадратного метра от числа комнат."
   ]
  },
  {
   "cell_type": "code",
   "execution_count": 36,
   "metadata": {},
   "outputs": [
    {
     "data": {
      "text/plain": [
       "0.05547063298471476"
      ]
     },
     "execution_count": 36,
     "metadata": {},
     "output_type": "execute_result"
    },
    {
     "data": {
      "image/png": "[encoded data removed]",
      "text/plain": [
       "<Figure size 432x288 with 1 Axes>"
      ]
     },
     "metadata": {
      "needs_background": "light"
     },
     "output_type": "display_data"
    }
   ],
   "source": [
    "pivot_table_rooms = df.pivot_table(\n",
    "    index = 'rooms', \n",
    "    values = 'price_per_square_meter', \n",
    "    aggfunc = ['mean', 'count', 'median'])\n",
    "\n",
    "pivot_table_rooms.columns = ['mean', 'count', 'median']\n",
    "pivot_table_rooms.query('count > 50').plot(y = 'median')\n",
    "\n",
    "pivot_table_rooms.query('count > 50').sort_values('median', ascending = False)\n",
    "\n",
    "df['rooms'].corr(df['price_per_square_meter'])"
   ]
  },
  {
   "cell_type": "markdown",
   "metadata": {},
   "source": [
    "Коэффициент корреляции умеренный. Связь между количством комнат и ценой есть, однако по графику можно сделать вывод что цена квадратного метра дешевле всего у трёхкомнатных квартир."
   ]
  },
  {
   "cell_type": "markdown",
   "metadata": {},
   "source": [
    "Изучим зависимость цены квадратного метра от этажа (первого, последнего, другого)."
   ]
  },
  {
   "cell_type": "code",
   "execution_count": 37,
   "metadata": {},
   "outputs": [
    {
     "data": {
      "text/html": [
       "<div>\n",
       "<style scoped>\n",
       "    .dataframe tbody tr th:only-of-type {\n",
       "        vertical-align: middle;\n",
       "    }\n",
       "\n",
       "    .dataframe tbody tr th {\n",
       "        vertical-align: top;\n",
       "    }\n",
       "\n",
       "    .dataframe thead th {\n",
       "        text-align: right;\n",
       "    }\n",
       "</style>\n",
       "<table border=\"1\" class=\"dataframe\">\n",
       "  <thead>\n",
       "    <tr style=\"text-align: right;\">\n",
       "      <th></th>\n",
       "      <th>mean</th>\n",
       "      <th>count</th>\n",
       "      <th>median</th>\n",
       "    </tr>\n",
       "    <tr>\n",
       "      <th>floor_name</th>\n",
       "      <th></th>\n",
       "      <th></th>\n",
       "      <th></th>\n",
       "    </tr>\n",
       "  </thead>\n",
       "  <tbody>\n",
       "    <tr>\n",
       "      <td>другой</td>\n",
       "      <td>0.103508</td>\n",
       "      <td>17408</td>\n",
       "      <td>0.098305</td>\n",
       "    </tr>\n",
       "    <tr>\n",
       "      <td>первый</td>\n",
       "      <td>0.081989</td>\n",
       "      <td>2912</td>\n",
       "      <td>0.081237</td>\n",
       "    </tr>\n",
       "    <tr>\n",
       "      <td>последний</td>\n",
       "      <td>0.093379</td>\n",
       "      <td>3330</td>\n",
       "      <td>0.087763</td>\n",
       "    </tr>\n",
       "  </tbody>\n",
       "</table>\n",
       "</div>"
      ],
      "text/plain": [
       "                mean  count    median\n",
       "floor_name                           \n",
       "другой      0.103508  17408  0.098305\n",
       "первый      0.081989   2912  0.081237\n",
       "последний   0.093379   3330  0.087763"
      ]
     },
     "execution_count": 37,
     "metadata": {},
     "output_type": "execute_result"
    },
    {
     "data": {
      "image/png": "[encoded data removed]",
      "text/plain": [
       "<Figure size 432x288 with 1 Axes>"
      ]
     },
     "metadata": {
      "needs_background": "light"
     },
     "output_type": "display_data"
    }
   ],
   "source": [
    "pivot_table_floor_name = df.pivot_table(\n",
    "        index = 'floor_name', \n",
    "        values = 'price_per_square_meter', \n",
    "        aggfunc = ['mean', 'count', 'median'])\n",
    "\n",
    "pivot_table_floor_name.columns = ['mean', 'count', 'median']\n",
    "pivot_table_floor_name.plot(y = 'median')\n",
    "pivot_table_floor_name"
   ]
  },
  {
   "cell_type": "markdown",
   "metadata": {},
   "source": [
    "Судя по медиане, самые дешёвые квртиры на первом этаже, дороже на последнем и самы дорогие на другом этаже."
   ]
  },
  {
   "cell_type": "markdown",
   "metadata": {},
   "source": [
    "Изучим зависимость цены квадратного метра от удалённости от центра."
   ]
  },
  {
   "cell_type": "code",
   "execution_count": 38,
   "metadata": {},
   "outputs": [
    {
     "data": {
      "text/plain": [
       "-0.31809933802323276"
      ]
     },
     "execution_count": 38,
     "metadata": {},
     "output_type": "execute_result"
    },
    {
     "data": {
      "image/png": "[encoded data removed]",
      "text/plain": [
       "<Figure size 432x288 with 1 Axes>"
      ]
     },
     "metadata": {
      "needs_background": "light"
     },
     "output_type": "display_data"
    }
   ],
   "source": [
    "df.plot(\n",
    "    kind = 'scatter', \n",
    "    y = 'price_per_square_meter', \n",
    "    x = 'cityCenters_nearest', \n",
    "    alpha = 0.3)\n",
    "\n",
    "df['cityCenters_nearest'].corr(df['price_per_square_meter'])"
   ]
  },
  {
   "cell_type": "markdown",
   "metadata": {},
   "source": [
    "На графике виден рост цены квадратного метра в зависимости от приближённости квартиры к центру, однако после 20 км эта зависимость пропадает и цены за метр примерно одинаковы."
   ]
  },
  {
   "cell_type": "markdown",
   "metadata": {},
   "source": [
    "Изучим зависимость цены квадратного метра от дня недели."
   ]
  },
  {
   "cell_type": "code",
   "execution_count": 39,
   "metadata": {},
   "outputs": [
    {
     "data": {
      "text/html": [
       "<div>\n",
       "<style scoped>\n",
       "    .dataframe tbody tr th:only-of-type {\n",
       "        vertical-align: middle;\n",
       "    }\n",
       "\n",
       "    .dataframe tbody tr th {\n",
       "        vertical-align: top;\n",
       "    }\n",
       "\n",
       "    .dataframe thead th {\n",
       "        text-align: right;\n",
       "    }\n",
       "</style>\n",
       "<table border=\"1\" class=\"dataframe\">\n",
       "  <thead>\n",
       "    <tr style=\"text-align: right;\">\n",
       "      <th></th>\n",
       "      <th>mean</th>\n",
       "      <th>count</th>\n",
       "      <th>median</th>\n",
       "    </tr>\n",
       "    <tr>\n",
       "      <th>day</th>\n",
       "      <th></th>\n",
       "      <th></th>\n",
       "      <th></th>\n",
       "    </tr>\n",
       "  </thead>\n",
       "  <tbody>\n",
       "    <tr>\n",
       "      <td>1</td>\n",
       "      <td>0.099725</td>\n",
       "      <td>4175</td>\n",
       "      <td>0.095634</td>\n",
       "    </tr>\n",
       "    <tr>\n",
       "      <td>2</td>\n",
       "      <td>0.099606</td>\n",
       "      <td>3966</td>\n",
       "      <td>0.095474</td>\n",
       "    </tr>\n",
       "    <tr>\n",
       "      <td>3</td>\n",
       "      <td>0.100193</td>\n",
       "      <td>4286</td>\n",
       "      <td>0.095153</td>\n",
       "    </tr>\n",
       "    <tr>\n",
       "      <td>0</td>\n",
       "      <td>0.099470</td>\n",
       "      <td>3606</td>\n",
       "      <td>0.094704</td>\n",
       "    </tr>\n",
       "    <tr>\n",
       "      <td>4</td>\n",
       "      <td>0.098987</td>\n",
       "      <td>3992</td>\n",
       "      <td>0.094608</td>\n",
       "    </tr>\n",
       "    <tr>\n",
       "      <td>6</td>\n",
       "      <td>0.097763</td>\n",
       "      <td>1692</td>\n",
       "      <td>0.094595</td>\n",
       "    </tr>\n",
       "    <tr>\n",
       "      <td>5</td>\n",
       "      <td>0.099066</td>\n",
       "      <td>1933</td>\n",
       "      <td>0.093548</td>\n",
       "    </tr>\n",
       "  </tbody>\n",
       "</table>\n",
       "</div>"
      ],
      "text/plain": [
       "         mean  count    median\n",
       "day                           \n",
       "1    0.099725   4175  0.095634\n",
       "2    0.099606   3966  0.095474\n",
       "3    0.100193   4286  0.095153\n",
       "0    0.099470   3606  0.094704\n",
       "4    0.098987   3992  0.094608\n",
       "6    0.097763   1692  0.094595\n",
       "5    0.099066   1933  0.093548"
      ]
     },
     "execution_count": 39,
     "metadata": {},
     "output_type": "execute_result"
    },
    {
     "data": {
      "image/png": "[encoded data removed]",
      "text/plain": [
       "<Figure size 432x288 with 1 Axes>"
      ]
     },
     "metadata": {
      "needs_background": "light"
     },
     "output_type": "display_data"
    }
   ],
   "source": [
    "pivot_table_day_exposition = df.pivot_table(\n",
    "    index = 'day', \n",
    "    values = 'price_per_square_meter', \n",
    "    aggfunc = ['mean', 'count', 'median'])\n",
    "\n",
    "pivot_table_day_exposition.columns = ['mean', 'count', 'median']\n",
    "pivot_table_day_exposition.plot(y = 'median')\n",
    "\n",
    "pivot_table_day_exposition.sort_values('median', ascending = False)"
   ]
  },
  {
   "cell_type": "markdown",
   "metadata": {},
   "source": [
    "Выставленные во вторник квариры самые дорогие, а в субботы самы дешёвые. Возможно стоимость зависит от активности людей в рабочие и выходные дни."
   ]
  },
  {
   "cell_type": "markdown",
   "metadata": {},
   "source": [
    "Изучим зависимость цены квадратного метра от месяца."
   ]
  },
  {
   "cell_type": "code",
   "execution_count": 40,
   "metadata": {},
   "outputs": [
    {
     "data": {
      "text/html": [
       "<div>\n",
       "<style scoped>\n",
       "    .dataframe tbody tr th:only-of-type {\n",
       "        vertical-align: middle;\n",
       "    }\n",
       "\n",
       "    .dataframe tbody tr th {\n",
       "        vertical-align: top;\n",
       "    }\n",
       "\n",
       "    .dataframe thead th {\n",
       "        text-align: right;\n",
       "    }\n",
       "</style>\n",
       "<table border=\"1\" class=\"dataframe\">\n",
       "  <thead>\n",
       "    <tr style=\"text-align: right;\">\n",
       "      <th></th>\n",
       "      <th>mean</th>\n",
       "      <th>count</th>\n",
       "      <th>median</th>\n",
       "    </tr>\n",
       "    <tr>\n",
       "      <th>month</th>\n",
       "      <th></th>\n",
       "      <th></th>\n",
       "      <th></th>\n",
       "    </tr>\n",
       "  </thead>\n",
       "  <tbody>\n",
       "    <tr>\n",
       "      <td>4</td>\n",
       "      <td>0.101957</td>\n",
       "      <td>2373</td>\n",
       "      <td>0.096452</td>\n",
       "    </tr>\n",
       "    <tr>\n",
       "      <td>8</td>\n",
       "      <td>0.100147</td>\n",
       "      <td>1742</td>\n",
       "      <td>0.096103</td>\n",
       "    </tr>\n",
       "    <tr>\n",
       "      <td>11</td>\n",
       "      <td>0.099254</td>\n",
       "      <td>2367</td>\n",
       "      <td>0.095625</td>\n",
       "    </tr>\n",
       "    <tr>\n",
       "      <td>9</td>\n",
       "      <td>0.100491</td>\n",
       "      <td>1979</td>\n",
       "      <td>0.095609</td>\n",
       "    </tr>\n",
       "    <tr>\n",
       "      <td>3</td>\n",
       "      <td>0.098998</td>\n",
       "      <td>2582</td>\n",
       "      <td>0.095293</td>\n",
       "    </tr>\n",
       "    <tr>\n",
       "      <td>1</td>\n",
       "      <td>0.099838</td>\n",
       "      <td>1491</td>\n",
       "      <td>0.095210</td>\n",
       "    </tr>\n",
       "    <tr>\n",
       "      <td>7</td>\n",
       "      <td>0.099651</td>\n",
       "      <td>1690</td>\n",
       "      <td>0.095019</td>\n",
       "    </tr>\n",
       "    <tr>\n",
       "      <td>2</td>\n",
       "      <td>0.098770</td>\n",
       "      <td>2639</td>\n",
       "      <td>0.095000</td>\n",
       "    </tr>\n",
       "    <tr>\n",
       "      <td>12</td>\n",
       "      <td>0.099502</td>\n",
       "      <td>1638</td>\n",
       "      <td>0.094238</td>\n",
       "    </tr>\n",
       "    <tr>\n",
       "      <td>10</td>\n",
       "      <td>0.097969</td>\n",
       "      <td>2124</td>\n",
       "      <td>0.094213</td>\n",
       "    </tr>\n",
       "    <tr>\n",
       "      <td>5</td>\n",
       "      <td>0.098536</td>\n",
       "      <td>1270</td>\n",
       "      <td>0.092857</td>\n",
       "    </tr>\n",
       "    <tr>\n",
       "      <td>6</td>\n",
       "      <td>0.097789</td>\n",
       "      <td>1755</td>\n",
       "      <td>0.092857</td>\n",
       "    </tr>\n",
       "  </tbody>\n",
       "</table>\n",
       "</div>"
      ],
      "text/plain": [
       "           mean  count    median\n",
       "month                           \n",
       "4      0.101957   2373  0.096452\n",
       "8      0.100147   1742  0.096103\n",
       "11     0.099254   2367  0.095625\n",
       "9      0.100491   1979  0.095609\n",
       "3      0.098998   2582  0.095293\n",
       "1      0.099838   1491  0.095210\n",
       "7      0.099651   1690  0.095019\n",
       "2      0.098770   2639  0.095000\n",
       "12     0.099502   1638  0.094238\n",
       "10     0.097969   2124  0.094213\n",
       "5      0.098536   1270  0.092857\n",
       "6      0.097789   1755  0.092857"
      ]
     },
     "execution_count": 40,
     "metadata": {},
     "output_type": "execute_result"
    },
    {
     "data": {
      "image/png": "[encoded data removed]",
      "text/plain": [
       "<Figure size 432x288 with 1 Axes>"
      ]
     },
     "metadata": {
      "needs_background": "light"
     },
     "output_type": "display_data"
    }
   ],
   "source": [
    "pivot_table_month_exposition = df.pivot_table(\n",
    "    index = 'month', \n",
    "    values = 'price_per_square_meter', \n",
    "    aggfunc = ['mean', 'count', 'median'])\n",
    "\n",
    "pivot_table_month_exposition.columns = ['mean', 'count', 'median']\n",
    "pivot_table_month_exposition.plot(y = 'median')\n",
    "\n",
    "pivot_table_month_exposition.sort_values('median', ascending = False)"
   ]
  },
  {
   "cell_type": "markdown",
   "metadata": {},
   "source": [
    "Cамая высокая стоимость метра в апрелеи августе. Самая низкая стоимость в мае и июне. Цена в данном случае может зависеть от отпусков людей."
   ]
  },
  {
   "cell_type": "markdown",
   "metadata": {},
   "source": [
    "Изучим зависимость цены квадратного метра от года."
   ]
  },
  {
   "cell_type": "code",
   "execution_count": 41,
   "metadata": {},
   "outputs": [
    {
     "data": {
      "text/html": [
       "<div>\n",
       "<style scoped>\n",
       "    .dataframe tbody tr th:only-of-type {\n",
       "        vertical-align: middle;\n",
       "    }\n",
       "\n",
       "    .dataframe tbody tr th {\n",
       "        vertical-align: top;\n",
       "    }\n",
       "\n",
       "    .dataframe thead th {\n",
       "        text-align: right;\n",
       "    }\n",
       "</style>\n",
       "<table border=\"1\" class=\"dataframe\">\n",
       "  <thead>\n",
       "    <tr style=\"text-align: right;\">\n",
       "      <th></th>\n",
       "      <th>mean</th>\n",
       "      <th>count</th>\n",
       "      <th>median</th>\n",
       "    </tr>\n",
       "    <tr>\n",
       "      <th>year</th>\n",
       "      <th></th>\n",
       "      <th></th>\n",
       "      <th></th>\n",
       "    </tr>\n",
       "  </thead>\n",
       "  <tbody>\n",
       "    <tr>\n",
       "      <td>2014</td>\n",
       "      <td>0.124302</td>\n",
       "      <td>136</td>\n",
       "      <td>0.106902</td>\n",
       "    </tr>\n",
       "    <tr>\n",
       "      <td>2019</td>\n",
       "      <td>0.107124</td>\n",
       "      <td>2879</td>\n",
       "      <td>0.103306</td>\n",
       "    </tr>\n",
       "    <tr>\n",
       "      <td>2018</td>\n",
       "      <td>0.097800</td>\n",
       "      <td>8512</td>\n",
       "      <td>0.095704</td>\n",
       "    </tr>\n",
       "    <tr>\n",
       "      <td>2015</td>\n",
       "      <td>0.104719</td>\n",
       "      <td>1173</td>\n",
       "      <td>0.093396</td>\n",
       "    </tr>\n",
       "    <tr>\n",
       "      <td>2017</td>\n",
       "      <td>0.097637</td>\n",
       "      <td>8185</td>\n",
       "      <td>0.092570</td>\n",
       "    </tr>\n",
       "    <tr>\n",
       "      <td>2016</td>\n",
       "      <td>0.098295</td>\n",
       "      <td>2765</td>\n",
       "      <td>0.091667</td>\n",
       "    </tr>\n",
       "  </tbody>\n",
       "</table>\n",
       "</div>"
      ],
      "text/plain": [
       "          mean  count    median\n",
       "year                           \n",
       "2014  0.124302    136  0.106902\n",
       "2019  0.107124   2879  0.103306\n",
       "2018  0.097800   8512  0.095704\n",
       "2015  0.104719   1173  0.093396\n",
       "2017  0.097637   8185  0.092570\n",
       "2016  0.098295   2765  0.091667"
      ]
     },
     "execution_count": 41,
     "metadata": {},
     "output_type": "execute_result"
    },
    {
     "data": {
      "image/png": "[encoded data removed]",
      "text/plain": [
       "<Figure size 432x288 with 1 Axes>"
      ]
     },
     "metadata": {
      "needs_background": "light"
     },
     "output_type": "display_data"
    }
   ],
   "source": [
    "pivot_table_year_exposition = df.pivot_table(\n",
    "    index = 'year', \n",
    "    values = 'price_per_square_meter', \n",
    "    aggfunc = ['mean', 'count', 'median'])\n",
    "\n",
    "pivot_table_year_exposition.columns = ['mean', 'count', 'median']\n",
    "pivot_table_year_exposition.plot(y = 'median')\n",
    "\n",
    "pivot_table_year_exposition.sort_values('median', ascending = False)"
   ]
  },
  {
   "cell_type": "markdown",
   "metadata": {},
   "source": [
    "Самые дорогие квартиры были в 2014 году, зтем был резкий спад к 2015 году, в 2016 цены были самые низкие, но к 2019 году цены снова выросли почти до уровня 2014 года. Однако, это лишь медианное значение, по факту, цены аналогичных квартир могли вести себя по-другому."
   ]
  },
  {
   "cell_type": "markdown",
   "metadata": {},
   "source": [
    "Задача 4. Выберите 10 населённых пунктов с наибольшим числом объявлений. Посчитайте среднюю цену квадратного метра в этих населённых пунктах. Выделите населённые пункты с самой высокой и низкой стоимостью жилья. Эти данные можно найти по имени в столбце 'locality_name'."
   ]
  },
  {
   "cell_type": "code",
   "execution_count": 42,
   "metadata": {},
   "outputs": [
    {
     "data": {
      "text/html": [
       "<div>\n",
       "<style scoped>\n",
       "    .dataframe tbody tr th:only-of-type {\n",
       "        vertical-align: middle;\n",
       "    }\n",
       "\n",
       "    .dataframe tbody tr th {\n",
       "        vertical-align: top;\n",
       "    }\n",
       "\n",
       "    .dataframe thead th {\n",
       "        text-align: right;\n",
       "    }\n",
       "</style>\n",
       "<table border=\"1\" class=\"dataframe\">\n",
       "  <thead>\n",
       "    <tr style=\"text-align: right;\">\n",
       "      <th></th>\n",
       "      <th>count</th>\n",
       "      <th>mean</th>\n",
       "    </tr>\n",
       "    <tr>\n",
       "      <th>locality_name</th>\n",
       "      <th></th>\n",
       "      <th></th>\n",
       "    </tr>\n",
       "  </thead>\n",
       "  <tbody>\n",
       "    <tr>\n",
       "      <td>санкт-петербург</td>\n",
       "      <td>15721</td>\n",
       "      <td>0.114849</td>\n",
       "    </tr>\n",
       "    <tr>\n",
       "      <td>поселок мурино</td>\n",
       "      <td>556</td>\n",
       "      <td>0.085682</td>\n",
       "    </tr>\n",
       "    <tr>\n",
       "      <td>поселок шушары</td>\n",
       "      <td>440</td>\n",
       "      <td>0.078677</td>\n",
       "    </tr>\n",
       "    <tr>\n",
       "      <td>всеволожск</td>\n",
       "      <td>398</td>\n",
       "      <td>0.068654</td>\n",
       "    </tr>\n",
       "    <tr>\n",
       "      <td>пушкин</td>\n",
       "      <td>369</td>\n",
       "      <td>0.103126</td>\n",
       "    </tr>\n",
       "    <tr>\n",
       "      <td>колпино</td>\n",
       "      <td>338</td>\n",
       "      <td>0.075425</td>\n",
       "    </tr>\n",
       "    <tr>\n",
       "      <td>поселок парголово</td>\n",
       "      <td>327</td>\n",
       "      <td>0.090176</td>\n",
       "    </tr>\n",
       "    <tr>\n",
       "      <td>гатчина</td>\n",
       "      <td>307</td>\n",
       "      <td>0.068746</td>\n",
       "    </tr>\n",
       "    <tr>\n",
       "      <td>деревня кудрово</td>\n",
       "      <td>299</td>\n",
       "      <td>0.092473</td>\n",
       "    </tr>\n",
       "    <tr>\n",
       "      <td>выборг</td>\n",
       "      <td>237</td>\n",
       "      <td>0.058142</td>\n",
       "    </tr>\n",
       "  </tbody>\n",
       "</table>\n",
       "</div>"
      ],
      "text/plain": [
       "                   count      mean\n",
       "locality_name                     \n",
       "санкт-петербург    15721  0.114849\n",
       "поселок мурино       556  0.085682\n",
       "поселок шушары       440  0.078677\n",
       "всеволожск           398  0.068654\n",
       "пушкин               369  0.103126\n",
       "колпино              338  0.075425\n",
       "поселок парголово    327  0.090176\n",
       "гатчина              307  0.068746\n",
       "деревня кудрово      299  0.092473\n",
       "выборг               237  0.058142"
      ]
     },
     "execution_count": 42,
     "metadata": {},
     "output_type": "execute_result"
    }
   ],
   "source": [
    "locality_pivot_table = df.pivot_table(\n",
    "    index = 'locality_name', \n",
    "    values = 'price_per_square_meter', \n",
    "    aggfunc=['count', 'mean'])\n",
    "\n",
    "locality_pivot_table.columns = ['count', 'mean']\n",
    "locality_pivot_table = locality_pivot_table.sort_values('count', ascending = False).head(10)\n",
    "locality_pivot_table"
   ]
  },
  {
   "cell_type": "markdown",
   "metadata": {},
   "source": [
    "Населённый пункт с самой высокой стоимостью жилья.\n"
   ]
  },
  {
   "cell_type": "code",
   "execution_count": 43,
   "metadata": {},
   "outputs": [
    {
     "data": {
      "text/html": [
       "<div>\n",
       "<style scoped>\n",
       "    .dataframe tbody tr th:only-of-type {\n",
       "        vertical-align: middle;\n",
       "    }\n",
       "\n",
       "    .dataframe tbody tr th {\n",
       "        vertical-align: top;\n",
       "    }\n",
       "\n",
       "    .dataframe thead th {\n",
       "        text-align: right;\n",
       "    }\n",
       "</style>\n",
       "<table border=\"1\" class=\"dataframe\">\n",
       "  <thead>\n",
       "    <tr style=\"text-align: right;\">\n",
       "      <th></th>\n",
       "      <th>count</th>\n",
       "      <th>mean</th>\n",
       "    </tr>\n",
       "    <tr>\n",
       "      <th>locality_name</th>\n",
       "      <th></th>\n",
       "      <th></th>\n",
       "    </tr>\n",
       "  </thead>\n",
       "  <tbody>\n",
       "    <tr>\n",
       "      <td>санкт-петербург</td>\n",
       "      <td>15721</td>\n",
       "      <td>0.114849</td>\n",
       "    </tr>\n",
       "  </tbody>\n",
       "</table>\n",
       "</div>"
      ],
      "text/plain": [
       "                 count      mean\n",
       "locality_name                   \n",
       "санкт-петербург  15721  0.114849"
      ]
     },
     "execution_count": 43,
     "metadata": {},
     "output_type": "execute_result"
    }
   ],
   "source": [
    "locality_pivot_table[ locality_pivot_table['mean'] == locality_pivot_table['mean'].max() ]"
   ]
  },
  {
   "cell_type": "markdown",
   "metadata": {},
   "source": [
    "Населённый пункт с самой низкой стоимостью жилья."
   ]
  },
  {
   "cell_type": "code",
   "execution_count": 44,
   "metadata": {},
   "outputs": [
    {
     "data": {
      "text/html": [
       "<div>\n",
       "<style scoped>\n",
       "    .dataframe tbody tr th:only-of-type {\n",
       "        vertical-align: middle;\n",
       "    }\n",
       "\n",
       "    .dataframe tbody tr th {\n",
       "        vertical-align: top;\n",
       "    }\n",
       "\n",
       "    .dataframe thead th {\n",
       "        text-align: right;\n",
       "    }\n",
       "</style>\n",
       "<table border=\"1\" class=\"dataframe\">\n",
       "  <thead>\n",
       "    <tr style=\"text-align: right;\">\n",
       "      <th></th>\n",
       "      <th>count</th>\n",
       "      <th>mean</th>\n",
       "    </tr>\n",
       "    <tr>\n",
       "      <th>locality_name</th>\n",
       "      <th></th>\n",
       "      <th></th>\n",
       "    </tr>\n",
       "  </thead>\n",
       "  <tbody>\n",
       "    <tr>\n",
       "      <td>выборг</td>\n",
       "      <td>237</td>\n",
       "      <td>0.058142</td>\n",
       "    </tr>\n",
       "  </tbody>\n",
       "</table>\n",
       "</div>"
      ],
      "text/plain": [
       "               count      mean\n",
       "locality_name                 \n",
       "выборг           237  0.058142"
      ]
     },
     "execution_count": 44,
     "metadata": {},
     "output_type": "execute_result"
    }
   ],
   "source": [
    "locality_pivot_table[ locality_pivot_table['mean'] == locality_pivot_table['mean'].min() ]"
   ]
  },
  {
   "cell_type": "markdown",
   "metadata": {},
   "source": [
    "Самая высокая стоимость жилья из 10 населённых пунктов с самым большим количеством объявлений в Санкт-Петербурге, тогда как самая низкая стоимость в Выборге."
   ]
  },
  {
   "cell_type": "markdown",
   "metadata": {},
   "source": [
    "Задача 5. Изучите предложения квартир: для каждой квартиры есть информация о расстоянии до центра. Выделите квартиры в Санкт-Петербурге ('locality_name'). Ваша задача — выяснить, какая область входит в центр. Создайте столбец с расстоянием до центра в километрах: округлите до целых значений. После этого посчитайте среднюю цену для каждого километра. Постройте график: он должен показывать, как цена зависит от удалённости от центра. Определите границу, где график сильно меняется — это и будет центральная зона."
   ]
  },
  {
   "cell_type": "markdown",
   "metadata": {},
   "source": [
    "Добавим столбец с растоянием от центра в киломметрах, заполним пропуски и приведём формат к целочисленному."
   ]
  },
  {
   "cell_type": "code",
   "execution_count": 45,
   "metadata": {},
   "outputs": [],
   "source": [
    "df['cityCenters_nearest_km'] = df['cityCenters_nearest']/1000\n",
    "df['cityCenters_nearest_km'] = df['cityCenters_nearest_km'].fillna(999999)\n",
    "df['cityCenters_nearest_km'] = df['cityCenters_nearest_km'].astype('int')"
   ]
  },
  {
   "cell_type": "markdown",
   "metadata": {},
   "source": []
  },
  {
   "cell_type": "code",
   "execution_count": 46,
   "metadata": {
    "scrolled": false
   },
   "outputs": [
    {
     "data": {
      "text/html": [
       "<div>\n",
       "<style scoped>\n",
       "    .dataframe tbody tr th:only-of-type {\n",
       "        vertical-align: middle;\n",
       "    }\n",
       "\n",
       "    .dataframe tbody tr th {\n",
       "        vertical-align: top;\n",
       "    }\n",
       "\n",
       "    .dataframe thead th {\n",
       "        text-align: right;\n",
       "    }\n",
       "</style>\n",
       "<table border=\"1\" class=\"dataframe\">\n",
       "  <thead>\n",
       "    <tr style=\"text-align: right;\">\n",
       "      <th></th>\n",
       "      <th>price_per_square_meter</th>\n",
       "    </tr>\n",
       "    <tr>\n",
       "      <th>cityCenters_nearest_km</th>\n",
       "      <th></th>\n",
       "    </tr>\n",
       "  </thead>\n",
       "  <tbody>\n",
       "    <tr>\n",
       "      <td>0</td>\n",
       "      <td>0.187324</td>\n",
       "    </tr>\n",
       "    <tr>\n",
       "      <td>1</td>\n",
       "      <td>0.166604</td>\n",
       "    </tr>\n",
       "    <tr>\n",
       "      <td>2</td>\n",
       "      <td>0.146663</td>\n",
       "    </tr>\n",
       "    <tr>\n",
       "      <td>3</td>\n",
       "      <td>0.129416</td>\n",
       "    </tr>\n",
       "    <tr>\n",
       "      <td>4</td>\n",
       "      <td>0.137475</td>\n",
       "    </tr>\n",
       "    <tr>\n",
       "      <td>5</td>\n",
       "      <td>0.146979</td>\n",
       "    </tr>\n",
       "    <tr>\n",
       "      <td>6</td>\n",
       "      <td>0.152278</td>\n",
       "    </tr>\n",
       "    <tr>\n",
       "      <td>7</td>\n",
       "      <td>0.141400</td>\n",
       "    </tr>\n",
       "    <tr>\n",
       "      <td>8</td>\n",
       "      <td>0.120581</td>\n",
       "    </tr>\n",
       "    <tr>\n",
       "      <td>9</td>\n",
       "      <td>0.110013</td>\n",
       "    </tr>\n",
       "    <tr>\n",
       "      <td>10</td>\n",
       "      <td>0.111641</td>\n",
       "    </tr>\n",
       "    <tr>\n",
       "      <td>11</td>\n",
       "      <td>0.106791</td>\n",
       "    </tr>\n",
       "    <tr>\n",
       "      <td>12</td>\n",
       "      <td>0.108296</td>\n",
       "    </tr>\n",
       "    <tr>\n",
       "      <td>13</td>\n",
       "      <td>0.107209</td>\n",
       "    </tr>\n",
       "    <tr>\n",
       "      <td>14</td>\n",
       "      <td>0.104986</td>\n",
       "    </tr>\n",
       "    <tr>\n",
       "      <td>15</td>\n",
       "      <td>0.101883</td>\n",
       "    </tr>\n",
       "    <tr>\n",
       "      <td>16</td>\n",
       "      <td>0.100086</td>\n",
       "    </tr>\n",
       "    <tr>\n",
       "      <td>17</td>\n",
       "      <td>0.094096</td>\n",
       "    </tr>\n",
       "    <tr>\n",
       "      <td>18</td>\n",
       "      <td>0.094832</td>\n",
       "    </tr>\n",
       "    <tr>\n",
       "      <td>19</td>\n",
       "      <td>0.095434</td>\n",
       "    </tr>\n",
       "    <tr>\n",
       "      <td>20</td>\n",
       "      <td>0.107046</td>\n",
       "    </tr>\n",
       "    <tr>\n",
       "      <td>21</td>\n",
       "      <td>0.091493</td>\n",
       "    </tr>\n",
       "    <tr>\n",
       "      <td>22</td>\n",
       "      <td>0.088715</td>\n",
       "    </tr>\n",
       "    <tr>\n",
       "      <td>23</td>\n",
       "      <td>0.092721</td>\n",
       "    </tr>\n",
       "    <tr>\n",
       "      <td>24</td>\n",
       "      <td>0.082440</td>\n",
       "    </tr>\n",
       "    <tr>\n",
       "      <td>25</td>\n",
       "      <td>0.091136</td>\n",
       "    </tr>\n",
       "    <tr>\n",
       "      <td>26</td>\n",
       "      <td>0.075172</td>\n",
       "    </tr>\n",
       "    <tr>\n",
       "      <td>27</td>\n",
       "      <td>0.132116</td>\n",
       "    </tr>\n",
       "    <tr>\n",
       "      <td>28</td>\n",
       "      <td>0.081841</td>\n",
       "    </tr>\n",
       "    <tr>\n",
       "      <td>29</td>\n",
       "      <td>0.062482</td>\n",
       "    </tr>\n",
       "  </tbody>\n",
       "</table>\n",
       "</div>"
      ],
      "text/plain": [
       "                        price_per_square_meter\n",
       "cityCenters_nearest_km                        \n",
       "0                                     0.187324\n",
       "1                                     0.166604\n",
       "2                                     0.146663\n",
       "3                                     0.129416\n",
       "4                                     0.137475\n",
       "5                                     0.146979\n",
       "6                                     0.152278\n",
       "7                                     0.141400\n",
       "8                                     0.120581\n",
       "9                                     0.110013\n",
       "10                                    0.111641\n",
       "11                                    0.106791\n",
       "12                                    0.108296\n",
       "13                                    0.107209\n",
       "14                                    0.104986\n",
       "15                                    0.101883\n",
       "16                                    0.100086\n",
       "17                                    0.094096\n",
       "18                                    0.094832\n",
       "19                                    0.095434\n",
       "20                                    0.107046\n",
       "21                                    0.091493\n",
       "22                                    0.088715\n",
       "23                                    0.092721\n",
       "24                                    0.082440\n",
       "25                                    0.091136\n",
       "26                                    0.075172\n",
       "27                                    0.132116\n",
       "28                                    0.081841\n",
       "29                                    0.062482"
      ]
     },
     "execution_count": 46,
     "metadata": {},
     "output_type": "execute_result"
    },
    {
     "data": {
      "image/png": "[encoded data removed]",
      "text/plain": [
       "<Figure size 432x288 with 1 Axes>"
      ]
     },
     "metadata": {
      "needs_background": "light"
     },
     "output_type": "display_data"
    }
   ],
   "source": [
    "pivot_table_km = df.query(\n",
    "    'locality_name == \"санкт-петербург\" and cityCenters_nearest_km !=999999'\n",
    "    ).pivot_table(\n",
    "        index = 'cityCenters_nearest_km', \n",
    "        values = 'price_per_square_meter', \n",
    "        aggfunc = 'mean')\n",
    "\n",
    "pivot_table_km.plot()\n",
    "pivot_table_km"
   ]
  },
  {
   "cell_type": "markdown",
   "metadata": {},
   "source": [
    "Судя по ценам на метр квадратный, центром будем считать радиус в 8 км."
   ]
  },
  {
   "cell_type": "markdown",
   "metadata": {},
   "source": [
    "Задача 6. Выделите сегмент квартир в центре. Проанализируйте эту территорию и изучите следующие параметры: площадь, цена, число комнат, высота потолков. Также выделите факторы, которые влияют на стоимость квартиры (число комнат, этаж, удалённость от центра, дата размещения объявления). Сделайте выводы. Отличаются ли они от общих выводов по всему городу?"
   ]
  },
  {
   "cell_type": "markdown",
   "metadata": {},
   "source": [
    "Выделем квартиры в центре, т.е. те которые находятся в радиусе 8 км. от центра."
   ]
  },
  {
   "cell_type": "code",
   "execution_count": 47,
   "metadata": {},
   "outputs": [],
   "source": [
    "center_spb = df.query('cityCenters_nearest_km <= 8 and locality_name == \"санкт-петербург\"')"
   ]
  },
  {
   "cell_type": "markdown",
   "metadata": {},
   "source": [
    "Зависимость цены квадратного метра от количества комнат."
   ]
  },
  {
   "cell_type": "code",
   "execution_count": 48,
   "metadata": {},
   "outputs": [
    {
     "data": {
      "text/plain": [
       "0.020596648392453756"
      ]
     },
     "execution_count": 48,
     "metadata": {},
     "output_type": "execute_result"
    },
    {
     "data": {
      "image/png": "[encoded data removed]",
      "text/plain": [
       "<Figure size 432x288 with 1 Axes>"
      ]
     },
     "metadata": {
      "needs_background": "light"
     },
     "output_type": "display_data"
    }
   ],
   "source": [
    "center_spb_rooms = center_spb.pivot_table(index = 'rooms', values = 'price_per_square_meter', aggfunc = ['mean', 'count', 'median'])\n",
    "center_spb_rooms.columns = ['mean', 'count', 'median']\n",
    "center_spb_rooms.query('count > 50').plot(y = 'median')\n",
    "\n",
    "center_spb_rooms.query('count > 50').sort_values('median', ascending = False)\n",
    "\n",
    "center_spb['rooms'].corr(center_spb['price_per_square_meter'])"
   ]
  },
  {
   "cell_type": "markdown",
   "metadata": {},
   "source": [
    "Коэффициент корреляции совсем маленький, что значит связь между количеством комнат и ценой за метр квадратный в центре Питера отсутствует."
   ]
  },
  {
   "cell_type": "markdown",
   "metadata": {},
   "source": [
    "Зависимость стоимости квадратного метра от этажа."
   ]
  },
  {
   "cell_type": "code",
   "execution_count": 49,
   "metadata": {},
   "outputs": [
    {
     "data": {
      "text/html": [
       "<div>\n",
       "<style scoped>\n",
       "    .dataframe tbody tr th:only-of-type {\n",
       "        vertical-align: middle;\n",
       "    }\n",
       "\n",
       "    .dataframe tbody tr th {\n",
       "        vertical-align: top;\n",
       "    }\n",
       "\n",
       "    .dataframe thead th {\n",
       "        text-align: right;\n",
       "    }\n",
       "</style>\n",
       "<table border=\"1\" class=\"dataframe\">\n",
       "  <thead>\n",
       "    <tr style=\"text-align: right;\">\n",
       "      <th></th>\n",
       "      <th>mean</th>\n",
       "      <th>count</th>\n",
       "      <th>median</th>\n",
       "    </tr>\n",
       "    <tr>\n",
       "      <th>floor_name</th>\n",
       "      <th></th>\n",
       "      <th></th>\n",
       "      <th></th>\n",
       "    </tr>\n",
       "  </thead>\n",
       "  <tbody>\n",
       "    <tr>\n",
       "      <td>другой</td>\n",
       "      <td>0.143497</td>\n",
       "      <td>3182</td>\n",
       "      <td>0.125916</td>\n",
       "    </tr>\n",
       "    <tr>\n",
       "      <td>первый</td>\n",
       "      <td>0.120248</td>\n",
       "      <td>466</td>\n",
       "      <td>0.106671</td>\n",
       "    </tr>\n",
       "    <tr>\n",
       "      <td>последний</td>\n",
       "      <td>0.141932</td>\n",
       "      <td>734</td>\n",
       "      <td>0.115765</td>\n",
       "    </tr>\n",
       "  </tbody>\n",
       "</table>\n",
       "</div>"
      ],
      "text/plain": [
       "                mean  count    median\n",
       "floor_name                           \n",
       "другой      0.143497   3182  0.125916\n",
       "первый      0.120248    466  0.106671\n",
       "последний   0.141932    734  0.115765"
      ]
     },
     "execution_count": 49,
     "metadata": {},
     "output_type": "execute_result"
    },
    {
     "data": {
      "image/png": "[encoded data removed]",
      "text/plain": [
       "<Figure size 432x288 with 1 Axes>"
      ]
     },
     "metadata": {
      "needs_background": "light"
     },
     "output_type": "display_data"
    }
   ],
   "source": [
    "center_spb_floor = center_spb.pivot_table(\n",
    "    index = 'floor_name', \n",
    "    values = 'price_per_square_meter', \n",
    "    aggfunc = ['mean', 'count', 'median'])\n",
    "\n",
    "center_spb_floor.columns = ['mean', 'count', 'median']\n",
    "center_spb_floor.plot(y = 'median')\n",
    "center_spb_floor"
   ]
  },
  {
   "cell_type": "markdown",
   "metadata": {},
   "source": [
    "Отличий между общей выборкой и по центру нет."
   ]
  },
  {
   "cell_type": "markdown",
   "metadata": {},
   "source": [
    "Зависимость цены квадратного метра от удалённости от центра."
   ]
  },
  {
   "cell_type": "code",
   "execution_count": 50,
   "metadata": {},
   "outputs": [
    {
     "data": {
      "text/plain": [
       "-0.08776220219323898"
      ]
     },
     "execution_count": 50,
     "metadata": {},
     "output_type": "execute_result"
    },
    {
     "data": {
      "image/png": "[encoded data removed]",
      "text/plain": [
       "<Figure size 432x288 with 1 Axes>"
      ]
     },
     "metadata": {
      "needs_background": "light"
     },
     "output_type": "display_data"
    }
   ],
   "source": [
    "center_spb.plot(\n",
    "    kind = 'scatter', \n",
    "    y = 'price_per_square_meter', \n",
    "    x = 'cityCenters_nearest', \n",
    "    alpha = 0.3)\n",
    "\n",
    "center_spb['cityCenters_nearest'].corr(center_spb['price_per_square_meter'])"
   ]
  },
  {
   "cell_type": "markdown",
   "metadata": {},
   "source": [
    "Зависимости нет, что ожидаемо, т.к. мы сделали выбрку по центру города."
   ]
  },
  {
   "cell_type": "markdown",
   "metadata": {},
   "source": [
    "Зависимость стоимости квадратного метра от дня недели размещения объявления."
   ]
  },
  {
   "cell_type": "code",
   "execution_count": 51,
   "metadata": {},
   "outputs": [
    {
     "data": {
      "text/html": [
       "<div>\n",
       "<style scoped>\n",
       "    .dataframe tbody tr th:only-of-type {\n",
       "        vertical-align: middle;\n",
       "    }\n",
       "\n",
       "    .dataframe tbody tr th {\n",
       "        vertical-align: top;\n",
       "    }\n",
       "\n",
       "    .dataframe thead th {\n",
       "        text-align: right;\n",
       "    }\n",
       "</style>\n",
       "<table border=\"1\" class=\"dataframe\">\n",
       "  <thead>\n",
       "    <tr style=\"text-align: right;\">\n",
       "      <th></th>\n",
       "      <th>mean</th>\n",
       "      <th>count</th>\n",
       "      <th>median</th>\n",
       "    </tr>\n",
       "    <tr>\n",
       "      <th>day</th>\n",
       "      <th></th>\n",
       "      <th></th>\n",
       "      <th></th>\n",
       "    </tr>\n",
       "  </thead>\n",
       "  <tbody>\n",
       "    <tr>\n",
       "      <td>6</td>\n",
       "      <td>0.141316</td>\n",
       "      <td>259</td>\n",
       "      <td>0.125483</td>\n",
       "    </tr>\n",
       "    <tr>\n",
       "      <td>5</td>\n",
       "      <td>0.149387</td>\n",
       "      <td>326</td>\n",
       "      <td>0.124756</td>\n",
       "    </tr>\n",
       "    <tr>\n",
       "      <td>0</td>\n",
       "      <td>0.141434</td>\n",
       "      <td>662</td>\n",
       "      <td>0.123330</td>\n",
       "    </tr>\n",
       "    <tr>\n",
       "      <td>2</td>\n",
       "      <td>0.139561</td>\n",
       "      <td>748</td>\n",
       "      <td>0.122897</td>\n",
       "    </tr>\n",
       "    <tr>\n",
       "      <td>4</td>\n",
       "      <td>0.138945</td>\n",
       "      <td>738</td>\n",
       "      <td>0.122301</td>\n",
       "    </tr>\n",
       "    <tr>\n",
       "      <td>3</td>\n",
       "      <td>0.140225</td>\n",
       "      <td>897</td>\n",
       "      <td>0.121351</td>\n",
       "    </tr>\n",
       "    <tr>\n",
       "      <td>1</td>\n",
       "      <td>0.139860</td>\n",
       "      <td>752</td>\n",
       "      <td>0.120104</td>\n",
       "    </tr>\n",
       "  </tbody>\n",
       "</table>\n",
       "</div>"
      ],
      "text/plain": [
       "         mean  count    median\n",
       "day                           \n",
       "6    0.141316    259  0.125483\n",
       "5    0.149387    326  0.124756\n",
       "0    0.141434    662  0.123330\n",
       "2    0.139561    748  0.122897\n",
       "4    0.138945    738  0.122301\n",
       "3    0.140225    897  0.121351\n",
       "1    0.139860    752  0.120104"
      ]
     },
     "execution_count": 51,
     "metadata": {},
     "output_type": "execute_result"
    },
    {
     "data": {
      "image/png": "[encoded data removed]",
      "text/plain": [
       "<Figure size 432x288 with 1 Axes>"
      ]
     },
     "metadata": {
      "needs_background": "light"
     },
     "output_type": "display_data"
    }
   ],
   "source": [
    "center_spb_day_exposition = center_spb.pivot_table(\n",
    "    index = 'day', \n",
    "    values = 'price_per_square_meter', \n",
    "    aggfunc = ['mean', 'count', 'median'])\n",
    "\n",
    "center_spb_day_exposition.columns = ['mean', 'count', 'median']\n",
    "center_spb_day_exposition.plot(y = 'median')\n",
    "\n",
    "center_spb_day_exposition.sort_values('median', ascending = False)"
   ]
  },
  {
   "cell_type": "markdown",
   "metadata": {},
   "source": [
    "График отличается от общей выборки. Здесь, самые дшёвые квартиры в четверг и воскресенье и самы дорогие в понедельник и пятницу."
   ]
  },
  {
   "cell_type": "markdown",
   "metadata": {},
   "source": [
    "Зависимость цены квадратного метра от месяца размещения объявления."
   ]
  },
  {
   "cell_type": "code",
   "execution_count": 52,
   "metadata": {},
   "outputs": [
    {
     "data": {
      "text/html": [
       "<div>\n",
       "<style scoped>\n",
       "    .dataframe tbody tr th:only-of-type {\n",
       "        vertical-align: middle;\n",
       "    }\n",
       "\n",
       "    .dataframe tbody tr th {\n",
       "        vertical-align: top;\n",
       "    }\n",
       "\n",
       "    .dataframe thead th {\n",
       "        text-align: right;\n",
       "    }\n",
       "</style>\n",
       "<table border=\"1\" class=\"dataframe\">\n",
       "  <thead>\n",
       "    <tr style=\"text-align: right;\">\n",
       "      <th></th>\n",
       "      <th>mean</th>\n",
       "      <th>count</th>\n",
       "      <th>median</th>\n",
       "    </tr>\n",
       "    <tr>\n",
       "      <th>month</th>\n",
       "      <th></th>\n",
       "      <th></th>\n",
       "      <th></th>\n",
       "    </tr>\n",
       "  </thead>\n",
       "  <tbody>\n",
       "    <tr>\n",
       "      <td>3</td>\n",
       "      <td>0.142075</td>\n",
       "      <td>472</td>\n",
       "      <td>0.129373</td>\n",
       "    </tr>\n",
       "    <tr>\n",
       "      <td>1</td>\n",
       "      <td>0.141894</td>\n",
       "      <td>271</td>\n",
       "      <td>0.126966</td>\n",
       "    </tr>\n",
       "    <tr>\n",
       "      <td>5</td>\n",
       "      <td>0.135570</td>\n",
       "      <td>258</td>\n",
       "      <td>0.125113</td>\n",
       "    </tr>\n",
       "    <tr>\n",
       "      <td>8</td>\n",
       "      <td>0.141596</td>\n",
       "      <td>325</td>\n",
       "      <td>0.125000</td>\n",
       "    </tr>\n",
       "    <tr>\n",
       "      <td>4</td>\n",
       "      <td>0.149124</td>\n",
       "      <td>414</td>\n",
       "      <td>0.122757</td>\n",
       "    </tr>\n",
       "    <tr>\n",
       "      <td>9</td>\n",
       "      <td>0.139281</td>\n",
       "      <td>388</td>\n",
       "      <td>0.122449</td>\n",
       "    </tr>\n",
       "    <tr>\n",
       "      <td>11</td>\n",
       "      <td>0.137896</td>\n",
       "      <td>431</td>\n",
       "      <td>0.121386</td>\n",
       "    </tr>\n",
       "    <tr>\n",
       "      <td>2</td>\n",
       "      <td>0.140405</td>\n",
       "      <td>460</td>\n",
       "      <td>0.120747</td>\n",
       "    </tr>\n",
       "    <tr>\n",
       "      <td>10</td>\n",
       "      <td>0.135665</td>\n",
       "      <td>375</td>\n",
       "      <td>0.120120</td>\n",
       "    </tr>\n",
       "    <tr>\n",
       "      <td>12</td>\n",
       "      <td>0.143757</td>\n",
       "      <td>296</td>\n",
       "      <td>0.119836</td>\n",
       "    </tr>\n",
       "    <tr>\n",
       "      <td>7</td>\n",
       "      <td>0.140476</td>\n",
       "      <td>352</td>\n",
       "      <td>0.119544</td>\n",
       "    </tr>\n",
       "    <tr>\n",
       "      <td>6</td>\n",
       "      <td>0.140121</td>\n",
       "      <td>340</td>\n",
       "      <td>0.116686</td>\n",
       "    </tr>\n",
       "  </tbody>\n",
       "</table>\n",
       "</div>"
      ],
      "text/plain": [
       "           mean  count    median\n",
       "month                           \n",
       "3      0.142075    472  0.129373\n",
       "1      0.141894    271  0.126966\n",
       "5      0.135570    258  0.125113\n",
       "8      0.141596    325  0.125000\n",
       "4      0.149124    414  0.122757\n",
       "9      0.139281    388  0.122449\n",
       "11     0.137896    431  0.121386\n",
       "2      0.140405    460  0.120747\n",
       "10     0.135665    375  0.120120\n",
       "12     0.143757    296  0.119836\n",
       "7      0.140476    352  0.119544\n",
       "6      0.140121    340  0.116686"
      ]
     },
     "execution_count": 52,
     "metadata": {},
     "output_type": "execute_result"
    },
    {
     "data": {
      "image/png": "[encoded data removed]",
      "text/plain": [
       "<Figure size 432x288 with 1 Axes>"
      ]
     },
     "metadata": {
      "needs_background": "light"
     },
     "output_type": "display_data"
    }
   ],
   "source": [
    "center_spb_month_exposition = center_spb.pivot_table(\n",
    "    index = 'month', \n",
    "    values = 'price_per_square_meter', \n",
    "    aggfunc = ['mean', 'count', 'median'])\n",
    "\n",
    "center_spb_month_exposition.columns = ['mean', 'count', 'median']\n",
    "center_spb_month_exposition.plot(y = 'median')\n",
    "\n",
    "center_spb_month_exposition.sort_values('median', ascending = False)"
   ]
  },
  {
   "cell_type": "markdown",
   "metadata": {},
   "source": [
    "График похож на график по общей выборке, здесь самые низкие цены за метр в мае и июне, а самые высокие цены в апреле и августе."
   ]
  },
  {
   "cell_type": "markdown",
   "metadata": {},
   "source": [
    "Зависимость цены квадратного метра от года размещения объявления."
   ]
  },
  {
   "cell_type": "code",
   "execution_count": 53,
   "metadata": {},
   "outputs": [
    {
     "data": {
      "text/html": [
       "<div>\n",
       "<style scoped>\n",
       "    .dataframe tbody tr th:only-of-type {\n",
       "        vertical-align: middle;\n",
       "    }\n",
       "\n",
       "    .dataframe tbody tr th {\n",
       "        vertical-align: top;\n",
       "    }\n",
       "\n",
       "    .dataframe thead th {\n",
       "        text-align: right;\n",
       "    }\n",
       "</style>\n",
       "<table border=\"1\" class=\"dataframe\">\n",
       "  <thead>\n",
       "    <tr style=\"text-align: right;\">\n",
       "      <th></th>\n",
       "      <th>mean</th>\n",
       "      <th>count</th>\n",
       "      <th>median</th>\n",
       "    </tr>\n",
       "    <tr>\n",
       "      <th>year</th>\n",
       "      <th></th>\n",
       "      <th></th>\n",
       "      <th></th>\n",
       "    </tr>\n",
       "  </thead>\n",
       "  <tbody>\n",
       "    <tr>\n",
       "      <td>2019</td>\n",
       "      <td>0.153147</td>\n",
       "      <td>486</td>\n",
       "      <td>0.133333</td>\n",
       "    </tr>\n",
       "    <tr>\n",
       "      <td>2018</td>\n",
       "      <td>0.136996</td>\n",
       "      <td>1347</td>\n",
       "      <td>0.123110</td>\n",
       "    </tr>\n",
       "    <tr>\n",
       "      <td>2015</td>\n",
       "      <td>0.142285</td>\n",
       "      <td>368</td>\n",
       "      <td>0.119912</td>\n",
       "    </tr>\n",
       "    <tr>\n",
       "      <td>2017</td>\n",
       "      <td>0.138519</td>\n",
       "      <td>1552</td>\n",
       "      <td>0.119383</td>\n",
       "    </tr>\n",
       "    <tr>\n",
       "      <td>2016</td>\n",
       "      <td>0.141635</td>\n",
       "      <td>591</td>\n",
       "      <td>0.119048</td>\n",
       "    </tr>\n",
       "  </tbody>\n",
       "</table>\n",
       "</div>"
      ],
      "text/plain": [
       "          mean  count    median\n",
       "year                           \n",
       "2019  0.153147    486  0.133333\n",
       "2018  0.136996   1347  0.123110\n",
       "2015  0.142285    368  0.119912\n",
       "2017  0.138519   1552  0.119383\n",
       "2016  0.141635    591  0.119048"
      ]
     },
     "execution_count": 53,
     "metadata": {},
     "output_type": "execute_result"
    },
    {
     "data": {
      "image/png": "[encoded data removed]",
      "text/plain": [
       "<Figure size 432x288 with 1 Axes>"
      ]
     },
     "metadata": {
      "needs_background": "light"
     },
     "output_type": "display_data"
    }
   ],
   "source": [
    "center_spb_year_exposition = center_spb.pivot_table(\n",
    "    index = 'year', \n",
    "    values = 'price_per_square_meter', \n",
    "    aggfunc = ['mean', 'count', 'median'])\n",
    "\n",
    "center_spb_year_exposition.columns = ['mean', 'count', 'median']\n",
    "center_spb_year_exposition.query('count > 50').plot(y = 'median')\n",
    "\n",
    "center_spb_year_exposition.query('count > 50').sort_values('median', ascending = False)"
   ]
  },
  {
   "cell_type": "markdown",
   "metadata": {},
   "source": [
    "В отличие от генеральной совокупности, цены на квадратный метр не падали в 2016 годах, а возрастали."
   ]
  },
  {
   "cell_type": "markdown",
   "metadata": {},
   "source": [
    "## Общий вывод"
   ]
  },
  {
   "cell_type": "markdown",
   "metadata": {},
   "source": [
    "Мы изучили и обработали полученные данных. Изучая время продажи квартир по дням мы выявили, что большое количество объявлений было автоматически снято с Яндекс Недвижимость и дату из снятия нельзя считать датой продажи квартиры. Мы выявили при помощи диаграммы размаха, что нормальные значения продажи квартир варьируются от 1 до 500 дней. На стоимость квадратного метра больше всего влияют количество комнат, этаж и близость к центру. Незначительно на стоимость квадратного метра влияют день, месяц, год размещения и общая площадь. Нужно учитывать, что в 2016-2017 годах стоимость квартир в среднем по рынку упала, а после снов возрасла, но в центре Санкт-Петербурге наблюдался только рост цен. В данном случае имело место постоянное удорожание стоимости, начиная с 2015 года по 2019 год. Судя, по резкости изменения цен в зависимости от удаления от центра СПБ, мы выявили центр города в радиусе 3 километров.\n",
    "\n",
    "Важно учитывать, что, рассматривая среднюю стоимость квартир в 2014-2019 годах, мы не делали сегментацию рынка, а лишь смотрели средние показатели в целом. Возможно, что цены на аналогичные квартиры в разных годах вели себя абсолютно по-другому. "
   ]
  },
  {
   "cell_type": "markdown",
   "metadata": {},
   "source": [
    "## Чек-лист готовности проекта\n",
    "\n",
    "Поставьте 'x' в выполненных пунктах. Далее нажмите Shift+Enter."
   ]
  },
  {
   "cell_type": "markdown",
   "metadata": {},
   "source": [
    "- [x]  открыт файл\n",
    "- [x]  файлы изучены (выведены первые строки, метод info())\n",
    "- [x]  определены пропущенные значения\n",
    "- [x]  заполнены пропущенные значения\n",
    "- [x]  есть пояснение, какие пропущенные значения обнаружены\n",
    "- [x]  изменены типы данных\n",
    "- [x]  есть пояснение, в каких столбцах изменены типы и почему\n",
    "- [x]  посчитано и добавлено в таблицу: цена квадратного метра\n",
    "- [x]  посчитано и добавлено в таблицу: день недели, месяц и год публикации объявления\n",
    "- [x]  посчитано и добавлено в таблицу: этаж квартиры; варианты — первый, последний, другой\n",
    "- [x]  посчитано и добавлено в таблицу: соотношение жилой и общей площади, а также отношение площади кухни к общей\n",
    "- [x]  изучены следующие параметры: площадь, цена, число комнат, высота потолков\n",
    "- [x]  построены гистограммы для каждого параметра\n",
    "- [x]  выполнено задание: \"Изучите время продажи квартиры. Постройте гистограмму. Посчитайте среднее и медиану. Опишите, сколько обычно занимает продажа. Когда можно считать, что продажи прошли очень быстро, а когда необычно долго?\"\n",
    "- [x]  выполнено задание: \"Уберите редкие и выбивающиеся значения. Опишите, какие особенности обнаружили.\"\n",
    "- [x]  выполнено задание: \"Какие факторы больше всего влияют на стоимость квартиры? Изучите, зависит ли цена от квадратного метра, числа комнат, этажа (первого или последнего), удалённости от центра. Также изучите зависимость от даты размещения: дня недели, месяца и года. \"Выберите 10 населённых пунктов с наибольшим числом объявлений. Посчитайте среднюю цену квадратного метра в этих населённых пунктах. Выделите населённые пункты с самой высокой и низкой стоимостью жилья. Эти данные можно найти по имени в столбце '*locality_name'*. \"\n",
    "- [x]  выполнено задание: \"Изучите предложения квартир: для каждой квартиры есть информация о расстоянии до центра. Выделите квартиры в Санкт-Петербурге (*'locality_name'*). Ваша задача — выяснить, какая область входит в центр. Создайте столбец с расстоянием до центра в километрах: округлите до целых значений. После этого посчитайте среднюю цену для каждого километра. Постройте график: он должен показывать, как цена зависит от удалённости от центра. Определите границу, где график сильно меняется — это и будет центральная зона. \"\n",
    "- [x]  выполнено задание: \"Выделите сегмент квартир в центре. Проанализируйте эту территорию и изучите следующие параметры: площадь, цена, число комнат, высота потолков. Также выделите факторы, которые влияют на стоимость квартиры (число комнат, этаж, удалённость от центра, дата размещения объявления). Сделайте выводы. Отличаются ли они от общих выводов по всему городу?\"\n",
    "- [x]  в каждом этапе есть выводы\n",
    "- [x]  есть общий вывод"
   ]
  }
 ],
 "metadata": {
  "ExecuteTimeLog": [
   {
    "duration": 603,
    "start_time": "2021-11-21T00:13:53.738Z"
   },
   {
    "duration": 83,
    "start_time": "2021-11-21T00:14:25.421Z"
   },
   {
    "duration": 79,
    "start_time": "2021-11-21T00:14:30.615Z"
   },
   {
    "duration": 88,
    "start_time": "2021-11-21T00:16:01.615Z"
   },
   {
    "duration": 83,
    "start_time": "2021-11-21T00:16:16.119Z"
   },
   {
    "duration": 11,
    "start_time": "2021-11-21T00:16:46.487Z"
   },
   {
    "duration": 9,
    "start_time": "2021-11-21T00:32:13.847Z"
   },
   {
    "duration": 635,
    "start_time": "2021-11-26T13:01:32.649Z"
   },
   {
    "duration": 11,
    "start_time": "2021-11-26T13:01:33.285Z"
   },
   {
    "duration": 8,
    "start_time": "2021-11-26T13:01:33.297Z"
   },
   {
    "duration": 383,
    "start_time": "2021-12-08T21:07:34.760Z"
   },
   {
    "duration": 706,
    "start_time": "2021-12-08T21:07:41.619Z"
   },
   {
    "duration": 71,
    "start_time": "2021-12-08T21:07:42.326Z"
   },
   {
    "duration": 11,
    "start_time": "2021-12-08T21:07:42.407Z"
   },
   {
    "duration": 14,
    "start_time": "2021-12-08T21:07:42.420Z"
   },
   {
    "duration": 29,
    "start_time": "2021-12-08T21:17:46.676Z"
   },
   {
    "duration": 24,
    "start_time": "2021-12-08T21:32:01.534Z"
   },
   {
    "duration": 8299,
    "start_time": "2021-12-08T22:05:03.378Z"
   },
   {
    "duration": 5,
    "start_time": "2021-12-08T22:05:44.879Z"
   },
   {
    "duration": 18,
    "start_time": "2021-12-08T22:13:40.627Z"
   },
   {
    "duration": 150,
    "start_time": "2021-12-08T22:14:07.037Z"
   },
   {
    "duration": 21,
    "start_time": "2021-12-08T22:14:35.972Z"
   },
   {
    "duration": -375,
    "start_time": "2021-12-08T22:16:01.890Z"
   },
   {
    "duration": 10,
    "start_time": "2021-12-08T22:16:06.074Z"
   },
   {
    "duration": 129,
    "start_time": "2021-12-08T22:17:30.828Z"
   },
   {
    "duration": 15,
    "start_time": "2021-12-08T22:18:54.153Z"
   },
   {
    "duration": 6,
    "start_time": "2021-12-08T22:20:06.025Z"
   },
   {
    "duration": 17,
    "start_time": "2021-12-08T22:21:34.929Z"
   },
   {
    "duration": 15,
    "start_time": "2021-12-08T22:30:22.020Z"
   },
   {
    "duration": 11,
    "start_time": "2021-12-08T22:31:10.309Z"
   },
   {
    "duration": 11,
    "start_time": "2021-12-08T22:31:44.048Z"
   },
   {
    "duration": 11,
    "start_time": "2021-12-08T22:31:48.397Z"
   },
   {
    "duration": 11,
    "start_time": "2021-12-08T22:31:58.617Z"
   },
   {
    "duration": 85,
    "start_time": "2021-12-08T22:32:06.866Z"
   },
   {
    "duration": 67,
    "start_time": "2021-12-08T22:32:06.953Z"
   },
   {
    "duration": 11,
    "start_time": "2021-12-08T22:32:07.022Z"
   },
   {
    "duration": 23,
    "start_time": "2021-12-08T22:32:07.034Z"
   },
   {
    "duration": 8,
    "start_time": "2021-12-08T22:32:07.059Z"
   },
   {
    "duration": 44,
    "start_time": "2021-12-08T22:32:07.069Z"
   },
   {
    "duration": 9,
    "start_time": "2021-12-08T22:32:07.114Z"
   },
   {
    "duration": 16,
    "start_time": "2021-12-08T22:32:07.125Z"
   },
   {
    "duration": 5,
    "start_time": "2021-12-08T22:32:07.143Z"
   },
   {
    "duration": 12,
    "start_time": "2021-12-08T22:32:07.149Z"
   },
   {
    "duration": 11,
    "start_time": "2021-12-08T22:32:07.163Z"
   },
   {
    "duration": 13,
    "start_time": "2021-12-08T22:32:16.835Z"
   },
   {
    "duration": 9,
    "start_time": "2021-12-08T22:35:39.155Z"
   },
   {
    "duration": 349,
    "start_time": "2021-12-09T22:09:06.498Z"
   },
   {
    "duration": 966,
    "start_time": "2021-12-09T22:09:10.603Z"
   },
   {
    "duration": 115,
    "start_time": "2021-12-09T22:09:11.571Z"
   },
   {
    "duration": 15,
    "start_time": "2021-12-09T22:09:11.689Z"
   },
   {
    "duration": 40,
    "start_time": "2021-12-09T22:09:11.717Z"
   },
   {
    "duration": 16,
    "start_time": "2021-12-09T22:09:11.760Z"
   },
   {
    "duration": 60,
    "start_time": "2021-12-09T22:09:11.779Z"
   },
   {
    "duration": 17,
    "start_time": "2021-12-09T22:09:11.842Z"
   },
   {
    "duration": 56,
    "start_time": "2021-12-09T22:09:11.862Z"
   },
   {
    "duration": 9,
    "start_time": "2021-12-09T22:09:11.922Z"
   },
   {
    "duration": 17,
    "start_time": "2021-12-09T22:09:11.933Z"
   },
   {
    "duration": 20,
    "start_time": "2021-12-09T22:09:11.952Z"
   },
   {
    "duration": 12,
    "start_time": "2021-12-09T22:09:12.017Z"
   },
   {
    "duration": 18,
    "start_time": "2021-12-09T22:09:12.032Z"
   },
   {
    "duration": 39,
    "start_time": "2021-12-09T22:09:59.022Z"
   },
   {
    "duration": 7935,
    "start_time": "2021-12-09T22:14:22.147Z"
   },
   {
    "duration": 7,
    "start_time": "2021-12-09T22:15:10.053Z"
   },
   {
    "duration": 19,
    "start_time": "2021-12-09T22:17:44.514Z"
   },
   {
    "duration": 120,
    "start_time": "2021-12-09T22:18:13.132Z"
   },
   {
    "duration": 114,
    "start_time": "2021-12-09T22:18:13.254Z"
   },
   {
    "duration": 16,
    "start_time": "2021-12-09T22:18:13.370Z"
   },
   {
    "duration": 64,
    "start_time": "2021-12-09T22:18:13.388Z"
   },
   {
    "duration": 11,
    "start_time": "2021-12-09T22:18:13.454Z"
   },
   {
    "duration": 25,
    "start_time": "2021-12-09T22:18:13.468Z"
   },
   {
    "duration": 13,
    "start_time": "2021-12-09T22:18:13.517Z"
   },
   {
    "duration": 31,
    "start_time": "2021-12-09T22:18:13.532Z"
   },
   {
    "duration": 6,
    "start_time": "2021-12-09T22:18:13.567Z"
   },
   {
    "duration": 42,
    "start_time": "2021-12-09T22:18:13.576Z"
   },
   {
    "duration": 11,
    "start_time": "2021-12-09T22:18:13.621Z"
   },
   {
    "duration": 16,
    "start_time": "2021-12-09T22:18:13.635Z"
   },
   {
    "duration": 64,
    "start_time": "2021-12-09T22:18:13.654Z"
   },
   {
    "duration": 18,
    "start_time": "2021-12-09T22:18:13.721Z"
   },
   {
    "duration": 8,
    "start_time": "2021-12-09T22:18:13.742Z"
   },
   {
    "duration": 9,
    "start_time": "2021-12-09T22:18:34.146Z"
   },
   {
    "duration": 14,
    "start_time": "2021-12-09T22:18:38.880Z"
   },
   {
    "duration": 127,
    "start_time": "2021-12-09T22:18:44.138Z"
   },
   {
    "duration": 122,
    "start_time": "2021-12-09T22:18:44.268Z"
   },
   {
    "duration": 27,
    "start_time": "2021-12-09T22:18:44.393Z"
   },
   {
    "duration": 42,
    "start_time": "2021-12-09T22:18:44.423Z"
   },
   {
    "duration": 15,
    "start_time": "2021-12-09T22:18:44.467Z"
   },
   {
    "duration": 52,
    "start_time": "2021-12-09T22:18:44.484Z"
   },
   {
    "duration": 14,
    "start_time": "2021-12-09T22:18:44.539Z"
   },
   {
    "duration": 24,
    "start_time": "2021-12-09T22:18:44.556Z"
   },
   {
    "duration": 8,
    "start_time": "2021-12-09T22:18:44.616Z"
   },
   {
    "duration": 17,
    "start_time": "2021-12-09T22:18:44.627Z"
   },
   {
    "duration": 11,
    "start_time": "2021-12-09T22:18:44.647Z"
   },
   {
    "duration": 56,
    "start_time": "2021-12-09T22:18:44.661Z"
   },
   {
    "duration": 37,
    "start_time": "2021-12-09T22:18:44.720Z"
   },
   {
    "duration": 14,
    "start_time": "2021-12-09T22:18:44.760Z"
   },
   {
    "duration": 7,
    "start_time": "2021-12-09T22:18:44.817Z"
   },
   {
    "duration": 11,
    "start_time": "2021-12-09T22:22:16.008Z"
   },
   {
    "duration": 37,
    "start_time": "2021-12-09T22:22:27.949Z"
   },
   {
    "duration": 6,
    "start_time": "2021-12-09T22:23:03.999Z"
   },
   {
    "duration": 31,
    "start_time": "2021-12-09T22:25:19.585Z"
   },
   {
    "duration": 37,
    "start_time": "2021-12-09T22:25:22.343Z"
   },
   {
    "duration": 10959,
    "start_time": "2021-12-09T22:27:38.008Z"
   },
   {
    "duration": -1105,
    "start_time": "2021-12-09T22:27:50.075Z"
   },
   {
    "duration": 953,
    "start_time": "2021-12-09T22:28:28.294Z"
   },
   {
    "duration": 37,
    "start_time": "2021-12-09T22:28:31.865Z"
   },
   {
    "duration": 15,
    "start_time": "2021-12-09T22:30:40.229Z"
   },
   {
    "duration": 36,
    "start_time": "2021-12-09T22:30:55.157Z"
   },
   {
    "duration": 317,
    "start_time": "2021-12-09T22:40:06.617Z"
   },
   {
    "duration": 44,
    "start_time": "2021-12-09T22:40:48.979Z"
   },
   {
    "duration": 6,
    "start_time": "2021-12-09T22:43:01.200Z"
   },
   {
    "duration": 37,
    "start_time": "2021-12-09T22:43:07.037Z"
   },
   {
    "duration": 960,
    "start_time": "2021-12-09T22:50:17.987Z"
   },
   {
    "duration": 173,
    "start_time": "2021-12-09T22:50:18.949Z"
   },
   {
    "duration": 19,
    "start_time": "2021-12-09T22:50:19.126Z"
   },
   {
    "duration": 38,
    "start_time": "2021-12-09T22:50:19.148Z"
   },
   {
    "duration": 19,
    "start_time": "2021-12-09T22:50:19.217Z"
   },
   {
    "duration": 25,
    "start_time": "2021-12-09T22:50:19.239Z"
   },
   {
    "duration": 21,
    "start_time": "2021-12-09T22:50:19.267Z"
   },
   {
    "duration": 25,
    "start_time": "2021-12-09T22:50:19.318Z"
   },
   {
    "duration": 8,
    "start_time": "2021-12-09T22:50:19.346Z"
   },
   {
    "duration": 16,
    "start_time": "2021-12-09T22:50:19.356Z"
   },
   {
    "duration": 50,
    "start_time": "2021-12-09T22:50:19.374Z"
   },
   {
    "duration": 15,
    "start_time": "2021-12-09T22:50:19.428Z"
   },
   {
    "duration": 40,
    "start_time": "2021-12-09T22:50:19.445Z"
   },
   {
    "duration": 52,
    "start_time": "2021-12-09T22:50:19.488Z"
   },
   {
    "duration": 6,
    "start_time": "2021-12-09T22:50:19.542Z"
   },
   {
    "duration": 35,
    "start_time": "2021-12-09T22:50:19.550Z"
   },
   {
    "duration": 989,
    "start_time": "2021-12-09T22:50:19.587Z"
   },
   {
    "duration": 6,
    "start_time": "2021-12-09T22:50:20.579Z"
   },
   {
    "duration": 51,
    "start_time": "2021-12-09T22:50:20.587Z"
   },
   {
    "duration": 45,
    "start_time": "2021-12-09T22:50:20.640Z"
   },
   {
    "duration": 3860,
    "start_time": "2021-12-09T22:50:20.688Z"
   },
   {
    "duration": 3194,
    "start_time": "2021-12-09T22:51:48.428Z"
   },
   {
    "duration": 2863,
    "start_time": "2021-12-09T22:51:58.386Z"
   },
   {
    "duration": 117,
    "start_time": "2021-12-09T22:55:13.955Z"
   },
   {
    "duration": 2829,
    "start_time": "2021-12-09T22:55:46.033Z"
   },
   {
    "duration": 1643,
    "start_time": "2021-12-09T22:56:56.029Z"
   },
   {
    "duration": 114,
    "start_time": "2021-12-09T22:56:57.676Z"
   },
   {
    "duration": 28,
    "start_time": "2021-12-09T22:56:57.793Z"
   },
   {
    "duration": 47,
    "start_time": "2021-12-09T22:56:57.825Z"
   },
   {
    "duration": 12,
    "start_time": "2021-12-09T22:56:57.874Z"
   },
   {
    "duration": 60,
    "start_time": "2021-12-09T22:56:57.889Z"
   },
   {
    "duration": 14,
    "start_time": "2021-12-09T22:56:57.952Z"
   },
   {
    "duration": 66,
    "start_time": "2021-12-09T22:56:57.969Z"
   },
   {
    "duration": 8,
    "start_time": "2021-12-09T22:56:58.039Z"
   },
   {
    "duration": 23,
    "start_time": "2021-12-09T22:56:58.050Z"
   },
   {
    "duration": 10,
    "start_time": "2021-12-09T22:56:58.076Z"
   },
   {
    "duration": 44,
    "start_time": "2021-12-09T22:56:58.089Z"
   },
   {
    "duration": 41,
    "start_time": "2021-12-09T22:56:58.137Z"
   },
   {
    "duration": 53,
    "start_time": "2021-12-09T22:56:58.181Z"
   },
   {
    "duration": 15,
    "start_time": "2021-12-09T22:56:58.237Z"
   },
   {
    "duration": 31,
    "start_time": "2021-12-09T22:56:58.254Z"
   },
   {
    "duration": 1230,
    "start_time": "2021-12-09T22:56:58.288Z"
   },
   {
    "duration": 13,
    "start_time": "2021-12-09T22:56:59.523Z"
   },
   {
    "duration": 38,
    "start_time": "2021-12-09T22:56:59.540Z"
   },
   {
    "duration": 83,
    "start_time": "2021-12-09T22:56:59.580Z"
   },
   {
    "duration": 3031,
    "start_time": "2021-12-09T22:56:59.666Z"
   },
   {
    "duration": 17,
    "start_time": "2021-12-09T22:58:49.809Z"
   },
   {
    "duration": 29,
    "start_time": "2021-12-09T22:58:52.905Z"
   },
   {
    "duration": 108,
    "start_time": "2021-12-09T23:00:02.546Z"
   },
   {
    "duration": 2992,
    "start_time": "2021-12-09T23:00:17.821Z"
   },
   {
    "duration": 1432,
    "start_time": "2021-12-09T23:43:05.892Z"
   },
   {
    "duration": 881,
    "start_time": "2021-12-09T23:43:26.830Z"
   },
   {
    "duration": 715,
    "start_time": "2021-12-09T23:43:36.038Z"
   },
   {
    "duration": 430,
    "start_time": "2021-12-09T23:43:48.159Z"
   },
   {
    "duration": 424,
    "start_time": "2021-12-09T23:46:27.917Z"
   },
   {
    "duration": 907,
    "start_time": "2021-12-09T23:47:26.371Z"
   },
   {
    "duration": 440,
    "start_time": "2021-12-09T23:47:34.394Z"
   },
   {
    "duration": 1214,
    "start_time": "2021-12-09T23:48:07.291Z"
   },
   {
    "duration": 1192,
    "start_time": "2021-12-09T23:48:14.162Z"
   },
   {
    "duration": 2282,
    "start_time": "2021-12-09T23:48:19.594Z"
   },
   {
    "duration": 809,
    "start_time": "2021-12-09T23:48:24.334Z"
   },
   {
    "duration": 9040,
    "start_time": "2021-12-09T23:50:03.136Z"
   },
   {
    "duration": 10549,
    "start_time": "2021-12-09T23:50:23.579Z"
   },
   {
    "duration": 8421,
    "start_time": "2021-12-09T23:50:49.083Z"
   },
   {
    "duration": 9388,
    "start_time": "2021-12-09T23:51:10.218Z"
   },
   {
    "duration": 1642,
    "start_time": "2021-12-09T23:52:39.681Z"
   },
   {
    "duration": 1540,
    "start_time": "2021-12-09T23:52:59.849Z"
   },
   {
    "duration": 1599,
    "start_time": "2021-12-09T23:53:38.640Z"
   },
   {
    "duration": 1470,
    "start_time": "2021-12-09T23:53:51.617Z"
   },
   {
    "duration": 1810,
    "start_time": "2021-12-09T23:54:01.443Z"
   },
   {
    "duration": 1566,
    "start_time": "2021-12-09T23:54:11.484Z"
   },
   {
    "duration": 36,
    "start_time": "2021-12-10T00:11:22.960Z"
   },
   {
    "duration": 10,
    "start_time": "2021-12-10T00:21:11.418Z"
   },
   {
    "duration": 12,
    "start_time": "2021-12-10T00:21:20.716Z"
   },
   {
    "duration": 12,
    "start_time": "2021-12-10T00:21:32.723Z"
   },
   {
    "duration": 11,
    "start_time": "2021-12-10T00:21:46.345Z"
   },
   {
    "duration": 20,
    "start_time": "2021-12-10T00:22:16.901Z"
   },
   {
    "duration": 6,
    "start_time": "2021-12-10T00:23:10.892Z"
   },
   {
    "duration": 536,
    "start_time": "2021-12-10T00:25:35.781Z"
   },
   {
    "duration": 544,
    "start_time": "2021-12-10T00:26:10.462Z"
   },
   {
    "duration": 461,
    "start_time": "2021-12-10T00:26:49.580Z"
   },
   {
    "duration": 101,
    "start_time": "2021-12-10T00:28:39.404Z"
   },
   {
    "duration": 274,
    "start_time": "2021-12-10T00:29:02.105Z"
   },
   {
    "duration": 217,
    "start_time": "2021-12-10T00:30:19.379Z"
   },
   {
    "duration": 105,
    "start_time": "2021-12-10T00:30:38.857Z"
   },
   {
    "duration": 565,
    "start_time": "2021-12-10T00:31:42.081Z"
   },
   {
    "duration": 107,
    "start_time": "2021-12-10T00:33:35.887Z"
   },
   {
    "duration": 434,
    "start_time": "2021-12-10T00:34:05.960Z"
   },
   {
    "duration": 432,
    "start_time": "2021-12-10T00:34:15.403Z"
   },
   {
    "duration": 333,
    "start_time": "2021-12-10T00:36:13.041Z"
   },
   {
    "duration": 415,
    "start_time": "2021-12-10T00:37:50.626Z"
   },
   {
    "duration": 404,
    "start_time": "2021-12-10T00:39:21.189Z"
   },
   {
    "duration": 341,
    "start_time": "2021-12-10T00:40:10.933Z"
   },
   {
    "duration": 589,
    "start_time": "2021-12-10T00:44:49.121Z"
   },
   {
    "duration": 977,
    "start_time": "2021-12-10T00:45:16.029Z"
   },
   {
    "duration": 486,
    "start_time": "2021-12-10T00:45:39.494Z"
   },
   {
    "duration": 473,
    "start_time": "2021-12-10T00:45:47.406Z"
   },
   {
    "duration": 465,
    "start_time": "2021-12-10T00:46:14.003Z"
   },
   {
    "duration": 569,
    "start_time": "2021-12-10T00:47:45.710Z"
   },
   {
    "duration": 461,
    "start_time": "2021-12-10T00:47:52.927Z"
   },
   {
    "duration": 461,
    "start_time": "2021-12-10T00:47:58.028Z"
   },
   {
    "duration": 464,
    "start_time": "2021-12-10T00:48:02.731Z"
   },
   {
    "duration": 344,
    "start_time": "2021-12-10T15:22:24.706Z"
   },
   {
    "duration": 1708,
    "start_time": "2021-12-10T15:22:34.365Z"
   },
   {
    "duration": 129,
    "start_time": "2021-12-10T15:22:36.077Z"
   },
   {
    "duration": 15,
    "start_time": "2021-12-10T15:22:36.209Z"
   },
   {
    "duration": 73,
    "start_time": "2021-12-10T15:22:36.227Z"
   },
   {
    "duration": 12,
    "start_time": "2021-12-10T15:22:36.303Z"
   },
   {
    "duration": 50,
    "start_time": "2021-12-10T15:22:36.317Z"
   },
   {
    "duration": 16,
    "start_time": "2021-12-10T15:22:36.371Z"
   },
   {
    "duration": 27,
    "start_time": "2021-12-10T15:22:36.390Z"
   },
   {
    "duration": 7,
    "start_time": "2021-12-10T15:22:36.423Z"
   },
   {
    "duration": 19,
    "start_time": "2021-12-10T15:22:36.469Z"
   },
   {
    "duration": 11,
    "start_time": "2021-12-10T15:22:36.490Z"
   },
   {
    "duration": 12,
    "start_time": "2021-12-10T15:22:36.504Z"
   },
   {
    "duration": 65,
    "start_time": "2021-12-10T15:22:36.518Z"
   },
   {
    "duration": 18,
    "start_time": "2021-12-10T15:22:36.586Z"
   },
   {
    "duration": 22,
    "start_time": "2021-12-10T15:22:36.607Z"
   },
   {
    "duration": 21,
    "start_time": "2021-12-10T15:22:36.631Z"
   },
   {
    "duration": 59,
    "start_time": "2021-12-10T15:22:36.654Z"
   },
   {
    "duration": 1003,
    "start_time": "2021-12-10T15:22:36.715Z"
   },
   {
    "duration": 7,
    "start_time": "2021-12-10T15:22:37.720Z"
   },
   {
    "duration": 47,
    "start_time": "2021-12-10T15:22:37.730Z"
   },
   {
    "duration": 41,
    "start_time": "2021-12-10T15:22:37.779Z"
   },
   {
    "duration": 2946,
    "start_time": "2021-12-10T15:22:37.822Z"
   },
   {
    "duration": 1535,
    "start_time": "2021-12-10T15:22:40.771Z"
   },
   {
    "duration": 18,
    "start_time": "2021-12-10T15:22:42.309Z"
   },
   {
    "duration": 8,
    "start_time": "2021-12-10T15:22:42.330Z"
   },
   {
    "duration": 508,
    "start_time": "2021-12-10T15:22:42.369Z"
   },
   {
    "duration": 242,
    "start_time": "2021-12-10T15:22:42.882Z"
   },
   {
    "duration": 478,
    "start_time": "2021-12-10T15:22:43.127Z"
   },
   {
    "duration": 386,
    "start_time": "2021-12-10T15:22:43.607Z"
   },
   {
    "duration": 4143,
    "start_time": "2021-12-10T15:22:43.996Z"
   },
   {
    "duration": 4045,
    "start_time": "2021-12-10T15:23:24.133Z"
   },
   {
    "duration": 210,
    "start_time": "2021-12-12T00:31:52.452Z"
   },
   {
    "duration": 1203,
    "start_time": "2021-12-12T00:32:00.515Z"
   },
   {
    "duration": 75,
    "start_time": "2021-12-12T00:32:01.720Z"
   },
   {
    "duration": 10,
    "start_time": "2021-12-12T00:32:01.797Z"
   },
   {
    "duration": 31,
    "start_time": "2021-12-12T00:32:01.809Z"
   },
   {
    "duration": 8,
    "start_time": "2021-12-12T00:32:01.842Z"
   },
   {
    "duration": 40,
    "start_time": "2021-12-12T00:32:01.852Z"
   },
   {
    "duration": 10,
    "start_time": "2021-12-12T00:32:01.894Z"
   },
   {
    "duration": 24,
    "start_time": "2021-12-12T00:32:01.907Z"
   },
   {
    "duration": 10,
    "start_time": "2021-12-12T00:32:01.933Z"
   },
   {
    "duration": 24,
    "start_time": "2021-12-12T00:32:01.945Z"
   },
   {
    "duration": 8,
    "start_time": "2021-12-12T00:32:01.970Z"
   },
   {
    "duration": 16,
    "start_time": "2021-12-12T00:32:01.979Z"
   },
   {
    "duration": 29,
    "start_time": "2021-12-12T00:32:01.996Z"
   },
   {
    "duration": 10,
    "start_time": "2021-12-12T00:32:02.026Z"
   },
   {
    "duration": 9,
    "start_time": "2021-12-12T00:32:02.038Z"
   },
   {
    "duration": 5,
    "start_time": "2021-12-12T00:32:02.048Z"
   },
   {
    "duration": 48,
    "start_time": "2021-12-12T00:32:02.054Z"
   },
   {
    "duration": 642,
    "start_time": "2021-12-12T00:32:02.104Z"
   },
   {
    "duration": 5,
    "start_time": "2021-12-12T00:32:02.748Z"
   },
   {
    "duration": 37,
    "start_time": "2021-12-12T00:32:02.755Z"
   },
   {
    "duration": 28,
    "start_time": "2021-12-12T00:32:02.794Z"
   },
   {
    "duration": 1613,
    "start_time": "2021-12-12T00:32:02.824Z"
   },
   {
    "duration": 910,
    "start_time": "2021-12-12T00:32:04.440Z"
   },
   {
    "duration": 11,
    "start_time": "2021-12-12T00:32:05.351Z"
   },
   {
    "duration": 4,
    "start_time": "2021-12-12T00:32:05.363Z"
   },
   {
    "duration": 300,
    "start_time": "2021-12-12T00:32:05.369Z"
   },
   {
    "duration": 148,
    "start_time": "2021-12-12T00:32:05.670Z"
   },
   {
    "duration": 291,
    "start_time": "2021-12-12T00:32:05.820Z"
   },
   {
    "duration": 221,
    "start_time": "2021-12-12T00:32:06.112Z"
   },
   {
    "duration": 3,
    "start_time": "2021-12-12T00:32:06.334Z"
   },
   {
    "duration": 477,
    "start_time": "2021-12-12T00:32:06.339Z"
   },
   {
    "duration": 494,
    "start_time": "2021-12-12T00:32:50.591Z"
   },
   {
    "duration": 5,
    "start_time": "2021-12-12T00:33:02.123Z"
   },
   {
    "duration": 281,
    "start_time": "2021-12-12T00:33:28.392Z"
   },
   {
    "duration": 56,
    "start_time": "2021-12-12T00:34:37.833Z"
   },
   {
    "duration": 60,
    "start_time": "2021-12-12T00:34:50.139Z"
   },
   {
    "duration": 57,
    "start_time": "2021-12-12T00:34:57.373Z"
   },
   {
    "duration": 5,
    "start_time": "2021-12-12T00:35:30.782Z"
   },
   {
    "duration": 5,
    "start_time": "2021-12-12T00:36:02.468Z"
   },
   {
    "duration": 256,
    "start_time": "2021-12-12T00:36:06.896Z"
   },
   {
    "duration": 4,
    "start_time": "2021-12-12T00:36:32.386Z"
   },
   {
    "duration": 256,
    "start_time": "2021-12-12T00:36:34.393Z"
   },
   {
    "duration": 5,
    "start_time": "2021-12-12T00:37:01.355Z"
   },
   {
    "duration": 278,
    "start_time": "2021-12-12T00:37:02.360Z"
   },
   {
    "duration": 4,
    "start_time": "2021-12-12T00:37:34.199Z"
   },
   {
    "duration": 270,
    "start_time": "2021-12-12T00:37:35.088Z"
   },
   {
    "duration": 284,
    "start_time": "2021-12-12T00:38:48.301Z"
   },
   {
    "duration": 66,
    "start_time": "2021-12-12T00:39:29.346Z"
   },
   {
    "duration": 164,
    "start_time": "2021-12-12T00:39:49.476Z"
   },
   {
    "duration": 223,
    "start_time": "2021-12-12T00:43:29.431Z"
   },
   {
    "duration": 358,
    "start_time": "2021-12-12T00:45:28.437Z"
   },
   {
    "duration": 5,
    "start_time": "2021-12-12T00:45:58.619Z"
   },
   {
    "duration": 180,
    "start_time": "2021-12-12T00:46:02.815Z"
   },
   {
    "duration": 61,
    "start_time": "2021-12-12T00:47:46.690Z"
   },
   {
    "duration": 3,
    "start_time": "2021-12-12T00:55:23.027Z"
   },
   {
    "duration": 563,
    "start_time": "2021-12-12T00:56:48.295Z"
   },
   {
    "duration": 278,
    "start_time": "2021-12-12T00:57:31.718Z"
   },
   {
    "duration": 483,
    "start_time": "2021-12-12T00:57:37.551Z"
   },
   {
    "duration": 215,
    "start_time": "2021-12-12T00:57:39.792Z"
   },
   {
    "duration": 11,
    "start_time": "2021-12-12T00:57:55.760Z"
   },
   {
    "duration": 161,
    "start_time": "2021-12-12T16:21:35.862Z"
   },
   {
    "duration": 1255,
    "start_time": "2021-12-12T16:21:49.641Z"
   },
   {
    "duration": 68,
    "start_time": "2021-12-12T16:21:50.898Z"
   },
   {
    "duration": 10,
    "start_time": "2021-12-12T16:21:50.969Z"
   },
   {
    "duration": 25,
    "start_time": "2021-12-12T16:21:50.981Z"
   },
   {
    "duration": 9,
    "start_time": "2021-12-12T16:21:51.008Z"
   },
   {
    "duration": 47,
    "start_time": "2021-12-12T16:21:51.019Z"
   },
   {
    "duration": 10,
    "start_time": "2021-12-12T16:21:51.068Z"
   },
   {
    "duration": 16,
    "start_time": "2021-12-12T16:21:51.080Z"
   },
   {
    "duration": 5,
    "start_time": "2021-12-12T16:21:51.099Z"
   },
   {
    "duration": 14,
    "start_time": "2021-12-12T16:21:51.106Z"
   },
   {
    "duration": 8,
    "start_time": "2021-12-12T16:21:51.121Z"
   },
   {
    "duration": 40,
    "start_time": "2021-12-12T16:21:51.131Z"
   },
   {
    "duration": 29,
    "start_time": "2021-12-12T16:21:51.173Z"
   },
   {
    "duration": 15,
    "start_time": "2021-12-12T16:21:51.204Z"
   },
   {
    "duration": 11,
    "start_time": "2021-12-12T16:21:51.220Z"
   },
   {
    "duration": 5,
    "start_time": "2021-12-12T16:21:51.233Z"
   },
   {
    "duration": 42,
    "start_time": "2021-12-12T16:21:51.239Z"
   },
   {
    "duration": 580,
    "start_time": "2021-12-12T16:21:51.283Z"
   },
   {
    "duration": 5,
    "start_time": "2021-12-12T16:21:51.865Z"
   },
   {
    "duration": 34,
    "start_time": "2021-12-12T16:21:51.871Z"
   },
   {
    "duration": 30,
    "start_time": "2021-12-12T16:21:51.907Z"
   },
   {
    "duration": 1630,
    "start_time": "2021-12-12T16:21:51.939Z"
   },
   {
    "duration": 910,
    "start_time": "2021-12-12T16:21:53.571Z"
   },
   {
    "duration": 10,
    "start_time": "2021-12-12T16:21:54.483Z"
   },
   {
    "duration": 4,
    "start_time": "2021-12-12T16:21:54.495Z"
   },
   {
    "duration": 330,
    "start_time": "2021-12-12T16:21:54.501Z"
   },
   {
    "duration": 168,
    "start_time": "2021-12-12T16:21:54.836Z"
   },
   {
    "duration": 283,
    "start_time": "2021-12-12T16:21:55.007Z"
   },
   {
    "duration": 213,
    "start_time": "2021-12-12T16:21:55.293Z"
   },
   {
    "duration": 4,
    "start_time": "2021-12-12T16:21:55.508Z"
   },
   {
    "duration": 369,
    "start_time": "2021-12-12T16:21:55.513Z"
   },
   {
    "duration": 161,
    "start_time": "2021-12-12T16:21:55.884Z"
   },
   {
    "duration": 221,
    "start_time": "2021-12-12T16:21:56.047Z"
   },
   {
    "duration": 189,
    "start_time": "2021-12-12T16:21:56.270Z"
   },
   {
    "duration": 518,
    "start_time": "2021-12-12T16:21:56.464Z"
   },
   {
    "duration": 13,
    "start_time": "2021-12-12T16:21:56.984Z"
   },
   {
    "duration": 4,
    "start_time": "2021-12-12T16:25:41.975Z"
   },
   {
    "duration": 543,
    "start_time": "2021-12-12T16:25:50.009Z"
   },
   {
    "duration": 96902,
    "start_time": "2021-12-12T16:26:01.233Z"
   },
   {
    "duration": 244,
    "start_time": "2021-12-12T16:28:00.241Z"
   },
   {
    "duration": 9,
    "start_time": "2021-12-12T16:28:15.066Z"
   },
   {
    "duration": 245,
    "start_time": "2021-12-12T16:28:30.814Z"
   },
   {
    "duration": 90,
    "start_time": "2021-12-12T16:28:38.208Z"
   },
   {
    "duration": 73,
    "start_time": "2021-12-12T16:28:40.934Z"
   },
   {
    "duration": 13,
    "start_time": "2021-12-12T16:28:43.100Z"
   },
   {
    "duration": 25,
    "start_time": "2021-12-12T16:28:47.410Z"
   },
   {
    "duration": 9,
    "start_time": "2021-12-12T16:28:49.174Z"
   },
   {
    "duration": 9,
    "start_time": "2021-12-12T16:28:54.681Z"
   },
   {
    "duration": 239,
    "start_time": "2021-12-12T16:33:17.667Z"
   },
   {
    "duration": 5,
    "start_time": "2021-12-12T16:33:27.985Z"
   },
   {
    "duration": 106,
    "start_time": "2021-12-12T16:35:49.364Z"
   },
   {
    "duration": 227,
    "start_time": "2021-12-12T16:36:16.345Z"
   },
   {
    "duration": 6,
    "start_time": "2021-12-12T16:36:26.418Z"
   },
   {
    "duration": 9,
    "start_time": "2021-12-12T16:38:36.365Z"
   },
   {
    "duration": 77,
    "start_time": "2021-12-12T16:41:05.425Z"
   },
   {
    "duration": 9,
    "start_time": "2021-12-12T16:41:12.105Z"
   },
   {
    "duration": 425,
    "start_time": "2021-12-12T16:44:43.236Z"
   },
   {
    "duration": 4,
    "start_time": "2021-12-12T16:46:33.968Z"
   },
   {
    "duration": 275,
    "start_time": "2021-12-12T16:46:37.571Z"
   },
   {
    "duration": 232,
    "start_time": "2021-12-12T17:01:46.380Z"
   },
   {
    "duration": 6,
    "start_time": "2021-12-12T17:01:55.957Z"
   },
   {
    "duration": 7,
    "start_time": "2021-12-12T17:08:02.624Z"
   },
   {
    "duration": 89,
    "start_time": "2021-12-12T17:09:58.542Z"
   },
   {
    "duration": 73,
    "start_time": "2021-12-12T17:09:58.633Z"
   },
   {
    "duration": 11,
    "start_time": "2021-12-12T17:09:58.708Z"
   },
   {
    "duration": 44,
    "start_time": "2021-12-12T17:09:58.721Z"
   },
   {
    "duration": 9,
    "start_time": "2021-12-12T17:09:58.766Z"
   },
   {
    "duration": 4,
    "start_time": "2021-12-12T17:09:58.777Z"
   },
   {
    "duration": 8,
    "start_time": "2021-12-12T17:09:58.783Z"
   },
   {
    "duration": 19,
    "start_time": "2021-12-12T17:09:58.793Z"
   },
   {
    "duration": 14,
    "start_time": "2021-12-12T17:09:58.814Z"
   },
   {
    "duration": 6,
    "start_time": "2021-12-12T17:09:58.863Z"
   },
   {
    "duration": 14,
    "start_time": "2021-12-12T17:09:58.871Z"
   },
   {
    "duration": 10,
    "start_time": "2021-12-12T17:09:58.887Z"
   },
   {
    "duration": 11,
    "start_time": "2021-12-12T17:09:58.899Z"
   },
   {
    "duration": 4,
    "start_time": "2021-12-12T17:09:58.912Z"
   },
   {
    "duration": 46,
    "start_time": "2021-12-12T17:09:58.918Z"
   },
   {
    "duration": 5,
    "start_time": "2021-12-12T17:10:57.747Z"
   },
   {
    "duration": 4,
    "start_time": "2021-12-12T17:11:17.847Z"
   },
   {
    "duration": 236,
    "start_time": "2021-12-12T17:11:32.375Z"
   },
   {
    "duration": 5,
    "start_time": "2021-12-12T17:11:43.017Z"
   },
   {
    "duration": 1294,
    "start_time": "2021-12-12T17:13:13.294Z"
   },
   {
    "duration": 79,
    "start_time": "2021-12-12T17:13:14.590Z"
   },
   {
    "duration": 11,
    "start_time": "2021-12-12T17:13:14.671Z"
   },
   {
    "duration": 44,
    "start_time": "2021-12-12T17:13:14.685Z"
   },
   {
    "duration": 33,
    "start_time": "2021-12-12T17:13:14.732Z"
   },
   {
    "duration": 7,
    "start_time": "2021-12-12T17:13:14.768Z"
   },
   {
    "duration": 33,
    "start_time": "2021-12-12T17:13:14.777Z"
   },
   {
    "duration": 31,
    "start_time": "2021-12-12T17:13:14.814Z"
   },
   {
    "duration": 32,
    "start_time": "2021-12-12T17:13:14.848Z"
   },
   {
    "duration": 16,
    "start_time": "2021-12-12T17:13:14.882Z"
   },
   {
    "duration": 24,
    "start_time": "2021-12-12T17:13:14.900Z"
   },
   {
    "duration": 14,
    "start_time": "2021-12-12T17:13:14.926Z"
   },
   {
    "duration": 12,
    "start_time": "2021-12-12T17:13:14.943Z"
   },
   {
    "duration": 14,
    "start_time": "2021-12-12T17:13:14.957Z"
   },
   {
    "duration": 34,
    "start_time": "2021-12-12T17:13:14.973Z"
   },
   {
    "duration": 11,
    "start_time": "2021-12-12T17:13:15.009Z"
   },
   {
    "duration": 19,
    "start_time": "2021-12-12T17:13:15.022Z"
   },
   {
    "duration": 43,
    "start_time": "2021-12-12T17:13:15.043Z"
   },
   {
    "duration": 675,
    "start_time": "2021-12-12T17:13:15.088Z"
   },
   {
    "duration": 6,
    "start_time": "2021-12-12T17:13:15.765Z"
   },
   {
    "duration": 26,
    "start_time": "2021-12-12T17:13:15.773Z"
   },
   {
    "duration": 31,
    "start_time": "2021-12-12T17:13:15.801Z"
   },
   {
    "duration": 1789,
    "start_time": "2021-12-12T17:13:15.835Z"
   },
   {
    "duration": 920,
    "start_time": "2021-12-12T17:13:17.626Z"
   },
   {
    "duration": 21,
    "start_time": "2021-12-12T17:13:18.547Z"
   },
   {
    "duration": 5,
    "start_time": "2021-12-12T17:13:18.569Z"
   },
   {
    "duration": 296,
    "start_time": "2021-12-12T17:13:18.576Z"
   },
   {
    "duration": 159,
    "start_time": "2021-12-12T17:13:18.875Z"
   },
   {
    "duration": 290,
    "start_time": "2021-12-12T17:13:19.036Z"
   },
   {
    "duration": 216,
    "start_time": "2021-12-12T17:13:19.328Z"
   },
   {
    "duration": 5,
    "start_time": "2021-12-12T17:13:19.546Z"
   },
   {
    "duration": 448,
    "start_time": "2021-12-12T17:13:19.562Z"
   },
   {
    "duration": 265,
    "start_time": "2021-12-12T17:13:20.012Z"
   },
   {
    "duration": 385,
    "start_time": "2021-12-12T17:13:20.278Z"
   },
   {
    "duration": 208,
    "start_time": "2021-12-12T17:13:20.665Z"
   },
   {
    "duration": 95341,
    "start_time": "2021-12-12T17:13:20.875Z"
   },
   {
    "duration": 510,
    "start_time": "2021-12-12T17:14:56.218Z"
   },
   {
    "duration": 15,
    "start_time": "2021-12-12T17:14:56.729Z"
   },
   {
    "duration": 6,
    "start_time": "2021-12-12T17:15:09.097Z"
   },
   {
    "duration": 25,
    "start_time": "2021-12-12T17:15:12.064Z"
   },
   {
    "duration": 1598,
    "start_time": "2021-12-12T17:15:58.239Z"
   },
   {
    "duration": 327,
    "start_time": "2021-12-12T17:17:11.611Z"
   },
   {
    "duration": 407,
    "start_time": "2021-12-12T17:17:22.421Z"
   },
   {
    "duration": 401,
    "start_time": "2021-12-12T17:17:34.830Z"
   },
   {
    "duration": 803,
    "start_time": "2021-12-12T17:17:57.341Z"
   },
   {
    "duration": 825,
    "start_time": "2021-12-12T17:18:11.678Z"
   },
   {
    "duration": 1649,
    "start_time": "2021-12-12T17:19:24.269Z"
   },
   {
    "duration": 2004,
    "start_time": "2021-12-12T17:21:08.148Z"
   },
   {
    "duration": 494,
    "start_time": "2021-12-12T17:21:50.121Z"
   },
   {
    "duration": 79,
    "start_time": "2021-12-12T17:27:43.903Z"
   },
   {
    "duration": 487,
    "start_time": "2021-12-12T17:27:49.240Z"
   },
   {
    "duration": 518,
    "start_time": "2021-12-12T17:28:16.418Z"
   },
   {
    "duration": 268,
    "start_time": "2021-12-12T17:31:51.511Z"
   },
   {
    "duration": 376,
    "start_time": "2021-12-12T17:32:34.177Z"
   },
   {
    "duration": 375,
    "start_time": "2021-12-12T17:32:42.767Z"
   },
   {
    "duration": 1168,
    "start_time": "2021-12-12T17:33:15.868Z"
   },
   {
    "duration": 277,
    "start_time": "2021-12-12T17:34:15.062Z"
   },
   {
    "duration": 281,
    "start_time": "2021-12-12T17:34:38.671Z"
   },
   {
    "duration": 5,
    "start_time": "2021-12-12T17:37:30.910Z"
   },
   {
    "duration": 24,
    "start_time": "2021-12-12T17:37:33.602Z"
   },
   {
    "duration": 237,
    "start_time": "2021-12-12T17:38:10.196Z"
   },
   {
    "duration": 229,
    "start_time": "2021-12-12T17:41:53.100Z"
   },
   {
    "duration": 76,
    "start_time": "2021-12-12T17:45:50.629Z"
   },
   {
    "duration": 84,
    "start_time": "2021-12-12T17:45:58.987Z"
   },
   {
    "duration": 284,
    "start_time": "2021-12-12T17:46:10.562Z"
   },
   {
    "duration": 266,
    "start_time": "2021-12-12T17:47:02.857Z"
   },
   {
    "duration": 200,
    "start_time": "2021-12-12T17:48:04.967Z"
   },
   {
    "duration": 191,
    "start_time": "2021-12-12T17:49:13.038Z"
   },
   {
    "duration": 512,
    "start_time": "2021-12-12T17:51:26.051Z"
   },
   {
    "duration": 235,
    "start_time": "2021-12-12T17:55:39.478Z"
   },
   {
    "duration": 202,
    "start_time": "2021-12-12T17:56:41.304Z"
   },
   {
    "duration": 14,
    "start_time": "2021-12-12T17:58:02.961Z"
   },
   {
    "duration": 210,
    "start_time": "2021-12-12T17:58:16.420Z"
   },
   {
    "duration": 12,
    "start_time": "2021-12-12T17:59:17.149Z"
   },
   {
    "duration": 204,
    "start_time": "2021-12-12T17:59:29.883Z"
   },
   {
    "duration": 235,
    "start_time": "2021-12-12T18:03:20.370Z"
   },
   {
    "duration": 205,
    "start_time": "2021-12-12T18:03:36.958Z"
   },
   {
    "duration": 214,
    "start_time": "2021-12-12T18:07:01.473Z"
   },
   {
    "duration": 29,
    "start_time": "2021-12-12T18:14:55.088Z"
   },
   {
    "duration": 7,
    "start_time": "2021-12-12T18:16:31.319Z"
   },
   {
    "duration": 8,
    "start_time": "2021-12-12T18:16:58.873Z"
   },
   {
    "duration": 9,
    "start_time": "2021-12-12T18:17:20.707Z"
   },
   {
    "duration": 8,
    "start_time": "2021-12-12T18:17:23.758Z"
   },
   {
    "duration": 6,
    "start_time": "2021-12-12T18:19:38.007Z"
   },
   {
    "duration": 203,
    "start_time": "2021-12-12T18:21:42.020Z"
   },
   {
    "duration": 10,
    "start_time": "2021-12-12T18:26:25.294Z"
   },
   {
    "duration": 458,
    "start_time": "2021-12-12T18:27:26.406Z"
   },
   {
    "duration": 245,
    "start_time": "2021-12-12T18:27:36.126Z"
   },
   {
    "duration": 35,
    "start_time": "2021-12-12T18:27:53.467Z"
   },
   {
    "duration": 234,
    "start_time": "2021-12-12T18:28:03.342Z"
   },
   {
    "duration": 435,
    "start_time": "2021-12-12T18:28:11.165Z"
   },
   {
    "duration": 245,
    "start_time": "2021-12-12T18:28:31.158Z"
   },
   {
    "duration": 9,
    "start_time": "2021-12-12T18:28:37.335Z"
   },
   {
    "duration": 87,
    "start_time": "2021-12-12T18:31:43.325Z"
   },
   {
    "duration": 175,
    "start_time": "2021-12-12T18:33:48.179Z"
   },
   {
    "duration": 72,
    "start_time": "2021-12-12T18:34:26.276Z"
   },
   {
    "duration": 351,
    "start_time": "2021-12-12T19:35:52.348Z"
   },
   {
    "duration": 70,
    "start_time": "2021-12-12T19:36:38.700Z"
   },
   {
    "duration": 79,
    "start_time": "2021-12-12T19:36:54.785Z"
   },
   {
    "duration": 206,
    "start_time": "2021-12-12T19:37:59.827Z"
   },
   {
    "duration": 231,
    "start_time": "2021-12-12T19:40:23.535Z"
   },
   {
    "duration": 370,
    "start_time": "2021-12-12T19:41:26.317Z"
   },
   {
    "duration": 213,
    "start_time": "2021-12-12T19:41:44.299Z"
   },
   {
    "duration": 77,
    "start_time": "2021-12-12T19:43:48.859Z"
   },
   {
    "duration": 317,
    "start_time": "2021-12-12T19:44:29.115Z"
   },
   {
    "duration": 206,
    "start_time": "2021-12-12T19:44:47.819Z"
   },
   {
    "duration": 221,
    "start_time": "2021-12-12T19:45:17.307Z"
   },
   {
    "duration": 246,
    "start_time": "2021-12-12T19:46:05.859Z"
   },
   {
    "duration": 212,
    "start_time": "2021-12-12T19:46:15.793Z"
   },
   {
    "duration": 1167,
    "start_time": "2021-12-12T19:49:00.319Z"
   },
   {
    "duration": 66,
    "start_time": "2021-12-12T19:49:01.488Z"
   },
   {
    "duration": 13,
    "start_time": "2021-12-12T19:49:01.558Z"
   },
   {
    "duration": 27,
    "start_time": "2021-12-12T19:49:01.573Z"
   },
   {
    "duration": 10,
    "start_time": "2021-12-12T19:49:01.601Z"
   },
   {
    "duration": 18,
    "start_time": "2021-12-12T19:49:01.613Z"
   },
   {
    "duration": 32,
    "start_time": "2021-12-12T19:49:01.632Z"
   },
   {
    "duration": 19,
    "start_time": "2021-12-12T19:49:01.668Z"
   },
   {
    "duration": 22,
    "start_time": "2021-12-12T19:49:01.690Z"
   },
   {
    "duration": 11,
    "start_time": "2021-12-12T19:49:01.714Z"
   },
   {
    "duration": 24,
    "start_time": "2021-12-12T19:49:01.727Z"
   },
   {
    "duration": 17,
    "start_time": "2021-12-12T19:49:01.753Z"
   },
   {
    "duration": 14,
    "start_time": "2021-12-12T19:49:01.772Z"
   },
   {
    "duration": 14,
    "start_time": "2021-12-12T19:49:01.788Z"
   },
   {
    "duration": 26,
    "start_time": "2021-12-12T19:49:01.804Z"
   },
   {
    "duration": 9,
    "start_time": "2021-12-12T19:49:01.832Z"
   },
   {
    "duration": 20,
    "start_time": "2021-12-12T19:49:01.843Z"
   },
   {
    "duration": 13,
    "start_time": "2021-12-12T19:49:01.865Z"
   },
   {
    "duration": 546,
    "start_time": "2021-12-12T19:49:01.879Z"
   },
   {
    "duration": 6,
    "start_time": "2021-12-12T19:49:02.426Z"
   },
   {
    "duration": 31,
    "start_time": "2021-12-12T19:49:02.433Z"
   },
   {
    "duration": 30,
    "start_time": "2021-12-12T19:49:02.466Z"
   },
   {
    "duration": 389,
    "start_time": "2021-12-12T19:49:02.498Z"
   },
   {
    "duration": 560,
    "start_time": "2021-12-12T19:49:02.889Z"
   },
   {
    "duration": 781,
    "start_time": "2021-12-12T19:49:03.451Z"
   },
   {
    "duration": 11,
    "start_time": "2021-12-12T19:49:04.235Z"
   },
   {
    "duration": 17,
    "start_time": "2021-12-12T19:49:04.248Z"
   },
   {
    "duration": 272,
    "start_time": "2021-12-12T19:49:04.266Z"
   },
   {
    "duration": 134,
    "start_time": "2021-12-12T19:49:04.540Z"
   },
   {
    "duration": 361,
    "start_time": "2021-12-12T19:49:04.675Z"
   },
   {
    "duration": 196,
    "start_time": "2021-12-12T19:49:05.038Z"
   },
   {
    "duration": 223,
    "start_time": "2021-12-12T19:49:05.236Z"
   },
   {
    "duration": 207,
    "start_time": "2021-12-12T19:49:05.460Z"
   },
   {
    "duration": 192,
    "start_time": "2021-12-12T19:49:05.669Z"
   },
   {
    "duration": 510,
    "start_time": "2021-12-12T19:49:05.863Z"
   },
   {
    "duration": 211,
    "start_time": "2021-12-12T19:49:06.376Z"
   },
   {
    "duration": 203,
    "start_time": "2021-12-12T19:49:06.589Z"
   },
   {
    "duration": 212,
    "start_time": "2021-12-12T19:49:06.794Z"
   },
   {
    "duration": 30,
    "start_time": "2021-12-12T19:49:07.008Z"
   },
   {
    "duration": 6,
    "start_time": "2021-12-12T19:49:07.040Z"
   },
   {
    "duration": 7,
    "start_time": "2021-12-12T19:49:07.063Z"
   },
   {
    "duration": 6,
    "start_time": "2021-12-12T19:49:07.072Z"
   },
   {
    "duration": 207,
    "start_time": "2021-12-12T19:49:07.080Z"
   },
   {
    "duration": 9,
    "start_time": "2021-12-12T19:49:07.288Z"
   },
   {
    "duration": 326,
    "start_time": "2021-12-12T19:49:07.298Z"
   },
   {
    "duration": 183,
    "start_time": "2021-12-12T19:49:07.625Z"
   },
   {
    "duration": 296,
    "start_time": "2021-12-12T19:49:07.809Z"
   },
   {
    "duration": 203,
    "start_time": "2021-12-12T19:49:08.107Z"
   },
   {
    "duration": 205,
    "start_time": "2021-12-12T19:49:08.312Z"
   },
   {
    "duration": 217,
    "start_time": "2021-12-12T19:49:08.519Z"
   },
   {
    "duration": 216,
    "start_time": "2021-12-12T19:51:10.071Z"
   },
   {
    "duration": 9,
    "start_time": "2021-12-12T19:56:39.219Z"
   },
   {
    "duration": 6,
    "start_time": "2021-12-12T19:56:52.883Z"
   },
   {
    "duration": 392,
    "start_time": "2021-12-12T19:57:01.546Z"
   },
   {
    "duration": 373,
    "start_time": "2021-12-12T19:57:01.941Z"
   },
   {
    "duration": 319,
    "start_time": "2021-12-12T19:57:02.317Z"
   },
   {
    "duration": 811,
    "start_time": "2021-12-12T19:57:02.638Z"
   },
   {
    "duration": 232,
    "start_time": "2021-12-12T19:57:03.451Z"
   },
   {
    "duration": 315,
    "start_time": "2021-12-12T19:57:03.686Z"
   },
   {
    "duration": 217,
    "start_time": "2021-12-12T19:57:04.003Z"
   },
   {
    "duration": 26,
    "start_time": "2021-12-12T19:57:04.222Z"
   },
   {
    "duration": 8,
    "start_time": "2021-12-12T19:57:04.262Z"
   },
   {
    "duration": 8,
    "start_time": "2021-12-12T19:57:04.271Z"
   },
   {
    "duration": 6,
    "start_time": "2021-12-12T19:57:04.281Z"
   },
   {
    "duration": 230,
    "start_time": "2021-12-12T19:57:04.288Z"
   },
   {
    "duration": 9,
    "start_time": "2021-12-12T19:57:04.520Z"
   },
   {
    "duration": 232,
    "start_time": "2021-12-12T19:57:04.531Z"
   },
   {
    "duration": 204,
    "start_time": "2021-12-12T19:57:04.765Z"
   },
   {
    "duration": 445,
    "start_time": "2021-12-12T19:57:04.971Z"
   },
   {
    "duration": 217,
    "start_time": "2021-12-12T19:57:05.419Z"
   },
   {
    "duration": 235,
    "start_time": "2021-12-12T19:57:05.637Z"
   },
   {
    "duration": 234,
    "start_time": "2021-12-12T19:57:05.874Z"
   },
   {
    "duration": 1311,
    "start_time": "2021-12-12T20:09:28.576Z"
   },
   {
    "duration": 78,
    "start_time": "2021-12-12T20:09:29.888Z"
   },
   {
    "duration": 10,
    "start_time": "2021-12-12T20:09:29.968Z"
   },
   {
    "duration": 26,
    "start_time": "2021-12-12T20:09:29.980Z"
   },
   {
    "duration": 8,
    "start_time": "2021-12-12T20:09:30.008Z"
   },
   {
    "duration": 4,
    "start_time": "2021-12-12T20:09:30.018Z"
   },
   {
    "duration": 41,
    "start_time": "2021-12-12T20:09:30.024Z"
   },
   {
    "duration": 19,
    "start_time": "2021-12-12T20:09:30.067Z"
   },
   {
    "duration": 25,
    "start_time": "2021-12-12T20:09:30.088Z"
   },
   {
    "duration": 14,
    "start_time": "2021-12-12T20:09:30.114Z"
   },
   {
    "duration": 26,
    "start_time": "2021-12-12T20:09:30.130Z"
   },
   {
    "duration": 14,
    "start_time": "2021-12-12T20:09:30.157Z"
   },
   {
    "duration": 20,
    "start_time": "2021-12-12T20:09:30.173Z"
   },
   {
    "duration": 36,
    "start_time": "2021-12-12T20:09:30.195Z"
   },
   {
    "duration": 33,
    "start_time": "2021-12-12T20:09:30.232Z"
   },
   {
    "duration": 12,
    "start_time": "2021-12-12T20:09:30.267Z"
   },
   {
    "duration": 5,
    "start_time": "2021-12-12T20:09:30.281Z"
   },
   {
    "duration": 17,
    "start_time": "2021-12-12T20:09:30.288Z"
   },
   {
    "duration": 569,
    "start_time": "2021-12-12T20:09:30.307Z"
   },
   {
    "duration": 7,
    "start_time": "2021-12-12T20:09:30.878Z"
   },
   {
    "duration": 27,
    "start_time": "2021-12-12T20:09:30.887Z"
   },
   {
    "duration": 48,
    "start_time": "2021-12-12T20:09:30.916Z"
   },
   {
    "duration": 402,
    "start_time": "2021-12-12T20:09:30.968Z"
   },
   {
    "duration": 600,
    "start_time": "2021-12-12T20:09:31.373Z"
   },
   {
    "duration": 824,
    "start_time": "2021-12-12T20:09:31.975Z"
   },
   {
    "duration": 12,
    "start_time": "2021-12-12T20:09:32.802Z"
   },
   {
    "duration": 4,
    "start_time": "2021-12-12T20:09:32.815Z"
   },
   {
    "duration": 296,
    "start_time": "2021-12-12T20:09:32.821Z"
   },
   {
    "duration": 140,
    "start_time": "2021-12-12T20:09:33.118Z"
   },
   {
    "duration": 370,
    "start_time": "2021-12-12T20:09:33.263Z"
   },
   {
    "duration": 208,
    "start_time": "2021-12-12T20:09:33.635Z"
   },
   {
    "duration": 237,
    "start_time": "2021-12-12T20:09:33.844Z"
   },
   {
    "duration": 237,
    "start_time": "2021-12-12T20:09:34.083Z"
   },
   {
    "duration": 201,
    "start_time": "2021-12-12T20:09:34.321Z"
   },
   {
    "duration": 544,
    "start_time": "2021-12-12T20:09:34.524Z"
   },
   {
    "duration": 218,
    "start_time": "2021-12-12T20:09:35.070Z"
   },
   {
    "duration": 226,
    "start_time": "2021-12-12T20:09:35.290Z"
   },
   {
    "duration": 222,
    "start_time": "2021-12-12T20:09:35.518Z"
   },
   {
    "duration": 37,
    "start_time": "2021-12-12T20:09:35.741Z"
   },
   {
    "duration": 7,
    "start_time": "2021-12-12T20:09:35.779Z"
   },
   {
    "duration": 11,
    "start_time": "2021-12-12T20:09:35.787Z"
   },
   {
    "duration": 7,
    "start_time": "2021-12-12T20:09:35.799Z"
   },
   {
    "duration": 226,
    "start_time": "2021-12-12T20:09:35.807Z"
   },
   {
    "duration": 8,
    "start_time": "2021-12-12T20:09:36.034Z"
   },
   {
    "duration": 314,
    "start_time": "2021-12-12T20:09:36.044Z"
   },
   {
    "duration": 191,
    "start_time": "2021-12-12T20:09:36.359Z"
   },
   {
    "duration": 373,
    "start_time": "2021-12-12T20:09:36.552Z"
   },
   {
    "duration": 219,
    "start_time": "2021-12-12T20:09:36.927Z"
   },
   {
    "duration": 226,
    "start_time": "2021-12-12T20:09:37.147Z"
   },
   {
    "duration": 229,
    "start_time": "2021-12-12T20:09:37.375Z"
   },
   {
    "duration": 1859,
    "start_time": "2021-12-13T16:42:34.930Z"
   },
   {
    "duration": 122,
    "start_time": "2021-12-13T16:42:36.792Z"
   },
   {
    "duration": 16,
    "start_time": "2021-12-13T16:42:36.920Z"
   },
   {
    "duration": 63,
    "start_time": "2021-12-13T16:42:36.939Z"
   },
   {
    "duration": 13,
    "start_time": "2021-12-13T16:42:37.005Z"
   },
   {
    "duration": 7,
    "start_time": "2021-12-13T16:42:37.020Z"
   },
   {
    "duration": 43,
    "start_time": "2021-12-13T16:42:37.032Z"
   },
   {
    "duration": 28,
    "start_time": "2021-12-13T16:42:37.078Z"
   },
   {
    "duration": 24,
    "start_time": "2021-12-13T16:42:37.108Z"
   },
   {
    "duration": 8,
    "start_time": "2021-12-13T16:42:37.167Z"
   },
   {
    "duration": 17,
    "start_time": "2021-12-13T16:42:37.178Z"
   },
   {
    "duration": 13,
    "start_time": "2021-12-13T16:42:37.198Z"
   },
   {
    "duration": 11,
    "start_time": "2021-12-13T16:42:37.213Z"
   },
   {
    "duration": 48,
    "start_time": "2021-12-13T16:42:37.226Z"
   },
   {
    "duration": 37,
    "start_time": "2021-12-13T16:42:37.276Z"
   },
   {
    "duration": 15,
    "start_time": "2021-12-13T16:42:37.315Z"
   },
   {
    "duration": 36,
    "start_time": "2021-12-13T16:42:37.333Z"
   },
   {
    "duration": 21,
    "start_time": "2021-12-13T16:42:37.371Z"
   },
   {
    "duration": 1009,
    "start_time": "2021-12-13T16:42:37.394Z"
   },
   {
    "duration": 9,
    "start_time": "2021-12-13T16:42:38.405Z"
   },
   {
    "duration": 54,
    "start_time": "2021-12-13T16:42:38.416Z"
   },
   {
    "duration": 41,
    "start_time": "2021-12-13T16:42:38.475Z"
   },
   {
    "duration": 727,
    "start_time": "2021-12-13T16:42:38.519Z"
   },
   {
    "duration": 965,
    "start_time": "2021-12-13T16:42:39.248Z"
   },
   {
    "duration": 1465,
    "start_time": "2021-12-13T16:42:40.215Z"
   },
   {
    "duration": 16,
    "start_time": "2021-12-13T16:42:41.683Z"
   },
   {
    "duration": 7,
    "start_time": "2021-12-13T16:42:41.702Z"
   },
   {
    "duration": 542,
    "start_time": "2021-12-13T16:42:41.711Z"
   },
   {
    "duration": 259,
    "start_time": "2021-12-13T16:42:42.257Z"
   },
   {
    "duration": 606,
    "start_time": "2021-12-13T16:42:42.518Z"
   },
   {
    "duration": 375,
    "start_time": "2021-12-13T16:42:43.127Z"
   },
   {
    "duration": 518,
    "start_time": "2021-12-13T16:42:43.505Z"
   },
   {
    "duration": 407,
    "start_time": "2021-12-13T16:42:44.026Z"
   },
   {
    "duration": 339,
    "start_time": "2021-12-13T16:42:44.436Z"
   },
   {
    "duration": 938,
    "start_time": "2021-12-13T16:42:44.777Z"
   },
   {
    "duration": 361,
    "start_time": "2021-12-13T16:42:45.718Z"
   },
   {
    "duration": 389,
    "start_time": "2021-12-13T16:42:46.082Z"
   },
   {
    "duration": 373,
    "start_time": "2021-12-13T16:42:46.473Z"
   },
   {
    "duration": 47,
    "start_time": "2021-12-13T16:42:46.848Z"
   },
   {
    "duration": 11,
    "start_time": "2021-12-13T16:42:46.897Z"
   },
   {
    "duration": 13,
    "start_time": "2021-12-13T16:42:46.911Z"
   },
   {
    "duration": 41,
    "start_time": "2021-12-13T16:42:46.927Z"
   },
   {
    "duration": 375,
    "start_time": "2021-12-13T16:42:46.971Z"
   },
   {
    "duration": 22,
    "start_time": "2021-12-13T16:42:47.348Z"
   },
   {
    "duration": 454,
    "start_time": "2021-12-13T16:42:47.372Z"
   },
   {
    "duration": 337,
    "start_time": "2021-12-13T16:42:47.829Z"
   },
   {
    "duration": 525,
    "start_time": "2021-12-13T16:42:48.169Z"
   },
   {
    "duration": 389,
    "start_time": "2021-12-13T16:42:48.696Z"
   },
   {
    "duration": 394,
    "start_time": "2021-12-13T16:42:49.087Z"
   },
   {
    "duration": 612,
    "start_time": "2021-12-13T16:42:49.483Z"
   },
   {
    "duration": 66,
    "start_time": "2021-12-13T17:45:01.702Z"
   },
   {
    "duration": 18,
    "start_time": "2021-12-13T17:45:10.632Z"
   },
   {
    "duration": 47781,
    "start_time": "2021-12-13T18:04:47.857Z"
   },
   {
    "duration": 1722,
    "start_time": "2021-12-13T18:13:04.455Z"
   },
   {
    "duration": 122,
    "start_time": "2021-12-13T18:13:06.180Z"
   },
   {
    "duration": 15,
    "start_time": "2021-12-13T18:13:06.305Z"
   },
   {
    "duration": 64,
    "start_time": "2021-12-13T18:13:06.323Z"
   },
   {
    "duration": 12,
    "start_time": "2021-12-13T18:13:06.389Z"
   },
   {
    "duration": 6,
    "start_time": "2021-12-13T18:13:06.403Z"
   },
   {
    "duration": 15,
    "start_time": "2021-12-13T18:13:06.412Z"
   },
   {
    "duration": 63,
    "start_time": "2021-12-13T18:13:06.430Z"
   },
   {
    "duration": 24,
    "start_time": "2021-12-13T18:13:06.497Z"
   },
   {
    "duration": 44,
    "start_time": "2021-12-13T18:13:06.524Z"
   },
   {
    "duration": 23,
    "start_time": "2021-12-13T18:13:06.570Z"
   },
   {
    "duration": 12,
    "start_time": "2021-12-13T18:13:06.595Z"
   },
   {
    "duration": 19,
    "start_time": "2021-12-13T18:13:06.609Z"
   },
   {
    "duration": 35,
    "start_time": "2021-12-13T18:13:06.631Z"
   },
   {
    "duration": 39,
    "start_time": "2021-12-13T18:13:06.669Z"
   },
   {
    "duration": 38,
    "start_time": "2021-12-13T18:13:06.711Z"
   },
   {
    "duration": 19,
    "start_time": "2021-12-13T18:13:06.751Z"
   },
   {
    "duration": 42,
    "start_time": "2021-12-13T18:13:06.773Z"
   },
   {
    "duration": 1358,
    "start_time": "2021-12-13T18:13:06.818Z"
   },
   {
    "duration": 9,
    "start_time": "2021-12-13T18:13:08.178Z"
   },
   {
    "duration": 51,
    "start_time": "2021-12-13T18:13:08.189Z"
   },
   {
    "duration": 56,
    "start_time": "2021-12-13T18:13:08.243Z"
   },
   {
    "duration": 737,
    "start_time": "2021-12-13T18:13:08.306Z"
   },
   {
    "duration": 1003,
    "start_time": "2021-12-13T18:13:09.047Z"
   },
   {
    "duration": 2360,
    "start_time": "2021-12-13T18:13:10.055Z"
   },
   {
    "duration": 20,
    "start_time": "2021-12-13T18:13:12.419Z"
   },
   {
    "duration": 26,
    "start_time": "2021-12-13T18:13:12.442Z"
   },
   {
    "duration": 766,
    "start_time": "2021-12-13T18:13:12.472Z"
   },
   {
    "duration": 247,
    "start_time": "2021-12-13T18:13:13.241Z"
   },
   {
    "duration": 580,
    "start_time": "2021-12-13T18:13:13.490Z"
   },
   {
    "duration": 377,
    "start_time": "2021-12-13T18:13:14.073Z"
   },
   {
    "duration": 408,
    "start_time": "2021-12-13T18:13:14.452Z"
   },
   {
    "duration": 22719,
    "start_time": "2021-12-13T18:13:14.867Z"
   },
   {
    "duration": 417,
    "start_time": "2021-12-13T18:13:37.589Z"
   },
   {
    "duration": 344,
    "start_time": "2021-12-13T18:13:38.008Z"
   },
   {
    "duration": 849,
    "start_time": "2021-12-13T18:13:38.355Z"
   },
   {
    "duration": 373,
    "start_time": "2021-12-13T18:13:39.206Z"
   },
   {
    "duration": 405,
    "start_time": "2021-12-13T18:13:39.581Z"
   },
   {
    "duration": 481,
    "start_time": "2021-12-13T18:13:39.988Z"
   },
   {
    "duration": 41,
    "start_time": "2021-12-13T18:13:40.471Z"
   },
   {
    "duration": 11,
    "start_time": "2021-12-13T18:13:40.515Z"
   },
   {
    "duration": 43,
    "start_time": "2021-12-13T18:13:40.529Z"
   },
   {
    "duration": 8,
    "start_time": "2021-12-13T18:13:40.574Z"
   },
   {
    "duration": 383,
    "start_time": "2021-12-13T18:13:40.584Z"
   },
   {
    "duration": 12,
    "start_time": "2021-12-13T18:13:40.969Z"
   },
   {
    "duration": 387,
    "start_time": "2021-12-13T18:13:40.983Z"
   },
   {
    "duration": 335,
    "start_time": "2021-12-13T18:13:41.373Z"
   },
   {
    "duration": 536,
    "start_time": "2021-12-13T18:13:41.711Z"
   },
   {
    "duration": 376,
    "start_time": "2021-12-13T18:13:42.249Z"
   },
   {
    "duration": 396,
    "start_time": "2021-12-13T18:13:42.628Z"
   },
   {
    "duration": 407,
    "start_time": "2021-12-13T18:13:43.026Z"
   },
   {
    "duration": 295,
    "start_time": "2021-12-13T19:16:48.753Z"
   },
   {
    "duration": 1603,
    "start_time": "2021-12-13T19:16:57.015Z"
   },
   {
    "duration": 115,
    "start_time": "2021-12-13T19:16:58.622Z"
   },
   {
    "duration": 17,
    "start_time": "2021-12-13T19:16:58.741Z"
   },
   {
    "duration": 63,
    "start_time": "2021-12-13T19:16:58.762Z"
   },
   {
    "duration": 12,
    "start_time": "2021-12-13T19:16:58.827Z"
   },
   {
    "duration": 5,
    "start_time": "2021-12-13T19:16:58.842Z"
   },
   {
    "duration": 14,
    "start_time": "2021-12-13T19:16:58.849Z"
   },
   {
    "duration": 62,
    "start_time": "2021-12-13T19:16:58.866Z"
   },
   {
    "duration": 22,
    "start_time": "2021-12-13T19:16:58.931Z"
   },
   {
    "duration": 8,
    "start_time": "2021-12-13T19:16:58.955Z"
   },
   {
    "duration": 19,
    "start_time": "2021-12-13T19:16:58.965Z"
   },
   {
    "duration": 41,
    "start_time": "2021-12-13T19:16:58.986Z"
   },
   {
    "duration": 10,
    "start_time": "2021-12-13T19:16:59.030Z"
   },
   {
    "duration": 6,
    "start_time": "2021-12-13T19:16:59.042Z"
   },
   {
    "duration": 7,
    "start_time": "2021-12-13T19:16:59.050Z"
   },
   {
    "duration": 14,
    "start_time": "2021-12-13T19:17:12.258Z"
   },
   {
    "duration": 3,
    "start_time": "2021-12-13T19:20:16.732Z"
   },
   {
    "duration": 4,
    "start_time": "2021-12-13T19:20:50.920Z"
   },
   {
    "duration": 79,
    "start_time": "2021-12-13T19:23:52.813Z"
   },
   {
    "duration": 78,
    "start_time": "2021-12-13T19:24:31.358Z"
   },
   {
    "duration": 83,
    "start_time": "2021-12-13T19:24:42.025Z"
   },
   {
    "duration": 84,
    "start_time": "2021-12-13T19:25:09.761Z"
   },
   {
    "duration": 89,
    "start_time": "2021-12-13T19:25:26.465Z"
   },
   {
    "duration": 16,
    "start_time": "2021-12-13T19:25:35.592Z"
   },
   {
    "duration": 153,
    "start_time": "2021-12-13T19:25:42.872Z"
   },
   {
    "duration": 130,
    "start_time": "2021-12-13T19:25:43.028Z"
   },
   {
    "duration": 24,
    "start_time": "2021-12-13T19:25:43.161Z"
   },
   {
    "duration": 57,
    "start_time": "2021-12-13T19:25:43.188Z"
   },
   {
    "duration": 12,
    "start_time": "2021-12-13T19:25:43.247Z"
   },
   {
    "duration": 6,
    "start_time": "2021-12-13T19:25:43.262Z"
   },
   {
    "duration": 47,
    "start_time": "2021-12-13T19:25:43.270Z"
   },
   {
    "duration": 27,
    "start_time": "2021-12-13T19:25:43.321Z"
   },
   {
    "duration": 40,
    "start_time": "2021-12-13T19:25:43.352Z"
   },
   {
    "duration": 24,
    "start_time": "2021-12-13T19:25:43.394Z"
   },
   {
    "duration": 17,
    "start_time": "2021-12-13T19:25:43.420Z"
   },
   {
    "duration": 12,
    "start_time": "2021-12-13T19:25:43.440Z"
   },
   {
    "duration": 13,
    "start_time": "2021-12-13T19:25:43.454Z"
   },
   {
    "duration": 5,
    "start_time": "2021-12-13T19:25:43.470Z"
   },
   {
    "duration": 40,
    "start_time": "2021-12-13T19:25:43.477Z"
   },
   {
    "duration": 37,
    "start_time": "2021-12-13T19:25:43.521Z"
   },
   {
    "duration": 15,
    "start_time": "2021-12-13T19:25:43.560Z"
   },
   {
    "duration": 42,
    "start_time": "2021-12-13T19:25:43.577Z"
   },
   {
    "duration": 22,
    "start_time": "2021-12-13T19:25:43.622Z"
   },
   {
    "duration": 964,
    "start_time": "2021-12-13T19:25:43.646Z"
   },
   {
    "duration": 8,
    "start_time": "2021-12-13T19:25:44.613Z"
   },
   {
    "duration": 48,
    "start_time": "2021-12-13T19:25:44.624Z"
   },
   {
    "duration": 54,
    "start_time": "2021-12-13T19:25:44.678Z"
   },
   {
    "duration": 712,
    "start_time": "2021-12-13T19:25:44.735Z"
   },
   {
    "duration": 991,
    "start_time": "2021-12-13T19:25:45.449Z"
   },
   {
    "duration": 18,
    "start_time": "2021-12-13T19:25:46.442Z"
   },
   {
    "duration": 1608,
    "start_time": "2021-12-13T19:25:46.463Z"
   },
   {
    "duration": 14,
    "start_time": "2021-12-13T19:25:48.073Z"
   },
   {
    "duration": 6,
    "start_time": "2021-12-13T19:25:48.118Z"
   },
   {
    "duration": 500,
    "start_time": "2021-12-13T19:25:48.127Z"
   },
   {
    "duration": 321,
    "start_time": "2021-12-13T19:25:48.630Z"
   },
   {
    "duration": 481,
    "start_time": "2021-12-13T19:25:48.953Z"
   },
   {
    "duration": 359,
    "start_time": "2021-12-13T19:25:49.436Z"
   },
   {
    "duration": 388,
    "start_time": "2021-12-13T19:25:49.797Z"
   },
   {
    "duration": 398,
    "start_time": "2021-12-13T19:25:50.187Z"
   },
   {
    "duration": 321,
    "start_time": "2021-12-13T19:25:50.588Z"
   },
   {
    "duration": 795,
    "start_time": "2021-12-13T19:25:50.917Z"
   },
   {
    "duration": 359,
    "start_time": "2021-12-13T19:25:51.714Z"
   },
   {
    "duration": 418,
    "start_time": "2021-12-13T19:25:52.076Z"
   },
   {
    "duration": 379,
    "start_time": "2021-12-13T19:25:52.497Z"
   },
   {
    "duration": 59,
    "start_time": "2021-12-13T19:25:52.879Z"
   },
   {
    "duration": 11,
    "start_time": "2021-12-13T19:25:52.941Z"
   },
   {
    "duration": 12,
    "start_time": "2021-12-13T19:25:52.955Z"
   },
   {
    "duration": 10,
    "start_time": "2021-12-13T19:25:52.969Z"
   },
   {
    "duration": 474,
    "start_time": "2021-12-13T19:25:52.981Z"
   },
   {
    "duration": 12,
    "start_time": "2021-12-13T19:25:53.457Z"
   },
   {
    "duration": 374,
    "start_time": "2021-12-13T19:25:53.471Z"
   },
   {
    "duration": 340,
    "start_time": "2021-12-13T19:25:53.848Z"
   },
   {
    "duration": 547,
    "start_time": "2021-12-13T19:25:54.191Z"
   },
   {
    "duration": 360,
    "start_time": "2021-12-13T19:25:54.741Z"
   },
   {
    "duration": 377,
    "start_time": "2021-12-13T19:25:55.103Z"
   },
   {
    "duration": 382,
    "start_time": "2021-12-13T19:25:55.482Z"
   },
   {
    "duration": 99,
    "start_time": "2021-12-13T19:31:00.587Z"
   },
   {
    "duration": 19,
    "start_time": "2021-12-13T19:31:10.917Z"
   },
   {
    "duration": 19,
    "start_time": "2021-12-13T19:31:30.741Z"
   },
   {
    "duration": 14,
    "start_time": "2021-12-13T19:32:46.578Z"
   },
   {
    "duration": 13,
    "start_time": "2021-12-13T19:33:39.952Z"
   },
   {
    "duration": 13,
    "start_time": "2021-12-13T19:33:54.734Z"
   },
   {
    "duration": 18,
    "start_time": "2021-12-13T19:34:29.462Z"
   },
   {
    "duration": 18,
    "start_time": "2021-12-13T19:34:53.748Z"
   },
   {
    "duration": 17,
    "start_time": "2021-12-13T19:35:21.261Z"
   },
   {
    "duration": 18,
    "start_time": "2021-12-13T19:35:26.117Z"
   },
   {
    "duration": 20,
    "start_time": "2021-12-13T19:35:58.884Z"
   },
   {
    "duration": 19,
    "start_time": "2021-12-13T19:36:04.723Z"
   },
   {
    "duration": 342,
    "start_time": "2021-12-13T19:36:58.980Z"
   },
   {
    "duration": 12,
    "start_time": "2021-12-13T19:37:35.131Z"
   },
   {
    "duration": 78,
    "start_time": "2021-12-13T19:38:09.596Z"
   },
   {
    "duration": 94,
    "start_time": "2021-12-13T19:38:16.644Z"
   },
   {
    "duration": 20,
    "start_time": "2021-12-13T19:38:25.707Z"
   },
   {
    "duration": 1659,
    "start_time": "2021-12-13T19:38:34.195Z"
   },
   {
    "duration": 123,
    "start_time": "2021-12-13T19:44:19.966Z"
   },
   {
    "duration": 18,
    "start_time": "2021-12-13T19:49:24.334Z"
   },
   {
    "duration": 2050,
    "start_time": "2021-12-13T19:54:24.431Z"
   },
   {
    "duration": 169,
    "start_time": "2021-12-13T19:54:26.484Z"
   },
   {
    "duration": 24,
    "start_time": "2021-12-13T19:54:26.657Z"
   },
   {
    "duration": 89,
    "start_time": "2021-12-13T19:54:26.685Z"
   },
   {
    "duration": 18,
    "start_time": "2021-12-13T19:54:26.777Z"
   },
   {
    "duration": 24,
    "start_time": "2021-12-13T19:54:26.798Z"
   },
   {
    "duration": 18,
    "start_time": "2021-12-13T19:54:26.825Z"
   },
   {
    "duration": 26,
    "start_time": "2021-12-13T19:54:26.846Z"
   },
   {
    "duration": 59,
    "start_time": "2021-12-13T19:54:26.877Z"
   },
   {
    "duration": 11,
    "start_time": "2021-12-13T19:54:26.940Z"
   },
   {
    "duration": 25,
    "start_time": "2021-12-13T19:54:26.954Z"
   },
   {
    "duration": 47,
    "start_time": "2021-12-13T19:54:26.982Z"
   },
   {
    "duration": 10,
    "start_time": "2021-12-13T19:54:27.032Z"
   },
   {
    "duration": 12,
    "start_time": "2021-12-13T19:54:27.044Z"
   },
   {
    "duration": 6,
    "start_time": "2021-12-13T19:54:27.058Z"
   },
   {
    "duration": 16,
    "start_time": "2021-12-13T19:54:27.066Z"
   },
   {
    "duration": 73,
    "start_time": "2021-12-13T19:54:27.084Z"
   },
   {
    "duration": 18,
    "start_time": "2021-12-13T19:54:27.160Z"
   },
   {
    "duration": 37,
    "start_time": "2021-12-13T19:54:27.180Z"
   },
   {
    "duration": 20,
    "start_time": "2021-12-13T19:54:27.220Z"
   },
   {
    "duration": 1043,
    "start_time": "2021-12-13T19:54:27.242Z"
   },
   {
    "duration": 7,
    "start_time": "2021-12-13T19:54:28.288Z"
   },
   {
    "duration": 53,
    "start_time": "2021-12-13T19:54:28.298Z"
   },
   {
    "duration": 63,
    "start_time": "2021-12-13T19:54:28.354Z"
   },
   {
    "duration": 627,
    "start_time": "2021-12-13T19:54:28.423Z"
   },
   {
    "duration": 1154,
    "start_time": "2021-12-13T19:54:29.053Z"
   },
   {
    "duration": 34,
    "start_time": "2021-12-13T19:54:30.222Z"
   },
   {
    "duration": 1480,
    "start_time": "2021-12-13T19:54:30.259Z"
   },
   {
    "duration": 13,
    "start_time": "2021-12-13T19:54:31.742Z"
   },
   {
    "duration": 6,
    "start_time": "2021-12-13T19:54:31.758Z"
   },
   {
    "duration": 528,
    "start_time": "2021-12-13T19:54:31.766Z"
   },
   {
    "duration": 250,
    "start_time": "2021-12-13T19:54:32.297Z"
   },
   {
    "duration": 585,
    "start_time": "2021-12-13T19:54:32.550Z"
   },
   {
    "duration": 369,
    "start_time": "2021-12-13T19:54:33.138Z"
   },
   {
    "duration": 371,
    "start_time": "2021-12-13T19:54:33.509Z"
   },
   {
    "duration": 356,
    "start_time": "2021-12-13T19:54:33.882Z"
   },
   {
    "duration": 430,
    "start_time": "2021-12-13T19:54:34.241Z"
   },
   {
    "duration": 1083,
    "start_time": "2021-12-13T19:54:34.674Z"
   },
   {
    "duration": 370,
    "start_time": "2021-12-13T19:54:35.760Z"
   },
   {
    "duration": 540,
    "start_time": "2021-12-13T19:54:36.133Z"
   },
   {
    "duration": 361,
    "start_time": "2021-12-13T19:54:36.676Z"
   },
   {
    "duration": 40,
    "start_time": "2021-12-13T19:54:37.040Z"
   },
   {
    "duration": 41,
    "start_time": "2021-12-13T19:54:37.083Z"
   },
   {
    "duration": 16,
    "start_time": "2021-12-13T19:54:37.127Z"
   },
   {
    "duration": 9,
    "start_time": "2021-12-13T19:54:37.145Z"
   },
   {
    "duration": 348,
    "start_time": "2021-12-13T19:54:37.157Z"
   },
   {
    "duration": 25,
    "start_time": "2021-12-13T19:54:37.508Z"
   },
   {
    "duration": 436,
    "start_time": "2021-12-13T19:54:37.536Z"
   },
   {
    "duration": 298,
    "start_time": "2021-12-13T19:54:37.974Z"
   },
   {
    "duration": 495,
    "start_time": "2021-12-13T19:54:38.275Z"
   },
   {
    "duration": 350,
    "start_time": "2021-12-13T19:54:38.773Z"
   },
   {
    "duration": 533,
    "start_time": "2021-12-13T19:54:39.126Z"
   },
   {
    "duration": 541,
    "start_time": "2021-12-13T19:54:39.662Z"
   },
   {
    "duration": 124,
    "start_time": "2021-12-13T19:58:55.597Z"
   },
   {
    "duration": 1654,
    "start_time": "2021-12-13T19:59:03.392Z"
   },
   {
    "duration": 116,
    "start_time": "2021-12-13T19:59:05.048Z"
   },
   {
    "duration": 14,
    "start_time": "2021-12-13T19:59:05.167Z"
   },
   {
    "duration": 61,
    "start_time": "2021-12-13T19:59:05.184Z"
   },
   {
    "duration": 12,
    "start_time": "2021-12-13T19:59:05.248Z"
   },
   {
    "duration": 7,
    "start_time": "2021-12-13T19:59:05.262Z"
   },
   {
    "duration": 26,
    "start_time": "2021-12-13T19:59:05.271Z"
   },
   {
    "duration": 33,
    "start_time": "2021-12-13T19:59:05.321Z"
   },
   {
    "duration": 23,
    "start_time": "2021-12-13T19:59:05.357Z"
   },
   {
    "duration": 41,
    "start_time": "2021-12-13T19:59:05.383Z"
   },
   {
    "duration": 24,
    "start_time": "2021-12-13T19:59:05.427Z"
   },
   {
    "duration": 14,
    "start_time": "2021-12-13T19:59:05.453Z"
   },
   {
    "duration": 15,
    "start_time": "2021-12-13T19:59:05.469Z"
   },
   {
    "duration": 10,
    "start_time": "2021-12-13T19:59:05.486Z"
   },
   {
    "duration": 8,
    "start_time": "2021-12-13T19:59:05.517Z"
   },
   {
    "duration": 21,
    "start_time": "2021-12-13T19:59:05.528Z"
   },
   {
    "duration": 30,
    "start_time": "2021-12-13T19:59:05.552Z"
   },
   {
    "duration": 42,
    "start_time": "2021-12-13T19:59:05.585Z"
   },
   {
    "duration": 10,
    "start_time": "2021-12-13T19:59:05.630Z"
   },
   {
    "duration": 25,
    "start_time": "2021-12-13T19:59:05.642Z"
   },
   {
    "duration": 1009,
    "start_time": "2021-12-13T19:59:05.670Z"
   },
   {
    "duration": 9,
    "start_time": "2021-12-13T19:59:06.681Z"
   },
   {
    "duration": 49,
    "start_time": "2021-12-13T19:59:06.696Z"
   },
   {
    "duration": 42,
    "start_time": "2021-12-13T19:59:06.749Z"
   },
   {
    "duration": 760,
    "start_time": "2021-12-13T19:59:06.794Z"
   },
   {
    "duration": 1090,
    "start_time": "2021-12-13T19:59:07.557Z"
   },
   {
    "duration": 20,
    "start_time": "2021-12-13T19:59:08.650Z"
   },
   {
    "duration": 1613,
    "start_time": "2021-12-13T19:59:08.672Z"
   },
   {
    "duration": 37,
    "start_time": "2021-12-13T19:59:10.288Z"
   },
   {
    "duration": 6,
    "start_time": "2021-12-13T19:59:10.334Z"
   },
   {
    "duration": 518,
    "start_time": "2021-12-13T19:59:10.342Z"
   },
   {
    "duration": 268,
    "start_time": "2021-12-13T19:59:10.862Z"
   },
   {
    "duration": 612,
    "start_time": "2021-12-13T19:59:11.133Z"
   },
   {
    "duration": 382,
    "start_time": "2021-12-13T19:59:11.747Z"
   },
   {
    "duration": 351,
    "start_time": "2021-12-13T19:59:12.132Z"
   },
   {
    "duration": 383,
    "start_time": "2021-12-13T19:59:12.485Z"
   },
   {
    "duration": 313,
    "start_time": "2021-12-13T19:59:12.871Z"
   },
   {
    "duration": 802,
    "start_time": "2021-12-13T19:59:13.187Z"
   },
   {
    "duration": 343,
    "start_time": "2021-12-13T19:59:13.992Z"
   },
   {
    "duration": 346,
    "start_time": "2021-12-13T19:59:14.338Z"
   },
   {
    "duration": 362,
    "start_time": "2021-12-13T19:59:14.686Z"
   },
   {
    "duration": 39,
    "start_time": "2021-12-13T19:59:15.051Z"
   },
   {
    "duration": 28,
    "start_time": "2021-12-13T19:59:15.093Z"
   },
   {
    "duration": 16,
    "start_time": "2021-12-13T19:59:15.124Z"
   },
   {
    "duration": 8,
    "start_time": "2021-12-13T19:59:15.143Z"
   },
   {
    "duration": 360,
    "start_time": "2021-12-13T19:59:15.153Z"
   },
   {
    "duration": 15,
    "start_time": "2021-12-13T19:59:15.517Z"
   },
   {
    "duration": 372,
    "start_time": "2021-12-13T19:59:15.534Z"
   },
   {
    "duration": 305,
    "start_time": "2021-12-13T19:59:15.908Z"
   },
   {
    "duration": 577,
    "start_time": "2021-12-13T19:59:16.216Z"
   },
   {
    "duration": 353,
    "start_time": "2021-12-13T19:59:16.796Z"
   },
   {
    "duration": 370,
    "start_time": "2021-12-13T19:59:17.152Z"
   },
   {
    "duration": 372,
    "start_time": "2021-12-13T19:59:17.525Z"
   },
   {
    "duration": 431,
    "start_time": "2021-12-13T20:01:24.361Z"
   },
   {
    "duration": 277,
    "start_time": "2021-12-13T20:02:34.919Z"
   },
   {
    "duration": 18526,
    "start_time": "2021-12-13T20:03:15.921Z"
   },
   {
    "duration": 12,
    "start_time": "2021-12-13T20:06:01.533Z"
   },
   {
    "duration": 439,
    "start_time": "2021-12-13T20:06:07.165Z"
   },
   {
    "duration": 292,
    "start_time": "2021-12-13T20:06:18.855Z"
   },
   {
    "duration": 1926,
    "start_time": "2021-12-13T20:11:38.242Z"
   },
   {
    "duration": 157,
    "start_time": "2021-12-13T20:11:40.171Z"
   },
   {
    "duration": 23,
    "start_time": "2021-12-13T20:11:40.332Z"
   },
   {
    "duration": 99,
    "start_time": "2021-12-13T20:11:40.359Z"
   },
   {
    "duration": 17,
    "start_time": "2021-12-13T20:11:40.461Z"
   },
   {
    "duration": 30,
    "start_time": "2021-12-13T20:11:40.481Z"
   },
   {
    "duration": 27,
    "start_time": "2021-12-13T20:11:40.517Z"
   },
   {
    "duration": 40,
    "start_time": "2021-12-13T20:11:40.547Z"
   },
   {
    "duration": 33,
    "start_time": "2021-12-13T20:11:40.594Z"
   },
   {
    "duration": 10,
    "start_time": "2021-12-13T20:11:40.633Z"
   },
   {
    "duration": 32,
    "start_time": "2021-12-13T20:11:40.646Z"
   },
   {
    "duration": 17,
    "start_time": "2021-12-13T20:11:40.681Z"
   },
   {
    "duration": 33,
    "start_time": "2021-12-13T20:11:40.701Z"
   },
   {
    "duration": 25,
    "start_time": "2021-12-13T20:11:40.737Z"
   },
   {
    "duration": 19,
    "start_time": "2021-12-13T20:11:40.764Z"
   },
   {
    "duration": 21,
    "start_time": "2021-12-13T20:11:40.785Z"
   },
   {
    "duration": 34,
    "start_time": "2021-12-13T20:11:40.809Z"
   },
   {
    "duration": 14,
    "start_time": "2021-12-13T20:11:40.845Z"
   },
   {
    "duration": 15,
    "start_time": "2021-12-13T20:11:40.862Z"
   },
   {
    "duration": 47,
    "start_time": "2021-12-13T20:11:40.880Z"
   },
   {
    "duration": 1029,
    "start_time": "2021-12-13T20:11:40.929Z"
   },
   {
    "duration": 10,
    "start_time": "2021-12-13T20:11:41.961Z"
   },
   {
    "duration": 88,
    "start_time": "2021-12-13T20:11:41.974Z"
   },
   {
    "duration": 65,
    "start_time": "2021-12-13T20:11:42.065Z"
   },
   {
    "duration": 635,
    "start_time": "2021-12-13T20:11:42.133Z"
   },
   {
    "duration": 972,
    "start_time": "2021-12-13T20:11:42.771Z"
   },
   {
    "duration": 20,
    "start_time": "2021-12-13T20:11:43.748Z"
   },
   {
    "duration": 1511,
    "start_time": "2021-12-13T20:11:43.771Z"
   },
   {
    "duration": 14,
    "start_time": "2021-12-13T20:11:45.284Z"
   },
   {
    "duration": 22,
    "start_time": "2021-12-13T20:11:45.301Z"
   },
   {
    "duration": 507,
    "start_time": "2021-12-13T20:11:45.325Z"
   },
   {
    "duration": 369,
    "start_time": "2021-12-13T20:11:45.836Z"
   },
   {
    "duration": 841,
    "start_time": "2021-12-13T20:11:46.209Z"
   },
   {
    "duration": 403,
    "start_time": "2021-12-13T20:11:47.053Z"
   },
   {
    "duration": 512,
    "start_time": "2021-12-13T20:11:47.458Z"
   },
   {
    "duration": 396,
    "start_time": "2021-12-13T20:11:48.021Z"
   },
   {
    "duration": 470,
    "start_time": "2021-12-13T20:11:48.420Z"
   },
   {
    "duration": 1084,
    "start_time": "2021-12-13T20:11:48.893Z"
   },
   {
    "duration": 506,
    "start_time": "2021-12-13T20:11:49.981Z"
   },
   {
    "duration": 386,
    "start_time": "2021-12-13T20:11:50.490Z"
   },
   {
    "duration": 392,
    "start_time": "2021-12-13T20:11:50.879Z"
   },
   {
    "duration": 60,
    "start_time": "2021-12-13T20:11:51.274Z"
   },
   {
    "duration": 15,
    "start_time": "2021-12-13T20:11:51.337Z"
   },
   {
    "duration": 14,
    "start_time": "2021-12-13T20:11:51.355Z"
   },
   {
    "duration": 10,
    "start_time": "2021-12-13T20:11:51.372Z"
   },
   {
    "duration": 443,
    "start_time": "2021-12-13T20:11:51.385Z"
   },
   {
    "duration": 16,
    "start_time": "2021-12-13T20:11:51.831Z"
   },
   {
    "duration": 538,
    "start_time": "2021-12-13T20:11:51.850Z"
   },
   {
    "duration": 377,
    "start_time": "2021-12-13T20:11:52.391Z"
   },
   {
    "duration": 563,
    "start_time": "2021-12-13T20:11:52.771Z"
   },
   {
    "duration": 393,
    "start_time": "2021-12-13T20:11:53.337Z"
   },
   {
    "duration": 382,
    "start_time": "2021-12-13T20:11:53.733Z"
   },
   {
    "duration": 490,
    "start_time": "2021-12-13T20:11:54.120Z"
   },
   {
    "duration": 78,
    "start_time": "2021-12-13T20:13:48.726Z"
   },
   {
    "duration": 1348,
    "start_time": "2021-12-14T16:51:48.788Z"
   },
   {
    "duration": 74,
    "start_time": "2021-12-14T16:51:50.138Z"
   },
   {
    "duration": 13,
    "start_time": "2021-12-14T16:51:50.215Z"
   },
   {
    "duration": 46,
    "start_time": "2021-12-14T16:51:50.230Z"
   },
   {
    "duration": 9,
    "start_time": "2021-12-14T16:51:50.277Z"
   },
   {
    "duration": 5,
    "start_time": "2021-12-14T16:51:50.287Z"
   },
   {
    "duration": 10,
    "start_time": "2021-12-14T16:51:50.294Z"
   },
   {
    "duration": 18,
    "start_time": "2021-12-14T16:51:50.307Z"
   },
   {
    "duration": 50,
    "start_time": "2021-12-14T16:51:50.328Z"
   },
   {
    "duration": 7,
    "start_time": "2021-12-14T16:51:50.381Z"
   },
   {
    "duration": 19,
    "start_time": "2021-12-14T16:51:50.390Z"
   },
   {
    "duration": 11,
    "start_time": "2021-12-14T16:51:50.411Z"
   },
   {
    "duration": 8,
    "start_time": "2021-12-14T16:51:50.424Z"
   },
   {
    "duration": 31,
    "start_time": "2021-12-14T16:51:50.434Z"
   },
   {
    "duration": 5,
    "start_time": "2021-12-14T16:51:50.467Z"
   },
   {
    "duration": 25,
    "start_time": "2021-12-14T16:51:50.474Z"
   },
   {
    "duration": 20,
    "start_time": "2021-12-14T16:51:50.501Z"
   },
   {
    "duration": 12,
    "start_time": "2021-12-14T16:51:50.522Z"
   },
   {
    "duration": 27,
    "start_time": "2021-12-14T16:51:50.536Z"
   },
   {
    "duration": 13,
    "start_time": "2021-12-14T16:51:50.565Z"
   },
   {
    "duration": 569,
    "start_time": "2021-12-14T16:51:50.580Z"
   },
   {
    "duration": 12,
    "start_time": "2021-12-14T16:51:51.151Z"
   },
   {
    "duration": 26,
    "start_time": "2021-12-14T16:51:51.166Z"
   },
   {
    "duration": 26,
    "start_time": "2021-12-14T16:51:51.194Z"
   },
   {
    "duration": 360,
    "start_time": "2021-12-14T16:51:51.222Z"
   },
   {
    "duration": 594,
    "start_time": "2021-12-14T16:51:51.584Z"
   },
   {
    "duration": 14,
    "start_time": "2021-12-14T16:51:52.180Z"
   },
   {
    "duration": 903,
    "start_time": "2021-12-14T16:51:52.196Z"
   },
   {
    "duration": 9,
    "start_time": "2021-12-14T16:51:53.101Z"
   },
   {
    "duration": 4,
    "start_time": "2021-12-14T16:51:53.111Z"
   },
   {
    "duration": 304,
    "start_time": "2021-12-14T16:51:53.117Z"
   },
   {
    "duration": 141,
    "start_time": "2021-12-14T16:51:53.423Z"
   },
   {
    "duration": 356,
    "start_time": "2021-12-14T16:51:53.566Z"
   },
   {
    "duration": 200,
    "start_time": "2021-12-14T16:51:53.923Z"
   },
   {
    "duration": 203,
    "start_time": "2021-12-14T16:51:54.124Z"
   },
   {
    "duration": 197,
    "start_time": "2021-12-14T16:51:54.328Z"
   },
   {
    "duration": 173,
    "start_time": "2021-12-14T16:51:54.527Z"
   },
   {
    "duration": 499,
    "start_time": "2021-12-14T16:51:54.701Z"
   },
   {
    "duration": 183,
    "start_time": "2021-12-14T16:51:55.201Z"
   },
   {
    "duration": 195,
    "start_time": "2021-12-14T16:51:55.386Z"
   },
   {
    "duration": 198,
    "start_time": "2021-12-14T16:51:55.582Z"
   },
   {
    "duration": 24,
    "start_time": "2021-12-14T16:51:55.782Z"
   },
   {
    "duration": 6,
    "start_time": "2021-12-14T16:51:55.808Z"
   },
   {
    "duration": 8,
    "start_time": "2021-12-14T16:51:55.815Z"
   },
   {
    "duration": 7,
    "start_time": "2021-12-14T16:51:55.824Z"
   },
   {
    "duration": 216,
    "start_time": "2021-12-14T16:51:55.832Z"
   },
   {
    "duration": 20,
    "start_time": "2021-12-14T16:51:56.050Z"
   },
   {
    "duration": 185,
    "start_time": "2021-12-14T16:51:56.071Z"
   },
   {
    "duration": 176,
    "start_time": "2021-12-14T16:51:56.262Z"
   },
   {
    "duration": 440,
    "start_time": "2021-12-14T16:51:56.440Z"
   },
   {
    "duration": 193,
    "start_time": "2021-12-14T16:51:56.882Z"
   },
   {
    "duration": 191,
    "start_time": "2021-12-14T16:51:57.076Z"
   },
   {
    "duration": 215,
    "start_time": "2021-12-14T16:51:57.269Z"
   }
  ],
  "kernelspec": {
   "display_name": "Python 3 (ipykernel)",
   "language": "python",
   "name": "python3"
  },
  "language_info": {
   "codemirror_mode": {
    "name": "ipython",
    "version": 3
   },
   "file_extension": ".py",
   "mimetype": "text/x-python",
   "name": "python",
   "nbconvert_exporter": "python",
   "pygments_lexer": "ipython3",
   "version": "3.10.0"
  },
  "toc": {
   "base_numbering": 1,
   "nav_menu": {},
   "number_sections": true,
   "sideBar": false,
   "skip_h1_title": true,
   "title_cell": "Содержание",
   "title_sidebar": "Contents",
   "toc_cell": true,
   "toc_position": {
    "height": "47.5px",
    "left": "660px",
    "top": "111px",
    "width": "212px"
   },
   "toc_section_display": true,
   "toc_window_display": false
  }
 },
 "nbformat": 4,
 "nbformat_minor": 2
}
